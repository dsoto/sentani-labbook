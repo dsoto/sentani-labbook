{
 "cells": [
  {
   "cell_type": "code",
   "execution_count": 16,
   "metadata": {
    "collapsed": true
   },
   "outputs": [],
   "source": [
    "%matplotlib inline\n",
    "import matplotlib.pyplot as plt\n",
    "import seaborn as sns\n",
    "import pandas as pd\n",
    "import numpy as np\n",
    "import pysentani as sti"
   ]
  },
  {
   "cell_type": "code",
   "execution_count": 31,
   "metadata": {
    "collapsed": false
   },
   "outputs": [],
   "source": [
    "survey = pd.read_excel('../data-anonymous/sentani-merged-cleaned-anonymous-2014-11-29.xlsx')\n",
    "\n",
    "# pysentani access type function\n",
    "survey['access_type'] = sti.access_type(survey)\n",
    "survey = survey[['app_now/rice_cooker',\n",
    "                 'app_now/TV',\n",
    "                 'app_now/fridge',\n",
    "                 'app_now/fan',\n",
    "                 'app_now/lighting',\n",
    "                 'app_now/radio',\n",
    "                 'app_buy/rice_cooker',\n",
    "                 'app_buy/TV',\n",
    "                 'HP_y_n',\n",
    "                 'app_buy/fridge',\n",
    "                 'app_buy/fan',\n",
    "                 'app_buy/lighting',\n",
    "                 'app_buy/radio',\n",
    "                 'access_type',]]\n",
    "survey = survey.dropna()\n"
   ]
  },
  {
   "cell_type": "code",
   "execution_count": 32,
   "metadata": {
    "collapsed": true
   },
   "outputs": [],
   "source": [
    "# selecting only demand points that are households\n",
    "# survey = survey[survey['demand_point'] == 'household']"
   ]
  },
  {
   "cell_type": "code",
   "execution_count": 33,
   "metadata": {
    "collapsed": false
   },
   "outputs": [],
   "source": [
    "# renaming columns\n",
    "survey.rename(columns={'app_now/rice_cooker': 'Rice Cooker',\n",
    "                       'app_now/TV': 'TV',\n",
    "                       'app_now/fridge': 'Fridge',\n",
    "                       'app_now/fan':'Fan',\n",
    "                       'app_now/lighting': 'Lighting',\n",
    "                       'app_now/radio': 'Radio',\n",
    "                       'HP_y_n': 'Mobile Phone',\n",
    "                       'access_type': 'Access Type'},\n",
    "                                 inplace = True)\n",
    "\n",
    "\n",
    "# renaming subcategories of Access Type\n",
    "survey.replace(to_replace = {'Access Type': {'PLN_grid': 'PLN Grid',\n",
    "                                             'community_microgrid': 'Community Microgrid',\n",
    "                                             'PLN_microgrid': 'PLN Microgrid',\n",
    "                                             'no_access': 'No Access'}},inplace = True)"
   ]
  },
  {
   "cell_type": "code",
   "execution_count": 34,
   "metadata": {
    "collapsed": false
   },
   "outputs": [],
   "source": [
    "# creating new dataframe that classifies each owned appliance by access type\n",
    "subsurvey = survey[['Access Type',\n",
    "                    'TV','Lighting','Mobile Phone','Radio',\n",
    "                    'Rice Cooker','Fridge','Fan']]"
   ]
  },
  {
   "cell_type": "code",
   "execution_count": 35,
   "metadata": {
    "collapsed": false
   },
   "outputs": [
    {
     "data": {
      "text/html": [
       "<div>\n",
       "<table border=\"1\" class=\"dataframe\">\n",
       "  <thead>\n",
       "    <tr style=\"text-align: right;\">\n",
       "      <th>Access Type</th>\n",
       "      <th>Community Microgrid</th>\n",
       "      <th>No Access</th>\n",
       "      <th>PLN Grid</th>\n",
       "      <th>PLN Microgrid</th>\n",
       "    </tr>\n",
       "  </thead>\n",
       "  <tbody>\n",
       "    <tr>\n",
       "      <th>TV</th>\n",
       "      <td>0.931818</td>\n",
       "      <td>0.807692</td>\n",
       "      <td>0.797590</td>\n",
       "      <td>0.808696</td>\n",
       "    </tr>\n",
       "    <tr>\n",
       "      <th>Lighting</th>\n",
       "      <td>0.909091</td>\n",
       "      <td>0.912088</td>\n",
       "      <td>0.927711</td>\n",
       "      <td>0.965217</td>\n",
       "    </tr>\n",
       "    <tr>\n",
       "      <th>Mobile Phone</th>\n",
       "      <td>0.840909</td>\n",
       "      <td>0.824176</td>\n",
       "      <td>0.715663</td>\n",
       "      <td>0.800000</td>\n",
       "    </tr>\n",
       "    <tr>\n",
       "      <th>Radio</th>\n",
       "      <td>0.522727</td>\n",
       "      <td>0.445055</td>\n",
       "      <td>0.303614</td>\n",
       "      <td>0.295652</td>\n",
       "    </tr>\n",
       "    <tr>\n",
       "      <th>Rice Cooker</th>\n",
       "      <td>0.136364</td>\n",
       "      <td>0.016484</td>\n",
       "      <td>0.272289</td>\n",
       "      <td>0.017391</td>\n",
       "    </tr>\n",
       "    <tr>\n",
       "      <th>Fridge</th>\n",
       "      <td>0.022727</td>\n",
       "      <td>0.010989</td>\n",
       "      <td>0.315663</td>\n",
       "      <td>0.026087</td>\n",
       "    </tr>\n",
       "    <tr>\n",
       "      <th>Fan</th>\n",
       "      <td>0.090909</td>\n",
       "      <td>0.098901</td>\n",
       "      <td>0.154217</td>\n",
       "      <td>0.026087</td>\n",
       "    </tr>\n",
       "  </tbody>\n",
       "</table>\n",
       "</div>"
      ],
      "text/plain": [
       "Access Type   Community Microgrid  No Access  PLN Grid  PLN Microgrid\n",
       "TV                       0.931818   0.807692  0.797590       0.808696\n",
       "Lighting                 0.909091   0.912088  0.927711       0.965217\n",
       "Mobile Phone             0.840909   0.824176  0.715663       0.800000\n",
       "Radio                    0.522727   0.445055  0.303614       0.295652\n",
       "Rice Cooker              0.136364   0.016484  0.272289       0.017391\n",
       "Fridge                   0.022727   0.010989  0.315663       0.026087\n",
       "Fan                      0.090909   0.098901  0.154217       0.026087"
      ]
     },
     "execution_count": 35,
     "metadata": {},
     "output_type": "execute_result"
    }
   ],
   "source": [
    "# grouping new dataframe of appliances into specific access types\n",
    "analyzed = subsurvey.groupby('Access Type').mean()\n",
    "analyzed.transpose()"
   ]
  },
  {
   "cell_type": "code",
   "execution_count": 36,
   "metadata": {
    "collapsed": false
   },
   "outputs": [],
   "source": [
    "# creating variables for barplot graph\n",
    "analyzed['Access Type'] = analyzed.index\n",
    "melted = pd.melt(analyzed, \n",
    "                 id_vars=['Access Type'],\n",
    "                 value_vars=['TV','Lighting','Mobile Phone','Radio',\n",
    "                             'Rice Cooker','Fridge','Fan'],\n",
    "                 value_name='Percent Ownership')"
   ]
  },
  {
   "cell_type": "code",
   "execution_count": 37,
   "metadata": {
    "collapsed": false
   },
   "outputs": [
    {
     "data": {
      "image/png": "[encoded data removed]",
      "text/plain": [
       "<matplotlib.figure.Figure at 0x1056b0240>"
      ]
     },
     "metadata": {},
     "output_type": "display_data"
    }
   ],
   "source": [
    "plt.figure(figsize=(13,8))\n",
    "sns.barplot(x='variable', y='Percent Ownership', hue='Access Type',\n",
    "            hue_order = ['PLN Grid','PLN Microgrid','Community Microgrid','No Access'],\n",
    "            saturation=5, data=melted)\n",
    "plt.legend(loc='upper right',prop={'size':14})\n",
    "plt.xlabel('Appliance Type', fontsize=14)\n",
    "plt.ylabel('Percent Ownership', fontsize=14)\n",
    "plt.tick_params(labelsize=12)\n",
    "plt.savefig('appliance-ownership-by-access-type.png')"
   ]
  },
  {
   "cell_type": "code",
   "execution_count": null,
   "metadata": {
    "collapsed": false
   },
   "outputs": [],
   "source": []
  }
 ],
 "metadata": {
  "kernelspec": {
   "display_name": "Python 3",
   "language": "python",
   "name": "python3"
  },
  "language_info": {
   "codemirror_mode": {
    "name": "ipython",
    "version": 3
   },
   "file_extension": ".py",
   "mimetype": "text/x-python",
   "name": "python",
   "nbconvert_exporter": "python",
   "pygments_lexer": "ipython3",
   "version": "3.4.3"
  }
 },
 "nbformat": 4,
 "nbformat_minor": 0
}
