{
 "cells": [
  {
   "cell_type": "markdown",
   "metadata": {},
   "source": [
    "This notebook shows a method to estimate the latent demand of an appliance using our survey data."
   ]
  },
  {
   "cell_type": "code",
   "execution_count": 2,
   "metadata": {
    "collapsed": false
   },
   "outputs": [],
   "source": [
    "%matplotlib inline\n",
    "import pandas as pd\n",
    "import numpy as np\n",
    "import matplotlib.pyplot as plt\n",
    "import seaborn as sns\n",
    "from drs_sentani import get_survey\n",
    "survey = get_survey()\n",
    "import pysentani as sti"
   ]
  },
  {
   "cell_type": "markdown",
   "metadata": {},
   "source": [
    "For the calculation to capture only the households that do not have the item but wish to purchase it, we have the following truth table.  The new column, app will buy, should only be true for those \n",
    "\n",
    "| | | |\n",
    "|-|-|-|\n",
    "| app now | app buy | app will buy |\n",
    "|0|0|0 |\n",
    "|0|1|1 |\n",
    "|1|x|0 |\n",
    "\n",
    "So app will buy is not(app now) and (app buy)"
   ]
  },
  {
   "cell_type": "markdown",
   "metadata": {},
   "source": [
    "We calculate the derived column from the logical expression above."
   ]
  },
  {
   "cell_type": "code",
   "execution_count": 28,
   "metadata": {
    "collapsed": false
   },
   "outputs": [],
   "source": [
    "# this will need a way to make more compact\n",
    "# WB will buy or want to buy\n",
    "survey['WBTV'] = ~survey['app_now/TV'].astype(bool) & survey['app_buy/TV'].astype(bool)\n",
    "survey['WBfan'] = ~survey['app_now/fan'].astype(bool) & survey['app_buy/fan'].astype(bool)\n"
   ]
  },
  {
   "cell_type": "markdown",
   "metadata": {},
   "source": [
    "We create a subset of the data with the columns we are interested in."
   ]
  },
  {
   "cell_type": "code",
   "execution_count": 29,
   "metadata": {
    "collapsed": false
   },
   "outputs": [],
   "source": [
    "survey['access_type'] = sti.access_type(survey)\n",
    "subsurvey = survey[['access_type',\n",
    "                   'WBTV',\n",
    "                   'WBfan']]"
   ]
  },
  {
   "cell_type": "markdown",
   "metadata": {},
   "source": [
    "We use a group by to get percentages for responding households.  Our final analysis should also include the number of households excluded for not reporting."
   ]
  },
  {
   "cell_type": "code",
   "execution_count": 35,
   "metadata": {
    "collapsed": false
   },
   "outputs": [
    {
     "data": {
      "text/html": [
       "<div>\n",
       "<table border=\"1\" class=\"dataframe\">\n",
       "  <thead>\n",
       "    <tr style=\"text-align: right;\">\n",
       "      <th></th>\n",
       "      <th>WBTV</th>\n",
       "      <th>WBfan</th>\n",
       "      <th>access_type</th>\n",
       "    </tr>\n",
       "    <tr>\n",
       "      <th>access_type</th>\n",
       "      <th></th>\n",
       "      <th></th>\n",
       "      <th></th>\n",
       "    </tr>\n",
       "  </thead>\n",
       "  <tbody>\n",
       "    <tr>\n",
       "      <th>PLN_grid</th>\n",
       "      <td>0.132472</td>\n",
       "      <td>0.295638</td>\n",
       "      <td>PLN_grid</td>\n",
       "    </tr>\n",
       "    <tr>\n",
       "      <th>PLN_microgrid</th>\n",
       "      <td>0.129412</td>\n",
       "      <td>0.300000</td>\n",
       "      <td>PLN_microgrid</td>\n",
       "    </tr>\n",
       "    <tr>\n",
       "      <th>community_microgrid</th>\n",
       "      <td>0.074074</td>\n",
       "      <td>0.407407</td>\n",
       "      <td>community_microgrid</td>\n",
       "    </tr>\n",
       "    <tr>\n",
       "      <th>no_access</th>\n",
       "      <td>0.126100</td>\n",
       "      <td>0.340176</td>\n",
       "      <td>no_access</td>\n",
       "    </tr>\n",
       "  </tbody>\n",
       "</table>\n",
       "</div>"
      ],
      "text/plain": [
       "                         WBTV     WBfan          access_type\n",
       "access_type                                                 \n",
       "PLN_grid             0.132472  0.295638             PLN_grid\n",
       "PLN_microgrid        0.129412  0.300000        PLN_microgrid\n",
       "community_microgrid  0.074074  0.407407  community_microgrid\n",
       "no_access            0.126100  0.340176            no_access"
      ]
     },
     "execution_count": 35,
     "metadata": {},
     "output_type": "execute_result"
    }
   ],
   "source": [
    "analyzed = subsurvey.groupby('access_type').mean()\n",
    "# next line necessary because I can't get melted to use index\n",
    "analyzed['access_type'] = analyzed.index \n",
    "analyzed"
   ]
  },
  {
   "cell_type": "markdown",
   "metadata": {},
   "source": [
    "We melt the array into long or tidy format to facilitate plotting."
   ]
  },
  {
   "cell_type": "code",
   "execution_count": 36,
   "metadata": {
    "collapsed": false
   },
   "outputs": [
    {
     "data": {
      "text/html": [
       "<div>\n",
       "<table border=\"1\" class=\"dataframe\">\n",
       "  <thead>\n",
       "    <tr style=\"text-align: right;\">\n",
       "      <th></th>\n",
       "      <th>access_type</th>\n",
       "      <th>variable</th>\n",
       "      <th>Percent Ownership</th>\n",
       "    </tr>\n",
       "  </thead>\n",
       "  <tbody>\n",
       "    <tr>\n",
       "      <th>0</th>\n",
       "      <td>PLN_grid</td>\n",
       "      <td>WBTV</td>\n",
       "      <td>0.132472</td>\n",
       "    </tr>\n",
       "    <tr>\n",
       "      <th>1</th>\n",
       "      <td>PLN_microgrid</td>\n",
       "      <td>WBTV</td>\n",
       "      <td>0.129412</td>\n",
       "    </tr>\n",
       "    <tr>\n",
       "      <th>2</th>\n",
       "      <td>community_microgrid</td>\n",
       "      <td>WBTV</td>\n",
       "      <td>0.074074</td>\n",
       "    </tr>\n",
       "    <tr>\n",
       "      <th>3</th>\n",
       "      <td>no_access</td>\n",
       "      <td>WBTV</td>\n",
       "      <td>0.126100</td>\n",
       "    </tr>\n",
       "    <tr>\n",
       "      <th>4</th>\n",
       "      <td>PLN_grid</td>\n",
       "      <td>WBfan</td>\n",
       "      <td>0.295638</td>\n",
       "    </tr>\n",
       "    <tr>\n",
       "      <th>5</th>\n",
       "      <td>PLN_microgrid</td>\n",
       "      <td>WBfan</td>\n",
       "      <td>0.300000</td>\n",
       "    </tr>\n",
       "    <tr>\n",
       "      <th>6</th>\n",
       "      <td>community_microgrid</td>\n",
       "      <td>WBfan</td>\n",
       "      <td>0.407407</td>\n",
       "    </tr>\n",
       "    <tr>\n",
       "      <th>7</th>\n",
       "      <td>no_access</td>\n",
       "      <td>WBfan</td>\n",
       "      <td>0.340176</td>\n",
       "    </tr>\n",
       "  </tbody>\n",
       "</table>\n",
       "</div>"
      ],
      "text/plain": [
       "           access_type variable  Percent Ownership\n",
       "0             PLN_grid     WBTV           0.132472\n",
       "1        PLN_microgrid     WBTV           0.129412\n",
       "2  community_microgrid     WBTV           0.074074\n",
       "3            no_access     WBTV           0.126100\n",
       "4             PLN_grid    WBfan           0.295638\n",
       "5        PLN_microgrid    WBfan           0.300000\n",
       "6  community_microgrid    WBfan           0.407407\n",
       "7            no_access    WBfan           0.340176"
      ]
     },
     "execution_count": 36,
     "metadata": {},
     "output_type": "execute_result"
    }
   ],
   "source": [
    "melted = pd.melt(analyzed, \n",
    "                 id_vars=['access_type'],\n",
    "                 value_vars=['WBTV', 'WBfan'],\n",
    "                 value_name='Percent Ownership')\n",
    "melted"
   ]
  },
  {
   "cell_type": "code",
   "execution_count": 37,
   "metadata": {
    "collapsed": false
   },
   "outputs": [
    {
     "data": {
      "text/plain": [
       "<matplotlib.axes._subplots.AxesSubplot at 0x10b4dd9b0>"
      ]
     },
     "execution_count": 37,
     "metadata": {},
     "output_type": "execute_result"
    },
    {
     "data": {
      "image/png": "[encoded data removed]",
      "text/plain": [
       "<matplotlib.figure.Figure at 0x10b4cd828>"
      ]
     },
     "metadata": {},
     "output_type": "display_data"
    }
   ],
   "source": [
    "sns.barplot(data=melted, x='variable', y='Percent Ownership', hue='access_type')"
   ]
  },
  {
   "cell_type": "code",
   "execution_count": null,
   "metadata": {
    "collapsed": true
   },
   "outputs": [],
   "source": []
  }
 ],
 "metadata": {
  "kernelspec": {
   "display_name": "Python 3",
   "language": "python",
   "name": "python3"
  },
  "language_info": {
   "codemirror_mode": {
    "name": "ipython",
    "version": 3
   },
   "file_extension": ".py",
   "mimetype": "text/x-python",
   "name": "python",
   "nbconvert_exporter": "python",
   "pygments_lexer": "ipython3",
   "version": "3.4.3"
  }
 },
 "nbformat": 4,
 "nbformat_minor": 0
}
