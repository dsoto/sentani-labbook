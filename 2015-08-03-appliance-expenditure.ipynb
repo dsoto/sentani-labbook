{
 "cells": [
  {
   "cell_type": "code",
   "execution_count": 6,
   "metadata": {
    "collapsed": false
   },
   "outputs": [],
   "source": [
    "%matplotlib inline\n",
    "import pandas as pd\n",
    "import numpy as np\n",
    "import matplotlib.pyplot as plt\n",
    "import seaborn as sns\n",
    "from drs_sentani import get_survey\n",
    "survey = get_survey()\n",
    "import pysentani as sti"
   ]
  },
  {
   "cell_type": "code",
   "execution_count": 21,
   "metadata": {
    "collapsed": false
   },
   "outputs": [
    {
     "data": {
      "text/plain": [
       "count        410.000000\n",
       "mean      101231.292683\n",
       "std       168829.052057\n",
       "min            0.000000\n",
       "25%        50000.000000\n",
       "50%        60000.000000\n",
       "75%       100000.000000\n",
       "max      2000000.000000\n",
       "Name: PLN_expenditure_monthly, dtype: float64"
      ]
     },
     "execution_count": 21,
     "metadata": {},
     "output_type": "execute_result"
    }
   ],
   "source": [
    "# generate derived columns\n",
    "sti.elec_expenditure_monthly(survey)\n",
    "survey['access_type'] = sti.access_type(survey)\n",
    "\n",
    "# restrict analysis to households\n",
    "subsurvey = survey[survey['demand_point']=='household']\n",
    "subsurvey['PLN_expenditure_monthly'].describe()"
   ]
  },
  {
   "cell_type": "code",
   "execution_count": 11,
   "metadata": {
    "collapsed": false
   },
   "outputs": [
    {
     "data": {
      "text/plain": [
       "count        129.000000\n",
       "mean      131310.000000\n",
       "std       219804.823498\n",
       "min            0.000000\n",
       "25%        50000.000000\n",
       "50%        65000.000000\n",
       "75%       150000.000000\n",
       "max      1900000.000000\n",
       "Name: PLN_expenditure_monthly, dtype: float64"
      ]
     },
     "execution_count": 11,
     "metadata": {},
     "output_type": "execute_result"
    }
   ],
   "source": [
    "subsurvey[subsurvey['app_now/fridge']==True]['PLN_expenditure_monthly'].describe()"
   ]
  },
  {
   "cell_type": "code",
   "execution_count": 13,
   "metadata": {
    "collapsed": false
   },
   "outputs": [
    {
     "data": {
      "text/plain": [
       "count        55.000000\n",
       "mean      79326.636364\n",
       "std       64566.069191\n",
       "min          35.000000\n",
       "25%       45000.000000\n",
       "50%       50000.000000\n",
       "75%      110000.000000\n",
       "max      250000.000000\n",
       "Name: PLN_expenditure_monthly, dtype: float64"
      ]
     },
     "execution_count": 13,
     "metadata": {},
     "output_type": "execute_result"
    }
   ],
   "source": [
    "subsurvey[subsurvey['app_now/fan']==True]['PLN_expenditure_monthly'].describe()"
   ]
  },
  {
   "cell_type": "code",
   "execution_count": 14,
   "metadata": {
    "collapsed": false
   },
   "outputs": [
    {
     "data": {
      "text/plain": [
       "count         68.000000\n",
       "mean      153426.470588\n",
       "std       137240.318276\n",
       "min        19000.000000\n",
       "25%        50000.000000\n",
       "50%       100000.000000\n",
       "75%       240000.000000\n",
       "max      1000000.000000\n",
       "Name: community_microgrid_expenditure_monthly, dtype: float64"
      ]
     },
     "execution_count": 14,
     "metadata": {},
     "output_type": "execute_result"
    }
   ],
   "source": [
    "subsurvey['community_microgrid_expenditure_monthly'].describe()"
   ]
  },
  {
   "cell_type": "code",
   "execution_count": 15,
   "metadata": {
    "collapsed": false
   },
   "outputs": [
    {
     "data": {
      "text/plain": [
       "count         5.000000\n",
       "mean     158000.000000\n",
       "std       81363.382427\n",
       "min       60000.000000\n",
       "25%      100000.000000\n",
       "50%      150000.000000\n",
       "75%      240000.000000\n",
       "max      240000.000000\n",
       "Name: community_microgrid_expenditure_monthly, dtype: float64"
      ]
     },
     "execution_count": 15,
     "metadata": {},
     "output_type": "execute_result"
    }
   ],
   "source": [
    "subsurvey[subsurvey['app_now/fan']==True]['community_microgrid_expenditure_monthly'].describe()"
   ]
  },
  {
   "cell_type": "code",
   "execution_count": 16,
   "metadata": {
    "collapsed": false
   },
   "outputs": [
    {
     "data": {
      "text/plain": [
       "count         2.000000\n",
       "mean      85000.000000\n",
       "std       91923.881554\n",
       "min       20000.000000\n",
       "25%       52500.000000\n",
       "50%       85000.000000\n",
       "75%      117500.000000\n",
       "max      150000.000000\n",
       "Name: community_microgrid_expenditure_monthly, dtype: float64"
      ]
     },
     "execution_count": 16,
     "metadata": {},
     "output_type": "execute_result"
    }
   ],
   "source": [
    "subsurvey[subsurvey['app_now/fridge']==True]['community_microgrid_expenditure_monthly'].describe()"
   ]
  },
  {
   "cell_type": "code",
   "execution_count": 17,
   "metadata": {
    "collapsed": false
   },
   "outputs": [
    {
     "data": {
      "text/plain": [
       "count       226.000000\n",
       "mean     146885.026549\n",
       "std       88783.239379\n",
       "min          16.000000\n",
       "25%       80000.000000\n",
       "50%      120000.000000\n",
       "75%      200000.000000\n",
       "max      800000.000000\n",
       "Name: genset_expenditure_monthly, dtype: float64"
      ]
     },
     "execution_count": 17,
     "metadata": {},
     "output_type": "execute_result"
    }
   ],
   "source": [
    "subsurvey['genset_expenditure_monthly'].describe()"
   ]
  },
  {
   "cell_type": "code",
   "execution_count": 19,
   "metadata": {
    "collapsed": false
   },
   "outputs": [
    {
     "data": {
      "text/plain": [
       "count         6.000000\n",
       "mean     166666.666667\n",
       "std      132463.831542\n",
       "min       40000.000000\n",
       "25%       80000.000000\n",
       "50%      140000.000000\n",
       "75%      200000.000000\n",
       "max      400000.000000\n",
       "Name: genset_expenditure_monthly, dtype: float64"
      ]
     },
     "execution_count": 19,
     "metadata": {},
     "output_type": "execute_result"
    }
   ],
   "source": [
    "subsurvey[subsurvey['app_now/fridge']==True]['genset_expenditure_monthly'].describe()"
   ]
  },
  {
   "cell_type": "code",
   "execution_count": 23,
   "metadata": {
    "collapsed": false
   },
   "outputs": [
    {
     "name": "stdout",
     "output_type": "stream",
     "text": [
      "app_now/fridge         0    1\n",
      "access_type                  \n",
      "PLN_grid             381  187\n",
      "PLN_microgrid        152    6\n",
      "community_microgrid   51    1\n",
      "no_access            253    4\n"
     ]
    }
   ],
   "source": [
    "sti.contingency_table(survey, 'access_type', 'app_now/fridge')\n"
   ]
  },
  {
   "cell_type": "code",
   "execution_count": 24,
   "metadata": {
    "collapsed": false
   },
   "outputs": [
    {
     "data": {
      "text/html": [
       "<div>\n",
       "<table border=\"1\" class=\"dataframe\">\n",
       "  <thead>\n",
       "    <tr style=\"text-align: right;\">\n",
       "      <th>app_now/fridge</th>\n",
       "      <th>0.0</th>\n",
       "      <th>1.0</th>\n",
       "    </tr>\n",
       "    <tr>\n",
       "      <th>access_type</th>\n",
       "      <th></th>\n",
       "      <th></th>\n",
       "    </tr>\n",
       "  </thead>\n",
       "  <tbody>\n",
       "    <tr>\n",
       "      <th>PLN_grid</th>\n",
       "      <td>381</td>\n",
       "      <td>187</td>\n",
       "    </tr>\n",
       "    <tr>\n",
       "      <th>PLN_microgrid</th>\n",
       "      <td>152</td>\n",
       "      <td>6</td>\n",
       "    </tr>\n",
       "    <tr>\n",
       "      <th>community_microgrid</th>\n",
       "      <td>51</td>\n",
       "      <td>1</td>\n",
       "    </tr>\n",
       "    <tr>\n",
       "      <th>no_access</th>\n",
       "      <td>253</td>\n",
       "      <td>4</td>\n",
       "    </tr>\n",
       "  </tbody>\n",
       "</table>\n",
       "</div>"
      ],
      "text/plain": [
       "app_now/fridge         0    1\n",
       "access_type                  \n",
       "PLN_grid             381  187\n",
       "PLN_microgrid        152    6\n",
       "community_microgrid   51    1\n",
       "no_access            253    4"
      ]
     },
     "execution_count": 24,
     "metadata": {},
     "output_type": "execute_result"
    }
   ],
   "source": [
    "def contingency_table(survey, column1, column2):\n",
    "        return pd.crosstab(survey[column1], survey[column2])\n",
    "contingency_table(survey, 'access_type', 'app_now/fridge')"
   ]
  },
  {
   "cell_type": "code",
   "execution_count": 25,
   "metadata": {
    "collapsed": false
   },
   "outputs": [
    {
     "data": {
      "text/html": [
       "<div>\n",
       "<table border=\"1\" class=\"dataframe\">\n",
       "  <thead>\n",
       "    <tr style=\"text-align: right;\">\n",
       "      <th>app_now/fan</th>\n",
       "      <th>0.0</th>\n",
       "      <th>1.0</th>\n",
       "    </tr>\n",
       "    <tr>\n",
       "      <th>access_type</th>\n",
       "      <th></th>\n",
       "      <th></th>\n",
       "    </tr>\n",
       "  </thead>\n",
       "  <tbody>\n",
       "    <tr>\n",
       "      <th>PLN_grid</th>\n",
       "      <td>468</td>\n",
       "      <td>100</td>\n",
       "    </tr>\n",
       "    <tr>\n",
       "      <th>PLN_microgrid</th>\n",
       "      <td>154</td>\n",
       "      <td>4</td>\n",
       "    </tr>\n",
       "    <tr>\n",
       "      <th>community_microgrid</th>\n",
       "      <td>47</td>\n",
       "      <td>5</td>\n",
       "    </tr>\n",
       "    <tr>\n",
       "      <th>no_access</th>\n",
       "      <td>236</td>\n",
       "      <td>21</td>\n",
       "    </tr>\n",
       "  </tbody>\n",
       "</table>\n",
       "</div>"
      ],
      "text/plain": [
       "app_now/fan            0    1\n",
       "access_type                  \n",
       "PLN_grid             468  100\n",
       "PLN_microgrid        154    4\n",
       "community_microgrid   47    5\n",
       "no_access            236   21"
      ]
     },
     "execution_count": 25,
     "metadata": {},
     "output_type": "execute_result"
    }
   ],
   "source": [
    "contingency_table(survey, 'access_type', 'app_now/fan')"
   ]
  },
  {
   "cell_type": "code",
   "execution_count": 26,
   "metadata": {
    "collapsed": false
   },
   "outputs": [
    {
     "data": {
      "text/html": [
       "<div>\n",
       "<table border=\"1\" class=\"dataframe\">\n",
       "  <thead>\n",
       "    <tr style=\"text-align: right;\">\n",
       "      <th>app_now/TV</th>\n",
       "      <th>0.0</th>\n",
       "      <th>1.0</th>\n",
       "    </tr>\n",
       "    <tr>\n",
       "      <th>access_type</th>\n",
       "      <th></th>\n",
       "      <th></th>\n",
       "    </tr>\n",
       "  </thead>\n",
       "  <tbody>\n",
       "    <tr>\n",
       "      <th>PLN_grid</th>\n",
       "      <td>105</td>\n",
       "      <td>463</td>\n",
       "    </tr>\n",
       "    <tr>\n",
       "      <th>PLN_microgrid</th>\n",
       "      <td>30</td>\n",
       "      <td>128</td>\n",
       "    </tr>\n",
       "    <tr>\n",
       "      <th>community_microgrid</th>\n",
       "      <td>4</td>\n",
       "      <td>48</td>\n",
       "    </tr>\n",
       "    <tr>\n",
       "      <th>no_access</th>\n",
       "      <td>52</td>\n",
       "      <td>205</td>\n",
       "    </tr>\n",
       "  </tbody>\n",
       "</table>\n",
       "</div>"
      ],
      "text/plain": [
       "app_now/TV             0    1\n",
       "access_type                  \n",
       "PLN_grid             105  463\n",
       "PLN_microgrid         30  128\n",
       "community_microgrid    4   48\n",
       "no_access             52  205"
      ]
     },
     "execution_count": 26,
     "metadata": {},
     "output_type": "execute_result"
    }
   ],
   "source": [
    "contingency_table(survey, 'access_type', 'app_now/TV')"
   ]
  },
  {
   "cell_type": "code",
   "execution_count": 27,
   "metadata": {
    "collapsed": false
   },
   "outputs": [
    {
     "data": {
      "text/html": [
       "<div>\n",
       "<table border=\"1\" class=\"dataframe\">\n",
       "  <thead>\n",
       "    <tr style=\"text-align: right;\">\n",
       "      <th>app_now/rice_cooker</th>\n",
       "      <th>0.0</th>\n",
       "      <th>1.0</th>\n",
       "    </tr>\n",
       "    <tr>\n",
       "      <th>access_type</th>\n",
       "      <th></th>\n",
       "      <th></th>\n",
       "    </tr>\n",
       "  </thead>\n",
       "  <tbody>\n",
       "    <tr>\n",
       "      <th>PLN_grid</th>\n",
       "      <td>411</td>\n",
       "      <td>157</td>\n",
       "    </tr>\n",
       "    <tr>\n",
       "      <th>PLN_microgrid</th>\n",
       "      <td>156</td>\n",
       "      <td>2</td>\n",
       "    </tr>\n",
       "    <tr>\n",
       "      <th>community_microgrid</th>\n",
       "      <td>45</td>\n",
       "      <td>7</td>\n",
       "    </tr>\n",
       "    <tr>\n",
       "      <th>no_access</th>\n",
       "      <td>249</td>\n",
       "      <td>8</td>\n",
       "    </tr>\n",
       "  </tbody>\n",
       "</table>\n",
       "</div>"
      ],
      "text/plain": [
       "app_now/rice_cooker    0    1\n",
       "access_type                  \n",
       "PLN_grid             411  157\n",
       "PLN_microgrid        156    2\n",
       "community_microgrid   45    7\n",
       "no_access            249    8"
      ]
     },
     "execution_count": 27,
     "metadata": {},
     "output_type": "execute_result"
    }
   ],
   "source": [
    "contingency_table(survey, 'access_type', 'app_now/rice_cooker')"
   ]
  },
  {
   "cell_type": "code",
   "execution_count": 28,
   "metadata": {
    "collapsed": false
   },
   "outputs": [
    {
     "data": {
      "text/html": [
       "<div>\n",
       "<table border=\"1\" class=\"dataframe\">\n",
       "  <thead>\n",
       "    <tr style=\"text-align: right;\">\n",
       "      <th>app_now/lighting</th>\n",
       "      <th>0.0</th>\n",
       "      <th>1.0</th>\n",
       "    </tr>\n",
       "    <tr>\n",
       "      <th>access_type</th>\n",
       "      <th></th>\n",
       "      <th></th>\n",
       "    </tr>\n",
       "  </thead>\n",
       "  <tbody>\n",
       "    <tr>\n",
       "      <th>PLN_grid</th>\n",
       "      <td>39</td>\n",
       "      <td>529</td>\n",
       "    </tr>\n",
       "    <tr>\n",
       "      <th>PLN_microgrid</th>\n",
       "      <td>8</td>\n",
       "      <td>150</td>\n",
       "    </tr>\n",
       "    <tr>\n",
       "      <th>community_microgrid</th>\n",
       "      <td>7</td>\n",
       "      <td>45</td>\n",
       "    </tr>\n",
       "    <tr>\n",
       "      <th>no_access</th>\n",
       "      <td>30</td>\n",
       "      <td>227</td>\n",
       "    </tr>\n",
       "  </tbody>\n",
       "</table>\n",
       "</div>"
      ],
      "text/plain": [
       "app_now/lighting      0    1\n",
       "access_type                 \n",
       "PLN_grid             39  529\n",
       "PLN_microgrid         8  150\n",
       "community_microgrid   7   45\n",
       "no_access            30  227"
      ]
     },
     "execution_count": 28,
     "metadata": {},
     "output_type": "execute_result"
    }
   ],
   "source": [
    "contingency_table(survey, 'access_type', 'app_now/lighting')"
   ]
  },
  {
   "cell_type": "code",
   "execution_count": null,
   "metadata": {
    "collapsed": true
   },
   "outputs": [],
   "source": []
  }
 ],
 "metadata": {
  "kernelspec": {
   "display_name": "Python 3",
   "language": "python",
   "name": "python3"
  },
  "language_info": {
   "codemirror_mode": {
    "name": "ipython",
    "version": 3
   },
   "file_extension": ".py",
   "mimetype": "text/x-python",
   "name": "python",
   "nbconvert_exporter": "python",
   "pygments_lexer": "ipython3",
   "version": "3.4.3"
  }
 },
 "nbformat": 4,
 "nbformat_minor": 0
}
