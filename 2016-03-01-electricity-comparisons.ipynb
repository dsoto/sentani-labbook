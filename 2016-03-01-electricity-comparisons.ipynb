{
 "cells": [
  {
   "cell_type": "markdown",
   "metadata": {},
   "source": [
    "# Electricity comparisons\n",
    "\n",
    "We look at the prediction from appliance surveys and compare to the observed differences."
   ]
  },
  {
   "cell_type": "code",
   "execution_count": 1,
   "metadata": {
    "collapsed": true
   },
   "outputs": [],
   "source": [
    "%matplotlib inline\n",
    "from drs_sentani import get_survey\n",
    "import pandas as pd\n",
    "survey = get_survey()\n",
    "import pysentani as sti\n",
    "survey['access_type'] = sti.access_type(survey)"
   ]
  },
  {
   "cell_type": "markdown",
   "metadata": {},
   "source": [
    "# Predicted electricity\n",
    "\n",
    "There are no outliers in the appliance hours data in these villages so we aren't filtering.\n",
    "\n",
    "TODO:\n",
    "- check for outliers skewing data\n",
    "- verify that averaging methods are consistent and that we are treating nulls correctly\n",
    "- how many valid responses in each village for appliance hours?\n",
    "- have any households answered some but not all of the hours questions?\n",
    "- should we be creating averages based on appliance, household, or village?"
   ]
  },
  {
   "cell_type": "code",
   "execution_count": 2,
   "metadata": {
    "collapsed": false
   },
   "outputs": [],
   "source": [
    "# we may want to do this more fine-grained so we know what we are omitting\n",
    "# we also don't want to skew results with non-responses\n",
    "survey = survey.fillna(0)\n",
    "\n",
    "powers = {'TV':0.040, \n",
    "          'fridge':0.100, \n",
    "          'radio':0.010, \n",
    "          'fan':0.050, \n",
    "          'rice_cooker':0.350, \n",
    "          'lighting':0.050}\n",
    "appliance_list = ['TV', 'fridge', 'radio', 'fan', 'rice_cooker', 'lighting']\n",
    "\n",
    "for appliance in appliance_list:\n",
    "    # create column label from appliance names\n",
    "    wk_col = 'app_{}_per_wk'.format(appliance)\n",
    "    hr_col = 'app_{}_hrs'.format(appliance)\n",
    "    energy_col = 'daily_{}_energy'.format(appliance)\n",
    "    weekly_hr_col = 'weekly_{}_hrs'.format(appliance)\n",
    "    survey[weekly_hr_col] = survey[wk_col] * survey[hr_col]    \n",
    "    survey[energy_col] = survey[weekly_hr_col] / 7 * powers[appliance]\n",
    "\n",
    "survey['total_daily_energy'] = (survey['daily_TV_energy'] + survey['daily_fridge_energy'] +\n",
    "                                survey['daily_radio_energy'] + survey['daily_fan_energy'] +\n",
    "                                survey['daily_rice_cooker_energy'] + survey['daily_lighting_energy'])\n",
    "\n",
    "survey.rename(columns={'total_daily_energy': 'daily_energy_mean'},inplace = True)\n",
    "subsurvey = survey[['daily_energy_mean','access_type','village_name']]\n",
    "\n",
    "# the index name is giving me fits here\n",
    "sort = subsurvey.groupby(['village_name']).mean()\n",
    "sort['village_name'] = sort.index\n",
    "\n",
    "sort['access_type'] = sti.access_type(sort)\n",
    "village_names = ['Ajau', 'Asei', 'Atamali', 'Ayapo', 'Kensio']\n",
    "# is there a cleaner way here?\n",
    "predicted = sort[[v in village_names for v in sort['village_name']]]"
   ]
  },
  {
   "cell_type": "markdown",
   "metadata": {},
   "source": [
    "# Measured electricity"
   ]
  },
  {
   "cell_type": "code",
   "execution_count": 3,
   "metadata": {
    "collapsed": false
   },
   "outputs": [],
   "source": [
    "import pandas as pd\n",
    "\n",
    "def parse_file(energy_file_name):\n",
    "    # read in raw CSV file for preprocessing\n",
    "    energy_file = open(energy_file_name)\n",
    "    # append data lines after header beginning with 'Timestamp'\n",
    "    # dump lines from communications messages or empty lines and write to string\n",
    "    file_string = ''\n",
    "    omit_strings = ['Power Up', 'Communication Lost', 'Power Down', ',,,,,,,,,,,']\n",
    "    # append data not matching omit_strings after sentinel is reached\n",
    "    data_found = False\n",
    "    for line in energy_file.readlines():\n",
    "        if 'Timestamp' in line:\n",
    "            data_found = True\n",
    "        if not any(omit in line for omit in omit_strings) and data_found:\n",
    "            file_string += line\n",
    "    return file_string    \n",
    "\n",
    "def create_data_frame(energy_file_name):\n",
    "    # use pre-parsed string to read in data file to pandas and sort by date\n",
    "    file_string = parse_file(energy_file_name)\n",
    "    import io\n",
    "    energy_data = pd.read_csv(io.StringIO(file_string),\n",
    "                          index_col=0, \n",
    "                          parse_dates=[0], \n",
    "                          thousands=',')\n",
    "    energy_data = energy_data.sort_index()\n",
    "    return energy_data\n",
    "\n",
    "def get_energy_stats(energy_data):\n",
    "    energy = energy_data['kWh export']\n",
    "    resampled = energy.resample('D').diff()\n",
    "    return resampled.mean(), resampled.median()\n",
    "\n",
    "energy_file_names = (('Ajau', 121, \"../data-timeseries/Data_Logs Ajau Agustus.csv\"),\n",
    "                     ('Atamali', 40, \"../data-timeseries/Data_Logs Atamali Agustus.csv\"),\n",
    "                     ('Ayapo', 103, \"../data-timeseries/Data_Logs Ayapo Agustus.csv\"),\n",
    "                     ('Asei', 33, \"../data-timeseries/Data_Logs ASEI July.csv\"),\n",
    "                     ('Kensio', 20, \"../data-timeseries/Data_Logs Kensio Agustus.csv\"))\n",
    "\n",
    "output = {}\n",
    "verbose = False\n",
    "for village, connections, energy_file_name in energy_file_names: \n",
    "    energy_data = create_data_frame(energy_file_name)\n",
    "    mean, median = get_energy_stats(energy_data)\n",
    "    if verbose: print(village, mean, median)\n",
    "    output[village] = {'mean kWh per day': mean,\n",
    "                       'mean kWh per day per household': mean/connections,\n",
    "                       'median kWh per day': median}\n",
    "\n",
    "output_data = pd.DataFrame(output).T\n",
    "measured = output_data\n",
    "measured['village_name'] = measured.index"
   ]
  },
  {
   "cell_type": "markdown",
   "metadata": {},
   "source": [
    "# Create comparison table"
   ]
  },
  {
   "cell_type": "code",
   "execution_count": 4,
   "metadata": {
    "collapsed": false
   },
   "outputs": [
    {
     "data": {
      "text/plain": [
       "<matplotlib.axes._subplots.AxesSubplot at 0x10c8544a8>"
      ]
     },
     "execution_count": 4,
     "metadata": {},
     "output_type": "execute_result"
    },
    {
     "data": {
      "image/png": "[encoded data removed]",
      "text/plain": [
       "<matplotlib.figure.Figure at 0x10c9b3b70>"
      ]
     },
     "metadata": {},
     "output_type": "display_data"
    }
   ],
   "source": [
    "comparison = predicted.merge(measured)\n",
    "comparison = comparison[['village_name', 'daily_energy_mean', 'mean kWh per day per household']]\n",
    "\n",
    "comparison.index = comparison['village_name']\n",
    "comparison.rename(columns={'daily_energy_mean':'predicted (kWh/day)',\n",
    "                           'mean kWh per day per household':'observed (kWh/day)'},\n",
    "                  inplace=True)\n",
    "comparison.plot(kind='bar')"
   ]
  },
  {
   "cell_type": "code",
   "execution_count": 5,
   "metadata": {
    "collapsed": false
   },
   "outputs": [
    {
     "data": {
      "text/html": [
       "<div>\n",
       "<table border=\"1\" class=\"dataframe\">\n",
       "  <thead>\n",
       "    <tr style=\"text-align: right;\">\n",
       "      <th></th>\n",
       "      <th>village_name</th>\n",
       "      <th>predicted (kWh/day)</th>\n",
       "      <th>observed (kWh/day)</th>\n",
       "    </tr>\n",
       "    <tr>\n",
       "      <th>village_name</th>\n",
       "      <th></th>\n",
       "      <th></th>\n",
       "      <th></th>\n",
       "    </tr>\n",
       "  </thead>\n",
       "  <tbody>\n",
       "    <tr>\n",
       "      <th>Ajau</th>\n",
       "      <td>Ajau</td>\n",
       "      <td>NaN</td>\n",
       "      <td>5.050263</td>\n",
       "    </tr>\n",
       "    <tr>\n",
       "      <th>Asei</th>\n",
       "      <td>Asei</td>\n",
       "      <td>6.085714</td>\n",
       "      <td>5.662375</td>\n",
       "    </tr>\n",
       "    <tr>\n",
       "      <th>Atamali</th>\n",
       "      <td>Atamali</td>\n",
       "      <td>NaN</td>\n",
       "      <td>0.384255</td>\n",
       "    </tr>\n",
       "    <tr>\n",
       "      <th>Ayapo</th>\n",
       "      <td>Ayapo</td>\n",
       "      <td>NaN</td>\n",
       "      <td>0.926089</td>\n",
       "    </tr>\n",
       "    <tr>\n",
       "      <th>Kensio</th>\n",
       "      <td>Kensio</td>\n",
       "      <td>NaN</td>\n",
       "      <td>0.539094</td>\n",
       "    </tr>\n",
       "  </tbody>\n",
       "</table>\n",
       "</div>"
      ],
      "text/plain": [
       "             village_name  predicted (kWh/day)  observed (kWh/day)\n",
       "village_name                                                      \n",
       "Ajau                 Ajau                  NaN            5.050263\n",
       "Asei                 Asei             6.085714            5.662375\n",
       "Atamali           Atamali                  NaN            0.384255\n",
       "Ayapo               Ayapo                  NaN            0.926089\n",
       "Kensio             Kensio                  NaN            0.539094"
      ]
     },
     "execution_count": 5,
     "metadata": {},
     "output_type": "execute_result"
    }
   ],
   "source": [
    "comparison"
   ]
  },
  {
   "cell_type": "code",
   "execution_count": null,
   "metadata": {
    "collapsed": true
   },
   "outputs": [],
   "source": []
  }
 ],
 "metadata": {
  "kernelspec": {
   "display_name": "Python 3",
   "language": "python",
   "name": "python3"
  },
  "language_info": {
   "codemirror_mode": {
    "name": "ipython",
    "version": 3
   },
   "file_extension": ".py",
   "mimetype": "text/x-python",
   "name": "python",
   "nbconvert_exporter": "python",
   "pygments_lexer": "ipython3",
   "version": "3.4.4"
  }
 },
 "nbformat": 4,
 "nbformat_minor": 0
}
