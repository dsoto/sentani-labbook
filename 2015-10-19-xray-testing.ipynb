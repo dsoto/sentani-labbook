{
 "cells": [
  {
   "cell_type": "markdown",
   "metadata": {},
   "source": [
    "# Testing xray\n",
    "\n",
    "The monte carlo simulation I am writing would be clearer and less error-prone if we could label the columns by the appliance name.  xray is a library that allows this and I'm going to experiment with it in this notebook.\n"
   ]
  },
  {
   "cell_type": "code",
   "execution_count": 118,
   "metadata": {
    "collapsed": true
   },
   "outputs": [],
   "source": [
    "%matplotlib inline\n",
    "import numpy as np\n",
    "import xray\n",
    "from scipy.stats import binom\n",
    "import matplotlib.pyplot as plt"
   ]
  },
  {
   "cell_type": "markdown",
   "metadata": {},
   "source": [
    "I create a table of values using pandas and give the index and columns labels."
   ]
  },
  {
   "cell_type": "code",
   "execution_count": 119,
   "metadata": {
    "collapsed": false
   },
   "outputs": [
    {
     "data": {
      "text/html": [
       "<div>\n",
       "<table border=\"1\" class=\"dataframe\">\n",
       "  <thead>\n",
       "    <tr style=\"text-align: right;\">\n",
       "      <th>values</th>\n",
       "      <th>daily_energy</th>\n",
       "      <th>proportions</th>\n",
       "    </tr>\n",
       "    <tr>\n",
       "      <th>appliance</th>\n",
       "      <th></th>\n",
       "      <th></th>\n",
       "    </tr>\n",
       "  </thead>\n",
       "  <tbody>\n",
       "    <tr>\n",
       "      <th>TV</th>\n",
       "      <td>10</td>\n",
       "      <td>0.50</td>\n",
       "    </tr>\n",
       "    <tr>\n",
       "      <th>lighting</th>\n",
       "      <td>1</td>\n",
       "      <td>0.95</td>\n",
       "    </tr>\n",
       "    <tr>\n",
       "      <th>radio</th>\n",
       "      <td>5</td>\n",
       "      <td>0.90</td>\n",
       "    </tr>\n",
       "  </tbody>\n",
       "</table>\n",
       "</div>"
      ],
      "text/plain": [
       "values     daily_energy  proportions\n",
       "appliance                           \n",
       "TV                   10         0.50\n",
       "lighting              1         0.95\n",
       "radio                 5         0.90"
      ]
     },
     "execution_count": 119,
     "metadata": {},
     "output_type": "execute_result"
    }
   ],
   "source": [
    "import pandas as pd\n",
    "proportions = pd.Series({'TV':0.5, 'radio': 0.9, 'lighting':0.95})\n",
    "daily_energy = pd.Series({'TV':10, 'radio': 5, 'lighting':1})\n",
    "appliance_data = pd.DataFrame({'proportions':proportions, 'daily_energy':daily_energy})\n",
    "appliance_data.index.name = 'appliance'\n",
    "appliance_data.columns.name = 'values'\n",
    "appliance_data"
   ]
  },
  {
   "cell_type": "code",
   "execution_count": 120,
   "metadata": {
    "collapsed": false
   },
   "outputs": [],
   "source": [
    "appliance_data = xray.Dataset.from_dataframe(appliance_data)\n",
    "#appliance_data"
   ]
  },
  {
   "cell_type": "code",
   "execution_count": 121,
   "metadata": {
    "collapsed": false
   },
   "outputs": [
    {
     "data": {
      "text/plain": [
       "<xray.DataArray (trials: 1000, appliance: 2)>\n",
       "array([[ 0.5,  0.9],\n",
       "       [ 0.5,  0.9],\n",
       "       [ 0.5,  0.9],\n",
       "       ..., \n",
       "       [ 0.5,  0.9],\n",
       "       [ 0.5,  0.9],\n",
       "       [ 0.5,  0.9]])\n",
       "Coordinates:\n",
       "  * trials     (trials) int64 0 1 2 3 4 5 6 7 8 9 10 11 12 13 14 15 16 17 18 ...\n",
       "  * appliance  (appliance) object 'TV' 'radio'"
      ]
     },
     "execution_count": 121,
     "metadata": {},
     "output_type": "execute_result"
    }
   ],
   "source": [
    "# create an array with the proportions of each appliance for each trial\n",
    "num_trials = 1000\n",
    "appliance = ['TV', 'radio']\n",
    "data = np.ones((num_trials, len(appliance)))\n",
    "trials = np.arange(num_trials)\n",
    "sim = xray.DataArray(data, coords=[trials, appliance], dims=['trials', 'appliance'])\n",
    "# broadcast multiply by the table above\n",
    "sim = sim * appliance_data['proportions']\n",
    "sim"
   ]
  },
  {
   "cell_type": "code",
   "execution_count": 122,
   "metadata": {
    "collapsed": false
   },
   "outputs": [
    {
     "data": {
      "text/plain": [
       "<xray.DataArray (trials: 1000, appliance: 2)>\n",
       "array([[50, 90],\n",
       "       [47, 92],\n",
       "       [43, 88],\n",
       "       ..., \n",
       "       [52, 97],\n",
       "       [51, 88],\n",
       "       [50, 90]])\n",
       "Coordinates:\n",
       "  * trials     (trials) int64 0 1 2 3 4 5 6 7 8 9 10 11 12 13 14 15 16 17 18 ...\n",
       "  * appliance  (appliance) object 'TV' 'radio'"
      ]
     },
     "execution_count": 122,
     "metadata": {},
     "output_type": "execute_result"
    }
   ],
   "source": [
    "# perform a binomial sample over each element of array to get number of appliances\n",
    "# I want a cleaner way to do this\n",
    "# can I extend a ufunc so that I get a xray object back?\n",
    "num_households = 100\n",
    "data = binom.rvs(num_households, sim)\n",
    "appliance_sim = xray.DataArray(data, coords=[trials, appliance], dims=['trials', 'appliance'])\n",
    "appliance_sim"
   ]
  },
  {
   "cell_type": "code",
   "execution_count": 123,
   "metadata": {
    "collapsed": false
   },
   "outputs": [
    {
     "data": {
      "text/plain": [
       "<xray.DataArray (trials: 1000, appliance: 2)>\n",
       "array([[500, 450],\n",
       "       [470, 460],\n",
       "       [430, 440],\n",
       "       ..., \n",
       "       [520, 485],\n",
       "       [510, 440],\n",
       "       [500, 450]])\n",
       "Coordinates:\n",
       "  * trials     (trials) int64 0 1 2 3 4 5 6 7 8 9 10 11 12 13 14 15 16 17 18 ...\n",
       "  * appliance  (appliance) object 'TV' 'radio'"
      ]
     },
     "execution_count": 123,
     "metadata": {},
     "output_type": "execute_result"
    }
   ],
   "source": [
    "# multiply by daily energy\n",
    "energy_sim = appliance_sim * appliance_data['daily_energy']\n",
    "energy_sim"
   ]
  },
  {
   "cell_type": "code",
   "execution_count": 124,
   "metadata": {
    "collapsed": false
   },
   "outputs": [],
   "source": [
    "# sum over appliances\n",
    "daily_simulations = energy_sim.sum('appliance')"
   ]
  },
  {
   "cell_type": "code",
   "execution_count": 125,
   "metadata": {
    "collapsed": false
   },
   "outputs": [
    {
     "data": {
      "image/png": "[encoded data removed]",
      "text/plain": [
       "<matplotlib.figure.Figure at 0x108d6f7b8>"
      ]
     },
     "metadata": {},
     "output_type": "display_data"
    }
   ],
   "source": [
    "plt.hist(daily_simulations)\n",
    "plt.show()"
   ]
  }
 ],
 "metadata": {
  "kernelspec": {
   "display_name": "Python 3",
   "language": "python",
   "name": "python3"
  },
  "language_info": {
   "codemirror_mode": {
    "name": "ipython",
    "version": 3
   },
   "file_extension": ".py",
   "mimetype": "text/x-python",
   "name": "python",
   "nbconvert_exporter": "python",
   "pygments_lexer": "ipython3",
   "version": "3.4.3"
  }
 },
 "nbformat": 4,
 "nbformat_minor": 0
}
