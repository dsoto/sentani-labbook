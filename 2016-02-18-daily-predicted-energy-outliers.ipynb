{
 "cells": [
  {
   "cell_type": "markdown",
   "metadata": {},
   "source": [
    "# Electricity consumption outliers\n",
    "\n",
    "We observe some outlier energy values.  This notebook creates visualizations of the hours used per week data to identify anomalies."
   ]
  },
  {
   "cell_type": "code",
   "execution_count": 1,
   "metadata": {
    "collapsed": true
   },
   "outputs": [],
   "source": [
    "%matplotlib inline\n",
    "import seaborn as sns\n",
    "\n",
    "from drs_sentani import get_survey\n",
    "import pandas as pd\n",
    "survey = get_survey()\n",
    "import pysentani as sti\n",
    "survey['access_type'] = sti.access_type(survey)\n",
    "\n",
    "# we may want to do this more fine-grained so we know what we are omitting\n",
    "survey = survey.fillna(0)"
   ]
  },
  {
   "cell_type": "markdown",
   "metadata": {},
   "source": [
    "We iterate over a list of appliances and find the hours and energy associated with each appliance."
   ]
  },
  {
   "cell_type": "code",
   "execution_count": 2,
   "metadata": {
    "collapsed": false
   },
   "outputs": [],
   "source": [
    "powers = {'TV':0.075, 'fridge':0.200, 'radio':0.100, 'fan':0.135, 'rice_cooker':0.700, 'lighting':0.400}\n",
    "appliance_list = ['TV', 'fridge', 'radio', 'fan', 'rice_cooker', 'lighting']\n",
    "\n",
    "for appliance in appliance_list:\n",
    "    # create column label from appliance names\n",
    "    wk_col = 'app_{}_per_wk'.format(appliance)\n",
    "    hr_col = 'app_{}_hrs'.format(appliance)\n",
    "    energy_col = 'daily_{}_energy'.format(appliance)\n",
    "    weekly_hr_col = 'weekly_{}_hrs'.format(appliance)\n",
    "    survey[weekly_hr_col] = survey[wk_col] * survey[hr_col]    \n",
    "    survey[energy_col] = survey[weekly_hr_col] / 7 * powers[appliance]\n",
    "    "
   ]
  },
  {
   "cell_type": "markdown",
   "metadata": {},
   "source": [
    "We convert the data into tidy format in order to facilitate visualization.  The column names for the weekly hour observations are converted into values in a single column and the values associated are in a separate column.\n",
    "\n",
    "There are only 168 hour in a week so several outliers emerge by filtering by number of hours."
   ]
  },
  {
   "cell_type": "code",
   "execution_count": 15,
   "metadata": {
    "collapsed": false
   },
   "outputs": [
    {
     "data": {
      "text/html": [
       "<div>\n",
       "<table border=\"1\" class=\"dataframe\">\n",
       "  <thead>\n",
       "    <tr style=\"text-align: right;\">\n",
       "      <th></th>\n",
       "      <th>village_name</th>\n",
       "      <th>demand_point</th>\n",
       "      <th>access_type</th>\n",
       "      <th>variable</th>\n",
       "      <th>value</th>\n",
       "    </tr>\n",
       "  </thead>\n",
       "  <tbody>\n",
       "    <tr>\n",
       "      <th>859</th>\n",
       "      <td>Khamayakha</td>\n",
       "      <td>household</td>\n",
       "      <td>PLN_grid</td>\n",
       "      <td>weekly_TV_hrs</td>\n",
       "      <td>576</td>\n",
       "    </tr>\n",
       "    <tr>\n",
       "      <th>1301</th>\n",
       "      <td>Hobong</td>\n",
       "      <td>household</td>\n",
       "      <td>PLN_grid</td>\n",
       "      <td>weekly_fridge_hrs</td>\n",
       "      <td>120000</td>\n",
       "    </tr>\n",
       "    <tr>\n",
       "      <th>1932</th>\n",
       "      <td>Sosiri</td>\n",
       "      <td>household</td>\n",
       "      <td>PLN_grid</td>\n",
       "      <td>weekly_fridge_hrs</td>\n",
       "      <td>576</td>\n",
       "    </tr>\n",
       "    <tr>\n",
       "      <th>1933</th>\n",
       "      <td>Sosiri</td>\n",
       "      <td>household</td>\n",
       "      <td>PLN_grid</td>\n",
       "      <td>weekly_fridge_hrs</td>\n",
       "      <td>576</td>\n",
       "    </tr>\n",
       "    <tr>\n",
       "      <th>2035</th>\n",
       "      <td>Evale</td>\n",
       "      <td>household</td>\n",
       "      <td>PLN_grid</td>\n",
       "      <td>weekly_fridge_hrs</td>\n",
       "      <td>576</td>\n",
       "    </tr>\n",
       "    <tr>\n",
       "      <th>2043</th>\n",
       "      <td>Khamayakha</td>\n",
       "      <td>household</td>\n",
       "      <td>PLN_grid</td>\n",
       "      <td>weekly_fridge_hrs</td>\n",
       "      <td>576</td>\n",
       "    </tr>\n",
       "    <tr>\n",
       "      <th>3224</th>\n",
       "      <td>Khamayakha</td>\n",
       "      <td>household</td>\n",
       "      <td>PLN_grid</td>\n",
       "      <td>weekly_radio_hrs</td>\n",
       "      <td>576</td>\n",
       "    </tr>\n",
       "    <tr>\n",
       "      <th>5590</th>\n",
       "      <td>Evale</td>\n",
       "      <td>household</td>\n",
       "      <td>PLN_grid</td>\n",
       "      <td>weekly_rice_cooker_hrs</td>\n",
       "      <td>576</td>\n",
       "    </tr>\n",
       "    <tr>\n",
       "      <th>5599</th>\n",
       "      <td>Khamayakha</td>\n",
       "      <td>household</td>\n",
       "      <td>PLN_grid</td>\n",
       "      <td>weekly_rice_cooker_hrs</td>\n",
       "      <td>576</td>\n",
       "    </tr>\n",
       "    <tr>\n",
       "      <th>5932</th>\n",
       "      <td>Abar</td>\n",
       "      <td>household</td>\n",
       "      <td>no_access</td>\n",
       "      <td>weekly_lighting_hrs</td>\n",
       "      <td>1400000</td>\n",
       "    </tr>\n",
       "    <tr>\n",
       "      <th>6491</th>\n",
       "      <td>Babrongko</td>\n",
       "      <td>household</td>\n",
       "      <td>PLN_grid</td>\n",
       "      <td>weekly_lighting_hrs</td>\n",
       "      <td>84000</td>\n",
       "    </tr>\n",
       "    <tr>\n",
       "      <th>6648</th>\n",
       "      <td>Hobong</td>\n",
       "      <td>household</td>\n",
       "      <td>PLN_grid</td>\n",
       "      <td>weekly_lighting_hrs</td>\n",
       "      <td>189</td>\n",
       "    </tr>\n",
       "    <tr>\n",
       "      <th>6784</th>\n",
       "      <td>Khamayakha</td>\n",
       "      <td>household</td>\n",
       "      <td>PLN_grid</td>\n",
       "      <td>weekly_lighting_hrs</td>\n",
       "      <td>576</td>\n",
       "    </tr>\n",
       "  </tbody>\n",
       "</table>\n",
       "</div>"
      ],
      "text/plain": [
       "     village_name demand_point access_type                variable    value\n",
       "859    Khamayakha    household    PLN_grid           weekly_TV_hrs      576\n",
       "1301       Hobong    household    PLN_grid       weekly_fridge_hrs   120000\n",
       "1932       Sosiri    household    PLN_grid       weekly_fridge_hrs      576\n",
       "1933       Sosiri    household    PLN_grid       weekly_fridge_hrs      576\n",
       "2035        Evale    household    PLN_grid       weekly_fridge_hrs      576\n",
       "2043   Khamayakha    household    PLN_grid       weekly_fridge_hrs      576\n",
       "3224   Khamayakha    household    PLN_grid        weekly_radio_hrs      576\n",
       "5590        Evale    household    PLN_grid  weekly_rice_cooker_hrs      576\n",
       "5599   Khamayakha    household    PLN_grid  weekly_rice_cooker_hrs      576\n",
       "5932         Abar    household   no_access     weekly_lighting_hrs  1400000\n",
       "6491    Babrongko    household    PLN_grid     weekly_lighting_hrs    84000\n",
       "6648       Hobong    household    PLN_grid     weekly_lighting_hrs      189\n",
       "6784   Khamayakha    household    PLN_grid     weekly_lighting_hrs      576"
      ]
     },
     "execution_count": 15,
     "metadata": {},
     "output_type": "execute_result"
    }
   ],
   "source": [
    "wk_columns = [f for f in survey.columns if 'weekly' in f]\n",
    "id_columns = ['village_name', 'demand_point', 'access_type']\n",
    "\n",
    "columns = wk_columns + id_columns\n",
    "plt_data = pd.melt(survey[columns], value_vars=wk_columns, id_vars=id_columns)\n",
    "\n",
    "# show everything over 168 hours\n",
    "plt_data[plt_data['value']>168]"
   ]
  },
  {
   "cell_type": "markdown",
   "metadata": {},
   "source": [
    "This strip plot lets us see the per-household data."
   ]
  },
  {
   "cell_type": "code",
   "execution_count": 17,
   "metadata": {
    "collapsed": false
   },
   "outputs": [
    {
     "data": {
      "text/plain": [
       "<matplotlib.axes._subplots.AxesSubplot at 0x10d8f8400>"
      ]
     },
     "execution_count": 17,
     "metadata": {},
     "output_type": "execute_result"
    },
    {
     "name": "stderr",
     "output_type": "stream",
     "text": [
      "/Users/dsoto/anaconda/envs/sotolab/lib/python3.4/site-packages/matplotlib/collections.py:590: FutureWarning: elementwise comparison failed; returning scalar instead, but in the future will perform elementwise comparison\n",
      "  if self._edgecolors == str('face'):\n"
     ]
    },
    {
     "data": {
      "image/png": "[encoded data removed]",
      "text/plain": [
       "<matplotlib.figure.Figure at 0x10da84898>"
      ]
     },
     "metadata": {},
     "output_type": "display_data"
    }
   ],
   "source": [
    "sns.stripplot(data=plt_data[plt_data['value']<=168], x='variable', y='value', jitter=0.2)"
   ]
  },
  {
   "cell_type": "code",
   "execution_count": null,
   "metadata": {
    "collapsed": true
   },
   "outputs": [],
   "source": []
  }
 ],
 "metadata": {
  "kernelspec": {
   "display_name": "Python 3",
   "language": "python",
   "name": "python3"
  },
  "language_info": {
   "codemirror_mode": {
    "name": "ipython",
    "version": 3
   },
   "file_extension": ".py",
   "mimetype": "text/x-python",
   "name": "python",
   "nbconvert_exporter": "python",
   "pygments_lexer": "ipython3",
   "version": "3.4.4"
  }
 },
 "nbformat": 4,
 "nbformat_minor": 0
}
