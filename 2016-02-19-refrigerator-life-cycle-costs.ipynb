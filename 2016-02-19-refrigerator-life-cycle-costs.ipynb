{
 "cells": [
  {
   "cell_type": "markdown",
   "metadata": {},
   "source": [
    "These calculations estimate the optimal thickness of insulation for a simplified refrigerator model.  The life-cycle cost considers both the first cost of purchasing insulation and the operational cost of buying electricity to power the refrigerator.  We assume that the other costs (exterior, compressor, etc.) are fixed with the insulation thickness and therefore do not affect the optimum thickness.\n",
    "\n",
    "$$ \n",
    "\\textrm{Life Cycle Cost} \n",
    "= \\textrm{Captial Cost} + \\textrm{Operational Cost}\n",
    "$$\n",
    "\n",
    "$$ \\textrm{Captial Cost (USD/year)} = \\textrm{Initial Cost (USD)} \\cdot \\textrm{Cost of Capital (1/year)} $$\n",
    "\n",
    "$$ \\textrm{Operational Cost (USD/year)} = \n",
    "\\textrm{Energy Use (kWh/year)} \\cdot \\textrm{Electricity Cost (USD/kWh)} $$\n",
    "\n",
    "The initial cost is based on the volume of insulation and the operational cost is based on the resulting energy use.  As the volume of insulation increases, the capital cost rises and the operational cost decreases.\n",
    "\n",
    "Below are the assumptions in the calculation."
   ]
  },
  {
   "cell_type": "code",
   "execution_count": 48,
   "metadata": {
    "collapsed": false
   },
   "outputs": [],
   "source": [
    "%matplotlib inline\n",
    "import matplotlib.pyplot as plt\n",
    "import numpy as np\n",
    "from pint import UnitRegistry\n",
    "u = UnitRegistry()\n",
    "\n",
    "#assumptions\n",
    "# polyurethane foam\n",
    "k = 0.02 * u.watt / u.meter / u.degK\n",
    "# cost for polyurethane spray foam \n",
    "insulation_cost = 400 / u.meter**3\n",
    "# cost of capital\n",
    "CRF = 0.3\n",
    "# refrigeration coefficient of performance\n",
    "COP = 2.0\n",
    "energy_cost = 0.15 / u.kWh\n",
    "delta_T = 20 * u.degK\n",
    "\n",
    "# 100 liter volume refrigerator\n",
    "r1 = 0.288\n",
    "r2 = np.linspace(1.05 * r1, 1.5 * r1, 100)\n",
    "r1 = r1 * u.meter\n",
    "r2 = 0.5 * u.meter\n",
    "interior_volume = 4 / 3 * np.pi * r1**3"
   ]
  },
  {
   "cell_type": "markdown",
   "metadata": {},
   "source": [
    "Here I calculate the life cycle cost based on the assumptions above.  For simplicity, I assume a spherical cabinet  where the thermal resistance is given by\n",
    "\n",
    "\n",
    "$$ R_{sphere} = \\frac{1}{4\\pi k} [ \\frac{1}{r_1} - \\frac{1}{r_2} ] $$\n",
    "\n",
    "and the volume of insulation is given by\n",
    "\n",
    "$$V_{insulation} = \\frac{4 \\pi}{3} (r_2^3 - r_1^3)$$\n",
    "\n",
    "There are several other assumptions for insulation cost, cost of capital, and heat pump efficiency."
   ]
  },
  {
   "cell_type": "code",
   "execution_count": 51,
   "metadata": {
    "collapsed": false
   },
   "outputs": [],
   "source": [
    "# make this a proper ufunc?\n",
    "# pass all values in\n",
    "\n",
    "#def get_life_cycle_cost(r1, r2, k, delta_T, insulation_cost, energy_cost, COP):\n",
    "def get_life_cycle_cost():\n",
    "    \n",
    "    # computes the thermal resistance and conductance\n",
    "    thermal_resistance = (1/r1 - 1/r2) / 4 / np.pi / k\n",
    "    thermal_conductance = 1 / thermal_resistance\n",
    "    power = thermal_conductance * delta_T\n",
    "    \n",
    "    # insulation cost\n",
    "    volume_insulation = (r2**3 - r1**3) * 4 * np.pi / 3\n",
    "    cost_insulation = volume_insulation * insulation_cost\n",
    "    \n",
    "    # yearly costs\n",
    "    capital_cost = cost_insulation * CRF\n",
    "    operational_cost = power * 1 * u.year / COP * energy_cost \n",
    "    life_cycle_cost = capital_cost + operational_cost\n",
    "    return life_cycle_cost"
   ]
  },
  {
   "cell_type": "markdown",
   "metadata": {},
   "source": [
    "## Insulation thickness for inexpensive electricity"
   ]
  },
  {
   "cell_type": "code",
   "execution_count": 52,
   "metadata": {
    "collapsed": false
   },
   "outputs": [
    {
     "data": {
      "image/png": "[encoded data removed]",
      "text/plain": [
       "<matplotlib.figure.Figure at 0x10e0d1fd0>"
      ]
     },
     "metadata": {},
     "output_type": "display_data"
    }
   ],
   "source": [
    "energy_cost = 0.15 / u.kWh\n",
    "r1 = 0.288\n",
    "r2 = np.linspace(1.05 * r1, 1.5 * r1, 100) * u.meter\n",
    "r1 = r1 * u.meter\n",
    "plt.plot(r2-r1, get_life_cycle_cost())\n",
    "plt.xlabel('Insulation Thickness (m)')\n",
    "plt.ylabel('Yearly Cost of Insulation (USD)');plt.ylim((0, 50))\n",
    "plt.title('Optimum Insulation Thickness')\n",
    "plt.show()"
   ]
  },
  {
   "cell_type": "markdown",
   "metadata": {},
   "source": [
    "This is surprisingly close the the thickness you can observe in a commercially available refrigerator.  Keep in mind that it is sensitive to the cost of electricity and the efficiency of the heat pump."
   ]
  },
  {
   "cell_type": "markdown",
   "metadata": {},
   "source": [
    "# Insulation thickness for expensive electricity"
   ]
  },
  {
   "cell_type": "code",
   "execution_count": 53,
   "metadata": {
    "collapsed": false
   },
   "outputs": [
    {
     "data": {
      "image/png": "[encoded data removed]",
      "text/plain": [
       "<matplotlib.figure.Figure at 0x10ac29ba8>"
      ]
     },
     "metadata": {},
     "output_type": "display_data"
    }
   ],
   "source": [
    "energy_cost = 1.0 / u.kWh\n",
    "plt.plot(r2-r1, get_life_cycle_cost())\n",
    "plt.xlabel('Insulation Thickness (m)')\n",
    "plt.ylabel('Yearly Cost of Insulation (USD)');plt.ylim((0,150))\n",
    "plt.title('Optimum Insulation Thickness')\n",
    "plt.show()"
   ]
  },
  {
   "cell_type": "markdown",
   "metadata": {},
   "source": [
    "We notice that at higher electricity cost, the yearly cost increases and we must have a better insulated cabinet.  Keep in mind that the yearly cost does not include the other refrigeration components so it is an underestimation. \n",
    "\n",
    "Insulation is usually the most cost-effective approach to lowering life-cycle costs for refrigeration.  However, since traditional blown polyurethane insulation is relatively expensive, higher electricity costs mean the yearly cost of refrigeration is expensive even for efficient refrigerators.  At some point, the high cost of electricity in many rural markets will make the cost of refrigeration services to expensive for the local customers."
   ]
  },
  {
   "cell_type": "code",
   "execution_count": null,
   "metadata": {
    "collapsed": false
   },
   "outputs": [],
   "source": []
  }
 ],
 "metadata": {
  "Title": "Refrigerator Life Cycle Costs",
  "date": "2013-10-18",
  "kernelspec": {
   "display_name": "Python 3",
   "language": "python",
   "name": "python3"
  },
  "language_info": {
   "codemirror_mode": {
    "name": "ipython",
    "version": 3
   },
   "file_extension": ".py",
   "mimetype": "text/x-python",
   "name": "python",
   "nbconvert_exporter": "python",
   "pygments_lexer": "ipython3",
   "version": "3.4.4"
  }
 },
 "nbformat": 4,
 "nbformat_minor": 0
}
