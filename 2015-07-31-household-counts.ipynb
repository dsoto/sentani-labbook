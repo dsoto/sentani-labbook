{
 "cells": [
  {
   "cell_type": "code",
   "execution_count": 1,
   "metadata": {
    "collapsed": false
   },
   "outputs": [],
   "source": [
    "%matplotlib inline\n",
    "import pandas as pd\n",
    "import numpy as np\n",
    "import matplotlib.pyplot as plt\n",
    "import seaborn as sns\n",
    "import drs_sentani as sti\n",
    "survey = sti.get_survey()"
   ]
  },
  {
   "cell_type": "code",
   "execution_count": 3,
   "metadata": {
    "collapsed": false
   },
   "outputs": [
    {
     "data": {
      "text/plain": [
       "village_name\n",
       "Abar             46\n",
       "Ajau             14\n",
       "Asei             29\n",
       "Atamali          35\n",
       "Ayapo           120\n",
       "Babrongko        67\n",
       "Burawai           8\n",
       "Donday           50\n",
       "Ebunfauw         36\n",
       "Evale            22\n",
       "Flafow           71\n",
       "Hobong           20\n",
       "Kalio            30\n",
       "Kampung_Baru     36\n",
       "Kensio           19\n",
       "Khageuw          16\n",
       "Khamayakha       14\n",
       "Kheleubulow      52\n",
       "Kwadeware        30\n",
       "Obolyo           11\n",
       "Pantai_Yahim     13\n",
       "Puai             74\n",
       "Simporo          62\n",
       "Sosiri           96\n",
       "Yakonde          59\n",
       "Yobeh            34\n",
       "Yoboi            49\n",
       "Yoka             28\n",
       "Yokiwa           43\n",
       "Name: village_name, dtype: int64"
      ]
     },
     "execution_count": 3,
     "metadata": {},
     "output_type": "execute_result"
    }
   ],
   "source": [
    "survey.groupby('village_name')['village_name'].count()"
   ]
  },
  {
   "cell_type": "code",
   "execution_count": null,
   "metadata": {
    "collapsed": true
   },
   "outputs": [],
   "source": []
  }
 ],
 "metadata": {
  "kernelspec": {
   "display_name": "Python 3",
   "language": "python",
   "name": "python3"
  },
  "language_info": {
   "codemirror_mode": {
    "name": "ipython",
    "version": 3
   },
   "file_extension": ".py",
   "mimetype": "text/x-python",
   "name": "python",
   "nbconvert_exporter": "python",
   "pygments_lexer": "ipython3",
   "version": "3.4.3"
  }
 },
 "nbformat": 4,
 "nbformat_minor": 0
}
