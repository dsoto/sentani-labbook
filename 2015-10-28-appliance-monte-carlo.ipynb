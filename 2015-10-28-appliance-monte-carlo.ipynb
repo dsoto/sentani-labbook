{
 "cells": [
  {
   "cell_type": "markdown",
   "metadata": {},
   "source": [
    "# Energy Monte Carlo\n",
    "\n",
    "This revises work from last week.  I'm going to try different plot style and type.  It may be more useful to plot the histogram as a CDF.  Especially since I could more easily compare different scenarios."
   ]
  },
  {
   "cell_type": "code",
   "execution_count": 1,
   "metadata": {
    "collapsed": true
   },
   "outputs": [],
   "source": [
    "%matplotlib inline\n",
    "import numpy as np\n",
    "import xray\n",
    "from scipy.stats import binom\n",
    "import matplotlib.pyplot as plt\n",
    "import seaborn as sns"
   ]
  },
  {
   "cell_type": "markdown",
   "metadata": {},
   "source": [
    "I create a table of values using pandas and give the index and columns labels."
   ]
  },
  {
   "cell_type": "code",
   "execution_count": 2,
   "metadata": {
    "collapsed": false
   },
   "outputs": [
    {
     "data": {
      "text/html": [
       "<div>\n",
       "<table border=\"1\" class=\"dataframe\">\n",
       "  <thead>\n",
       "    <tr style=\"text-align: right;\">\n",
       "      <th>values</th>\n",
       "      <th>daily_energy</th>\n",
       "      <th>proportions</th>\n",
       "    </tr>\n",
       "    <tr>\n",
       "      <th>appliance</th>\n",
       "      <th></th>\n",
       "      <th></th>\n",
       "    </tr>\n",
       "  </thead>\n",
       "  <tbody>\n",
       "    <tr>\n",
       "      <th>TV</th>\n",
       "      <td>0.20</td>\n",
       "      <td>0.80</td>\n",
       "    </tr>\n",
       "    <tr>\n",
       "      <th>fan</th>\n",
       "      <td>0.50</td>\n",
       "      <td>0.18</td>\n",
       "    </tr>\n",
       "    <tr>\n",
       "      <th>fridge</th>\n",
       "      <td>1.00</td>\n",
       "      <td>0.30</td>\n",
       "    </tr>\n",
       "    <tr>\n",
       "      <th>lighting</th>\n",
       "      <td>0.25</td>\n",
       "      <td>0.90</td>\n",
       "    </tr>\n",
       "    <tr>\n",
       "      <th>radio</th>\n",
       "      <td>0.03</td>\n",
       "      <td>0.40</td>\n",
       "    </tr>\n",
       "    <tr>\n",
       "      <th>rice_cooker</th>\n",
       "      <td>0.50</td>\n",
       "      <td>0.25</td>\n",
       "    </tr>\n",
       "  </tbody>\n",
       "</table>\n",
       "</div>"
      ],
      "text/plain": [
       "values       daily_energy  proportions\n",
       "appliance                             \n",
       "TV                   0.20         0.80\n",
       "fan                  0.50         0.18\n",
       "fridge               1.00         0.30\n",
       "lighting             0.25         0.90\n",
       "radio                0.03         0.40\n",
       "rice_cooker          0.50         0.25"
      ]
     },
     "execution_count": 2,
     "metadata": {},
     "output_type": "execute_result"
    }
   ],
   "source": [
    "import pandas as pd\n",
    "proportions = pd.Series({'TV':0.80, 'radio': 0.40, 'lighting':0.90, 'fridge':0.30, 'fan':0.18, 'rice_cooker':0.25})\n",
    "daily_energy = pd.Series({'TV':0.20, 'radio': 0.03, 'lighting':0.25, 'fridge':1, 'fan':0.5, 'rice_cooker':0.5})\n",
    "appliance_data = pd.DataFrame({'proportions':proportions, 'daily_energy':daily_energy})\n",
    "appliance_data.index.name = 'appliance'\n",
    "appliance_data.columns.name = 'values'\n",
    "appliance_data"
   ]
  },
  {
   "cell_type": "code",
   "execution_count": 3,
   "metadata": {
    "collapsed": false
   },
   "outputs": [],
   "source": [
    "appliance_data = xray.Dataset.from_dataframe(appliance_data)\n",
    "#appliance_data"
   ]
  },
  {
   "cell_type": "code",
   "execution_count": 4,
   "metadata": {
    "collapsed": false
   },
   "outputs": [],
   "source": [
    "# create an array with the proportions of each appliance for each trial\n",
    "num_trials = 10000\n",
    "appliance = appliance_data['appliance'].values\n",
    "data = np.ones((num_trials, len(appliance)))\n",
    "trials = np.arange(num_trials)\n",
    "sim = xray.DataArray(data, coords=[trials, appliance], dims=['trials', 'appliance'])\n",
    "# broadcast multiply by the table above\n",
    "sim = sim * appliance_data['proportions']\n",
    "#sim"
   ]
  },
  {
   "cell_type": "code",
   "execution_count": 5,
   "metadata": {
    "collapsed": false
   },
   "outputs": [],
   "source": [
    "# perform a binomial sample over each element of array to get number of appliances\n",
    "# I want a cleaner way to do this\n",
    "# can I extend a ufunc so that I get a xray object back?\n",
    "num_households = 100\n",
    "data = binom.rvs(num_households, sim)\n",
    "appliance_sim = xray.DataArray(data, coords=[trials, appliance], dims=['trials', 'appliance'])\n",
    "#appliance_sim"
   ]
  },
  {
   "cell_type": "code",
   "execution_count": 6,
   "metadata": {
    "collapsed": false
   },
   "outputs": [],
   "source": [
    "# multiply by daily energy\n",
    "energy_sim = appliance_sim * appliance_data['daily_energy']\n",
    "#energy_sim"
   ]
  },
  {
   "cell_type": "code",
   "execution_count": 7,
   "metadata": {
    "collapsed": false
   },
   "outputs": [],
   "source": [
    "# sum over appliances\n",
    "daily_simulations = energy_sim.sum('appliance') / num_households"
   ]
  },
  {
   "cell_type": "code",
   "execution_count": 8,
   "metadata": {
    "collapsed": false
   },
   "outputs": [
    {
     "name": "stdout",
     "output_type": "stream",
     "text": [
      "The daily energy distribution has a mean of 0.9117696 and stdev of 0.05564195345097079\n"
     ]
    }
   ],
   "source": [
    "print('The daily energy distribution has a mean of {} and stdev of {}'.format(daily_simulations.mean().data,\n",
    "                                                                              daily_simulations.std().data))"
   ]
  },
  {
   "cell_type": "code",
   "execution_count": 9,
   "metadata": {
    "collapsed": false
   },
   "outputs": [
    {
     "data": {
      "image/png": "[encoded data removed]",
      "text/plain": [
       "<matplotlib.figure.Figure at 0x1090137f0>"
      ]
     },
     "metadata": {},
     "output_type": "display_data"
    }
   ],
   "source": [
    "plt.hist(daily_simulations, normed=True, cumulative=True, histtype='step', bins=200)\n",
    "plt.xlabel('Daily Energy Use Per Household (kWh)')\n",
    "plt.ylabel('Cumulative Probability')\n",
    "plt.show()"
   ]
  },
  {
   "cell_type": "code",
   "execution_count": 10,
   "metadata": {
    "collapsed": false
   },
   "outputs": [
    {
     "data": {
      "image/png": "[encoded data removed]",
      "text/plain": [
       "<matplotlib.figure.Figure at 0x1091dbf28>"
      ]
     },
     "metadata": {},
     "output_type": "display_data"
    }
   ],
   "source": [
    "plt.hist(daily_simulations, normed=True, histtype='step', bins=50)\n",
    "plt.xlabel('Daily Energy Use Per Household (kWh)')\n",
    "plt.ylabel('Cumulative Probability')\n",
    "plt.show()\n",
    "#plt.savefig('daily-energy-simulation.pdf')"
   ]
  },
  {
   "cell_type": "code",
   "execution_count": null,
   "metadata": {
    "collapsed": true
   },
   "outputs": [],
   "source": []
  }
 ],
 "metadata": {
  "kernelspec": {
   "display_name": "Python 3",
   "language": "python",
   "name": "python3"
  },
  "language_info": {
   "codemirror_mode": {
    "name": "ipython",
    "version": 3
   },
   "file_extension": ".py",
   "mimetype": "text/x-python",
   "name": "python",
   "nbconvert_exporter": "python",
   "pygments_lexer": "ipython3",
   "version": "3.4.3"
  }
 },
 "nbformat": 4,
 "nbformat_minor": 0
}
