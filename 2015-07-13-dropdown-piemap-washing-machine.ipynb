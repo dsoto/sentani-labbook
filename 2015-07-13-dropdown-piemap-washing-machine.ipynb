{
 "cells": [
  {
   "cell_type": "code",
   "execution_count": null,
   "metadata": {
    "collapsed": true
   },
   "outputs": [],
   "source": [
    "%matplotlib inline\n",
    "import matplotlib.pyplot as plt\n",
    "import pandas as pd\n",
    "import numpy as np\n",
    "import seaborn as sns\n",
    "import drs_sentani as sti\n",
    "survey = sti.get_survey()"
   ]
  },
  {
   "cell_type": "code",
   "execution_count": null,
   "metadata": {
    "collapsed": false
   },
   "outputs": [],
   "source": [
    "# adds a column for interest in purchasing washing machines\n",
    "survey['app_buy_other/washing_machine'] = survey['app_buy_other'].str.contains('cuci').astype('float')"
   ]
  },
  {
   "cell_type": "code",
   "execution_count": null,
   "metadata": {
    "collapsed": false
   },
   "outputs": [],
   "source": [
    "import pysentani\n",
    "import bokeh.models.glyphs as bkg\n",
    "import bokeh.models as bkm\n",
    "import bokeh.plotting as bkp\n",
    "from IPython.html.widgets import interact\n",
    "\n",
    "fieldlist = ['app_now/lighting', \n",
    "             'app_now/TV', \n",
    "             'app_now/radio',\n",
    "             'app_now/fridge', \n",
    "             'app_now/fan', \n",
    "             'app_now/rice_cooker',\n",
    "             'app_now/welder', \n",
    "             'power_supply/PLN_grid',\n",
    "             'power_supply/PLN_microgrid', \n",
    "             'power_supply/private_genset',\n",
    "             'power_supply/community_microgrid',\n",
    "             'app_buy_other/washing_machine']\n",
    "\n",
    "@interact(column=fieldlist)\n",
    "def make_plot(column):    \n",
    "    bkp.output_notebook()\n",
    "    plot = pysentani.create_village_name_map(survey, column)\n",
    "    bkp.show(plot)"
   ]
  }
 ],
 "metadata": {
  "kernelspec": {
   "display_name": "Python 3",
   "language": "python",
   "name": "python3"
  },
  "language_info": {
   "codemirror_mode": {
    "name": "ipython",
    "version": 3
   },
   "file_extension": ".py",
   "mimetype": "text/x-python",
   "name": "python",
   "nbconvert_exporter": "python",
   "pygments_lexer": "ipython3",
   "version": "3.4.3"
  }
 },
 "nbformat": 4,
 "nbformat_minor": 0
}
