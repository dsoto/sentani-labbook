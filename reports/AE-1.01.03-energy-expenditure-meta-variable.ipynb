{
 "metadata": {
  "kernelspec": {
   "display_name": "Python 3",
   "language": "python",
   "name": "python3"
  },
  "language_info": {
   "codemirror_mode": {
    "name": "ipython",
    "version": 3
   },
   "file_extension": ".py",
   "mimetype": "text/x-python",
   "name": "python",
   "nbconvert_exporter": "python",
   "pygments_lexer": "ipython3",
   "version": "3.3.5"
  },
  "name": "",
  "signature": "sha256:b21d1fad80eb424805da717503448488b1f4a6fb74551ae316ef3fb01c8095b5"
 },
 "nbformat": 3,
 "nbformat_minor": 0,
 "worksheets": [
  {
   "cells": [
    {
     "cell_type": "code",
     "collapsed": false,
     "input": [
      "%matplotlib inline\n",
      "import matplotlib.pyplot as plt\n",
      "import pandas as pd\n",
      "import numpy as np\n",
      "import seaborn as sns\n",
      "import drs_sentani as sti\n",
      "survey = sti.get_survey()"
     ],
     "language": "python",
     "metadata": {},
     "outputs": [],
     "prompt_number": 1
    },
    {
     "cell_type": "markdown",
     "metadata": {},
     "source": [
      "# 1.01.03\tCreation of Energy Expenditure meta variable(s)\n",
      "\n",
      "The Consultant should combine various applicable variables into a meta \u201cenergy expenditure\u201d variable or variables, as they see fit.  This may be something like the sum of reported money spent monthly on cell phone charging, electricity payments, and genset expenditures (this is just an example, the Consultant should create this meta variable(s) as they see fit.)  If worthwhile, the Consultant should provide summaries of the various energy expenditure variables that were used to then create the meta variable(s).  Below is a table of some variables that may be of particular interest.  High priority.\n",
      "\n",
      "Some Energy Expenditure Variables\n",
      "\n",
      "- gasoline_price\n",
      "- battery_price\n",
      "- diesel_price\n",
      "- HP_charging_price\n",
      "- kerosene_price\n",
      "- lanterns\n",
      "- candle_price\t\n",
      "- HP_charging_frequency\n",
      "- non_electrice_light_expenditures\t\n",
      "- HP_quantity"
     ]
    },
    {
     "cell_type": "markdown",
     "metadata": {},
     "source": [
      "The key question is, does the overall energy expenditure for each household vary according to the type of electricity access available?\n",
      "\n",
      "We are interested in the overall energy spending since this spending could be diverted to a new microgrid energy source.  It is reasonable to assume that any tariff below the current energy spending providing a comparable degree of service would be acceptable to consumers.  \n",
      "\n",
      "To answer this I create a new variable ``energy_meta_monthly`` that sums the monthly costs for \n",
      "\n",
      "- PLN expenditure\n",
      "- Community microgrid expenditure\n",
      "- Genset expenditure\n",
      "- Mobile phone charging\n",
      "- Lighting from non-electric sources\n",
      "\n",
      "The genset expenditure monthly calculation assumes that the daily value provided in the survey is spent every day.  In future work, we could add a question on the frequency of use of the generator. "
     ]
    },
    {
     "cell_type": "code",
     "collapsed": false,
     "input": [
      "# create derived columns for monthly expenditures\n",
      "survey['PLN_expenditure_monthly'] = survey['PLN_expenditure']\n",
      "survey['community_microgrid_expenditure_monthly'] = survey['community_microgrid_expenditure']\n",
      "survey['genset_expenditure_monthly'] = survey['genset_expenditure'] * 365.25 / 12\n",
      "\n",
      "# adjust HP to monthly assuming charging frequency is reported per week\n",
      "survey['HP_monthly'] = survey['HP_charging_price'] * survey['HP_charging_frequency'] * 52 / 12\n",
      "\n",
      "# adjust lighting to monthly assuming reporting per week\n",
      "survey['lighting_monthly'] = survey['non_electrice_light_expenditures'] * 52 / 12\n",
      "\n",
      "# create access type column\n",
      "survey['access_type'] = sti.access_type(survey)"
     ],
     "language": "python",
     "metadata": {},
     "outputs": [],
     "prompt_number": 2
    },
    {
     "cell_type": "markdown",
     "metadata": {},
     "source": [
      "Here I plot the variation in this total energy expenditure meta-variable according to the access type.  The much higher variation in spending for the PLN microgrid and no access cases is because of the variability in the genset expenditure.  In the second plot, after I remove the genset expenditure from the sum, the variability is comparable."
     ]
    },
    {
     "cell_type": "code",
     "collapsed": false,
     "input": [
      "temp = survey[['PLN_expenditure_monthly', \n",
      "               'community_microgrid_expenditure_monthly', \n",
      "               'genset_expenditure_monthly',\n",
      "               'HP_monthly',\n",
      "               'lighting_monthly']]\n",
      "survey['energy_meta_monthly'] = temp.sum(axis=1)\n",
      "\n",
      "ax = sns.boxplot(survey['energy_meta_monthly'], groupby=survey['access_type'])\n",
      "ax.set_ylim(0,4e6)\n",
      "ax.set_title('Monthly Energy Expenditures')\n",
      "ax.set_ylabel('Energy Expenditure (Rp/month)')\n",
      "ax.set_xlabel('Current Energy Access Type')"
     ],
     "language": "python",
     "metadata": {},
     "outputs": [
      {
       "output_type": "pyout",
       "prompt_number": 3,
       "text": [
        "<matplotlib.text.Text at 0x1028b6470>"
       ]
      },
      {
       "output_type": "display_data",
       "png": "[encoded data removed]",
       "text": [
        "<matplotlib.figure.Figure at 0x103dc4eb8>"
       ]
      }
     ],
     "prompt_number": 3
    },
    {
     "cell_type": "code",
     "collapsed": false,
     "input": [
      "# exclude genset monthly\n",
      "temp = survey[['PLN_expenditure_monthly', \n",
      "               'community_microgrid_expenditure_monthly', \n",
      "               #'genset_expenditure_monthly',\n",
      "               'HP_monthly',\n",
      "               'lighting_monthly']]\n",
      "survey['energy_meta_monthly'] = temp.sum(axis=1)\n",
      "\n",
      "ax = sns.boxplot(survey['energy_meta_monthly'], groupby=survey['access_type'])\n",
      "ax.set_ylim(0,4e6)\n",
      "ax.set_title('Monthly Energy Expenditures Without Genset')\n",
      "ax.set_ylabel('Energy Expenditure (Rp/month)')\n",
      "ax.set_xlabel('Current Energy Access Type')\n",
      "plt.show()"
     ],
     "language": "python",
     "metadata": {},
     "outputs": [
      {
       "output_type": "display_data",
       "png": "[encoded data removed]",
       "text": [
        "<matplotlib.figure.Figure at 0x103dc4be0>"
       ]
      }
     ],
     "prompt_number": 4
    },
    {
     "cell_type": "markdown",
     "metadata": {},
     "source": [
      "Here I make a table of the means and counts to get a sense of the underlying statistics."
     ]
    },
    {
     "cell_type": "code",
     "collapsed": false,
     "input": [
      "pd.set_option('display.float_format', lambda x: '%.1e' % x)\n",
      "survey.groupby('access_type')[['PLN_expenditure_monthly', \n",
      "               'community_microgrid_expenditure_monthly', \n",
      "               'genset_expenditure_monthly',\n",
      "               'HP_monthly',\n",
      "               'lighting_monthly']].agg(['mean', 'count'])"
     ],
     "language": "python",
     "metadata": {},
     "outputs": [
      {
       "html": [
        "<div style=\"max-height:1000px;max-width:1500px;overflow:auto;\">\n",
        "<table border=\"1\" class=\"dataframe\">\n",
        "  <thead>\n",
        "    <tr>\n",
        "      <th></th>\n",
        "      <th colspan=\"2\" halign=\"left\">PLN_expenditure_monthly</th>\n",
        "      <th colspan=\"2\" halign=\"left\">community_microgrid_expenditure_monthly</th>\n",
        "      <th colspan=\"2\" halign=\"left\">genset_expenditure_monthly</th>\n",
        "      <th colspan=\"2\" halign=\"left\">HP_monthly</th>\n",
        "      <th colspan=\"2\" halign=\"left\">lighting_monthly</th>\n",
        "    </tr>\n",
        "    <tr>\n",
        "      <th></th>\n",
        "      <th>mean</th>\n",
        "      <th>count</th>\n",
        "      <th>mean</th>\n",
        "      <th>count</th>\n",
        "      <th>mean</th>\n",
        "      <th>count</th>\n",
        "      <th>mean</th>\n",
        "      <th>count</th>\n",
        "      <th>mean</th>\n",
        "      <th>count</th>\n",
        "    </tr>\n",
        "    <tr>\n",
        "      <th>access_type</th>\n",
        "      <th></th>\n",
        "      <th></th>\n",
        "      <th></th>\n",
        "      <th></th>\n",
        "      <th></th>\n",
        "      <th></th>\n",
        "      <th></th>\n",
        "      <th></th>\n",
        "      <th></th>\n",
        "      <th></th>\n",
        "    </tr>\n",
        "  </thead>\n",
        "  <tbody>\n",
        "    <tr>\n",
        "      <th>PLN_grid</th>\n",
        "      <td>1.7e+05</td>\n",
        "      <td> 450</td>\n",
        "      <td>    nan</td>\n",
        "      <td>  0</td>\n",
        "      <td>6.0e+06</td>\n",
        "      <td>   3</td>\n",
        "      <td>0.0e+00</td>\n",
        "      <td> 45</td>\n",
        "      <td>1.3e+05</td>\n",
        "      <td> 534</td>\n",
        "    </tr>\n",
        "    <tr>\n",
        "      <th>PLN_microgrid</th>\n",
        "      <td>    nan</td>\n",
        "      <td>   0</td>\n",
        "      <td>7.0e+04</td>\n",
        "      <td>  6</td>\n",
        "      <td>1.1e+06</td>\n",
        "      <td>  57</td>\n",
        "      <td>1.9e+04</td>\n",
        "      <td> 94</td>\n",
        "      <td>3.1e+05</td>\n",
        "      <td> 151</td>\n",
        "    </tr>\n",
        "    <tr>\n",
        "      <th>community_microgrid</th>\n",
        "      <td>3.4e+04</td>\n",
        "      <td>   1</td>\n",
        "      <td>1.9e+05</td>\n",
        "      <td> 47</td>\n",
        "      <td>4.6e+06</td>\n",
        "      <td>   1</td>\n",
        "      <td>6.6e+04</td>\n",
        "      <td> 18</td>\n",
        "      <td>3.3e+05</td>\n",
        "      <td>  53</td>\n",
        "    </tr>\n",
        "    <tr>\n",
        "      <th>no_access</th>\n",
        "      <td>    nan</td>\n",
        "      <td>   0</td>\n",
        "      <td>1.1e+05</td>\n",
        "      <td> 22</td>\n",
        "      <td>1.2e+06</td>\n",
        "      <td> 178</td>\n",
        "      <td>8.1e+04</td>\n",
        "      <td> 36</td>\n",
        "      <td>3.0e+05</td>\n",
        "      <td> 300</td>\n",
        "    </tr>\n",
        "  </tbody>\n",
        "</table>\n",
        "</div>"
       ],
       "output_type": "pyout",
       "prompt_number": 5,
       "text": [
        "                    PLN_expenditure_monthly        \\\n",
        "                                       mean count   \n",
        "access_type                                         \n",
        "PLN_grid                            1.7e+05   450   \n",
        "PLN_microgrid                           nan     0   \n",
        "community_microgrid                 3.4e+04     1   \n",
        "no_access                               nan     0   \n",
        "\n",
        "                    community_microgrid_expenditure_monthly        \\\n",
        "                                                       mean count   \n",
        "access_type                                                         \n",
        "PLN_grid                                                nan     0   \n",
        "PLN_microgrid                                       7.0e+04     6   \n",
        "community_microgrid                                 1.9e+05    47   \n",
        "no_access                                           1.1e+05    22   \n",
        "\n",
        "                    genset_expenditure_monthly       HP_monthly        \\\n",
        "                                          mean count       mean count   \n",
        "access_type                                                             \n",
        "PLN_grid                               6.0e+06     3    0.0e+00    45   \n",
        "PLN_microgrid                          1.1e+06    57    1.9e+04    94   \n",
        "community_microgrid                    4.6e+06     1    6.6e+04    18   \n",
        "no_access                              1.2e+06   178    8.1e+04    36   \n",
        "\n",
        "                    lighting_monthly        \n",
        "                                mean count  \n",
        "access_type                                 \n",
        "PLN_grid                     1.3e+05   534  \n",
        "PLN_microgrid                3.1e+05   151  \n",
        "community_microgrid          3.3e+05    53  \n",
        "no_access                    3.0e+05   300  "
       ]
      }
     ],
     "prompt_number": 5
    },
    {
     "cell_type": "code",
     "collapsed": false,
     "input": [],
     "language": "python",
     "metadata": {},
     "outputs": [],
     "prompt_number": 6
    }
   ],
   "metadata": {}
  }
 ]
}