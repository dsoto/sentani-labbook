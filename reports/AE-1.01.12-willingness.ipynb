{
 "metadata": {
  "kernelspec": {
   "display_name": "Python 3",
   "language": "python",
   "name": "python3"
  },
  "language_info": {
   "codemirror_mode": {
    "name": "ipython",
    "version": 3
   },
   "file_extension": ".py",
   "mimetype": "text/x-python",
   "name": "python",
   "nbconvert_exporter": "python",
   "pygments_lexer": "ipython3",
   "version": "3.4.3"
  },
  "name": "",
  "signature": "sha256:b00681150e5da0a74b009d44028f50b908f4450489bcb4c86a327326764f43d1"
 },
 "nbformat": 3,
 "nbformat_minor": 0,
 "worksheets": [
  {
   "cells": [
    {
     "cell_type": "code",
     "collapsed": false,
     "input": [
      "%matplotlib inline\n",
      "import matplotlib.pyplot as plt\n",
      "import pandas as pd\n",
      "import numpy as np\n",
      "import seaborn as sns\n",
      "from drs_sentani import get_survey, strip_chart\n",
      "import drs_sentani as sti\n",
      "survey = get_survey()"
     ],
     "language": "python",
     "metadata": {},
     "outputs": [],
     "prompt_number": 1
    },
    {
     "cell_type": "markdown",
     "metadata": {},
     "source": [
      "# 1.02.12\tWillingness to pay:  \n",
      "\n",
      "The Consultant should summarize the reported willingness to pay data (willingness_monthly, willingness_connect, willingness fridge, willingness_other), and should analyze it vs. reported energy expenditures (the Consultant should investigate if the reported willingness to pay data makes sense with the reported various energy expenditure variables, specific or meta). High priority."
     ]
    },
    {
     "cell_type": "code",
     "collapsed": false,
     "input": [
      "survey['willingness_monthly'].describe()"
     ],
     "language": "python",
     "metadata": {},
     "outputs": [
      {
       "output_type": "pyout",
       "prompt_number": 2,
       "text": [
        "count       1052.000000\n",
        "mean      128762.261407\n",
        "std       214547.021551\n",
        "min            0.000000\n",
        "25%        50000.000000\n",
        "50%       100000.000000\n",
        "75%       150000.000000\n",
        "max      2500000.000000\n",
        "Name: willingness_monthly, dtype: float64"
       ]
      }
     ],
     "prompt_number": 2
    },
    {
     "cell_type": "code",
     "collapsed": false,
     "input": [
      "survey['willingness_connect'].describe()"
     ],
     "language": "python",
     "metadata": {},
     "outputs": [
      {
       "output_type": "pyout",
       "prompt_number": 3,
       "text": [
        "count        1029.000000\n",
        "mean      1108637.172012\n",
        "std       1487369.317653\n",
        "min             0.000000\n",
        "25%        300000.000000\n",
        "50%        700000.000000\n",
        "75%       1500000.000000\n",
        "max      35000000.000000\n",
        "Name: willingness_connect, dtype: float64"
       ]
      }
     ],
     "prompt_number": 3
    },
    {
     "cell_type": "code",
     "collapsed": false,
     "input": [
      "# I'm guessing there are some outliers here since there are two orders of magnitude change\n",
      "survey['willingness_fridge'].describe()"
     ],
     "language": "python",
     "metadata": {},
     "outputs": [
      {
       "output_type": "pyout",
       "prompt_number": 4,
       "text": [
        "count        655.000000\n",
        "mean       52408.290076\n",
        "std       137127.639305\n",
        "min            0.000000\n",
        "25%        20000.000000\n",
        "50%        20000.000000\n",
        "75%        50000.000000\n",
        "max      2000000.000000\n",
        "Name: willingness_fridge, dtype: float64"
       ]
      }
     ],
     "prompt_number": 4
    },
    {
     "cell_type": "markdown",
     "metadata": {},
     "source": [
      "There are modest differences in the mean willingness connection fees for fan and refrigerator owners.  These include responses of zero."
     ]
    },
    {
     "cell_type": "code",
     "collapsed": false,
     "input": [
      "survey.groupby('app_now/fan')['willingness_connect'].mean()"
     ],
     "language": "python",
     "metadata": {},
     "outputs": [
      {
       "output_type": "pyout",
       "prompt_number": 5,
       "text": [
        "app_now/fan\n",
        "0    1072453.794370\n",
        "1    1495490.909091\n",
        "Name: willingness_connect, dtype: float64"
       ]
      }
     ],
     "prompt_number": 5
    },
    {
     "cell_type": "code",
     "collapsed": false,
     "input": [
      "survey.groupby('app_now/fridge')['willingness_connect'].mean()"
     ],
     "language": "python",
     "metadata": {},
     "outputs": [
      {
       "output_type": "pyout",
       "prompt_number": 6,
       "text": [
        "app_now/fridge\n",
        "0    1086642.129630\n",
        "1    1294767.582418\n",
        "Name: willingness_connect, dtype: float64"
       ]
      }
     ],
     "prompt_number": 6
    },
    {
     "cell_type": "markdown",
     "metadata": {},
     "source": [
      "I can compare the distribution of the willingness to pay monthly and the current electricity expenditure to see if they are similar or if customers are paying less than their threshold.  The third quartile for the monthly willingness is lower than the electricity payment."
     ]
    },
    {
     "cell_type": "code",
     "collapsed": false,
     "input": [
      "frequency = {'PLN_expenditure':'monthly',\n",
      "     'community_microgrid_expenditure':'monthly',\n",
      "     'genset_expenditure':'weekly'}\n",
      "\n",
      "multiplier = {'monthly':1, 'weekly':4}\n",
      "\n",
      "# create new columns with same monthly frequency\n",
      "for column in frequency.keys():\n",
      "    # adjust expenditure frequency\n",
      "    expenditure = survey[column] * multiplier[frequency[column]]\n",
      "    new_column = column + '_monthly'\n",
      "    survey[new_column] = expenditure\n",
      "    \n",
      "temp = survey[['PLN_expenditure_monthly', \n",
      "               'community_microgrid_expenditure_monthly', \n",
      "               'genset_expenditure_monthly']]\n",
      "# the sum function will only output NULL if all columns are NULL\n",
      "survey['electricity_monthly'] = temp.sum(axis=1)\n",
      "\n",
      "# should go households only\n",
      "pd.set_option('precision', 2)\n",
      "survey[['willingness_monthly', 'electricity_monthly']].describe()"
     ],
     "language": "python",
     "metadata": {},
     "outputs": [
      {
       "html": [
        "<div style=\"max-height:1000px;max-width:1500px;overflow:auto;\">\n",
        "<table border=\"1\" class=\"dataframe\">\n",
        "  <thead>\n",
        "    <tr style=\"text-align: right;\">\n",
        "      <th></th>\n",
        "      <th>willingness_monthly</th>\n",
        "      <th>electricity_monthly</th>\n",
        "    </tr>\n",
        "  </thead>\n",
        "  <tbody>\n",
        "    <tr>\n",
        "      <th>count</th>\n",
        "      <td>1052.0</td>\n",
        "      <td>757.0</td>\n",
        "    </tr>\n",
        "    <tr>\n",
        "      <th>mean</th>\n",
        "      <td>128762.3</td>\n",
        "      <td>164904.2</td>\n",
        "    </tr>\n",
        "    <tr>\n",
        "      <th>std</th>\n",
        "      <td>214547.0</td>\n",
        "      <td>301523.5</td>\n",
        "    </tr>\n",
        "    <tr>\n",
        "      <th>min</th>\n",
        "      <td>0.0</td>\n",
        "      <td>1500.0</td>\n",
        "    </tr>\n",
        "    <tr>\n",
        "      <th>25%</th>\n",
        "      <td>50000.0</td>\n",
        "      <td>50000.0</td>\n",
        "    </tr>\n",
        "    <tr>\n",
        "      <th>50%</th>\n",
        "      <td>100000.0</td>\n",
        "      <td>100000.0</td>\n",
        "    </tr>\n",
        "    <tr>\n",
        "      <th>75%</th>\n",
        "      <td>150000.0</td>\n",
        "      <td>200000.0</td>\n",
        "    </tr>\n",
        "    <tr>\n",
        "      <th>max</th>\n",
        "      <td>2500000.0</td>\n",
        "      <td>4980000.0</td>\n",
        "    </tr>\n",
        "  </tbody>\n",
        "</table>\n",
        "</div>"
       ],
       "output_type": "pyout",
       "prompt_number": 7,
       "text": [
        "       willingness_monthly  electricity_monthly\n",
        "count               1052.0                757.0\n",
        "mean              128762.3             164904.2\n",
        "std               214547.0             301523.5\n",
        "min                    0.0               1500.0\n",
        "25%                50000.0              50000.0\n",
        "50%               100000.0             100000.0\n",
        "75%               150000.0             200000.0\n",
        "max              2500000.0            4980000.0"
       ]
      }
     ],
     "prompt_number": 7
    },
    {
     "cell_type": "markdown",
     "metadata": {},
     "source": [
      "We could also look at the distribution of the differences.  The median is zero but there seem to be more folks paying more than they would like to."
     ]
    },
    {
     "cell_type": "code",
     "collapsed": false,
     "input": [
      "(survey['willingness_monthly'] - survey['electricity_monthly']).describe()"
     ],
     "language": "python",
     "metadata": {},
     "outputs": [
      {
       "output_type": "pyout",
       "prompt_number": 8,
       "text": [
        "count        709.0\n",
        "mean       -7003.5\n",
        "std       169445.9\n",
        "min     -1950000.0\n",
        "25%       -30000.0\n",
        "50%            0.0\n",
        "75%        10000.0\n",
        "max      1920000.0\n",
        "dtype: float64"
       ]
      }
     ],
     "prompt_number": 8
    },
    {
     "cell_type": "code",
     "collapsed": true,
     "input": [],
     "language": "python",
     "metadata": {},
     "outputs": [],
     "prompt_number": 9
    }
   ],
   "metadata": {}
  }
 ]
}