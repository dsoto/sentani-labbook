{
 "metadata": {
  "kernelspec": {
   "display_name": "Python 3",
   "language": "python",
   "name": "python3"
  },
  "language_info": {
   "codemirror_mode": {
    "name": "ipython",
    "version": 3
   },
   "file_extension": ".py",
   "mimetype": "text/x-python",
   "name": "python",
   "nbconvert_exporter": "python",
   "pygments_lexer": "ipython3",
   "version": "3.4.3"
  },
  "name": ""
 },
 "nbformat": 3,
 "nbformat_minor": 0,
 "worksheets": [
  {
   "cells": [
    {
     "cell_type": "code",
     "collapsed": false,
     "input": [
      "%matplotlib inline\n",
      "import matplotlib.pyplot as plt\n",
      "import pandas as pd\n",
      "import numpy as np\n",
      "import seaborn as sns\n",
      "from drs_sentani import get_survey, strip_chart\n",
      "survey = get_survey()"
     ],
     "language": "python",
     "metadata": {},
     "outputs": [],
     "prompt_number": 1
    },
    {
     "cell_type": "markdown",
     "metadata": {},
     "source": [
      "# 1.02.11\tEnergy Expenditure vs. Appliance Ownership:  \n",
      "\n",
      "The Consultant should investigate if there is any significant correlation between energy expenditure and appliance ownership (either specific variables or meta variables). High priority"
     ]
    },
    {
     "cell_type": "code",
     "collapsed": false,
     "input": [
      "# look at average for fridge and not fridge owners\n",
      "frequency = {'PLN_expenditure':'monthly',\n",
      "     'community_microgrid_expenditure':'monthly',\n",
      "     'genset_expenditure':'weekly'}\n",
      "\n",
      "multiplier = {'monthly':1, 'weekly':4}\n",
      "\n",
      "# create new columns with same monthly frequency\n",
      "for column in frequency.keys():\n",
      "    # adjust expenditure frequency\n",
      "    expenditure = survey[column] * multiplier[frequency[column]]\n",
      "    new_column = column + '_monthly'\n",
      "    survey[new_column] = expenditure\n",
      "    \n",
      "temp = survey[['PLN_expenditure_monthly', \n",
      "               'community_microgrid_expenditure_monthly', \n",
      "               'genset_expenditure_monthly']]\n",
      "# the sum function will only output NULL if all columns are NULL\n",
      "survey['electricity_monthly'] = temp.sum(axis=1)"
     ],
     "language": "python",
     "metadata": {},
     "outputs": [],
     "prompt_number": 2
    },
    {
     "cell_type": "markdown",
     "metadata": {},
     "source": [
      "Households with refrigerators and fans have a higher mean electricity expenditure.  It would be good to also look at the distributions but that isn't done yet."
     ]
    },
    {
     "cell_type": "code",
     "collapsed": false,
     "input": [
      "survey.groupby('app_now/fridge')['electricity_monthly'].mean()"
     ],
     "language": "python",
     "metadata": {},
     "outputs": [
      {
       "output_type": "pyout",
       "prompt_number": 3,
       "text": [
        "app_now/fridge\n",
        "0    125051.601423\n",
        "1    300021.739130\n",
        "Name: electricity_monthly, dtype: float64"
       ]
      }
     ],
     "prompt_number": 3
    },
    {
     "cell_type": "code",
     "collapsed": false,
     "input": [
      "survey.groupby('app_now/fan')['electricity_monthly'].mean()"
     ],
     "language": "python",
     "metadata": {},
     "outputs": [
      {
       "output_type": "pyout",
       "prompt_number": 4,
       "text": [
        "app_now/fan\n",
        "0    132120.578778\n",
        "1    360430.693069\n",
        "Name: electricity_monthly, dtype: float64"
       ]
      }
     ],
     "prompt_number": 4
    },
    {
     "cell_type": "code",
     "collapsed": false,
     "input": [
      "survey.groupby('app_now/rice_cooker')['electricity_monthly'].mean()"
     ],
     "language": "python",
     "metadata": {},
     "outputs": [
      {
       "output_type": "pyout",
       "prompt_number": 5,
       "text": [
        "app_now/rice_cooker\n",
        "0    162908.629442\n",
        "1    168965.909091\n",
        "Name: electricity_monthly, dtype: float64"
       ]
      }
     ],
     "prompt_number": 5
    },
    {
     "cell_type": "code",
     "collapsed": true,
     "input": [],
     "language": "python",
     "metadata": {},
     "outputs": [],
     "prompt_number": 6
    }
   ],
   "metadata": {}
  }
 ]
}