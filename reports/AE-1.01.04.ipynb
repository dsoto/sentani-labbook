{
 "metadata": {
  "kernelspec": {
   "display_name": "Python 3",
   "language": "python",
   "name": "python3"
  },
  "language_info": {
   "codemirror_mode": {
    "name": "ipython",
    "version": 3
   },
   "file_extension": ".py",
   "mimetype": "text/x-python",
   "name": "python",
   "nbconvert_exporter": "python",
   "pygments_lexer": "ipython3",
   "version": "3.3.5"
  },
  "name": ""
 },
 "nbformat": 3,
 "nbformat_minor": 0,
 "worksheets": [
  {
   "cells": [
    {
     "cell_type": "code",
     "collapsed": false,
     "input": [
      "%matplotlib inline\n",
      "import matplotlib.pyplot as plt\n",
      "import pandas as pd\n",
      "import numpy as np\n",
      "import seaborn as sns\n",
      "from drs_sentani import get_survey\n",
      "survey = get_survey()"
     ],
     "language": "python",
     "metadata": {},
     "outputs": [],
     "prompt_number": 1
    },
    {
     "cell_type": "markdown",
     "metadata": {},
     "source": [
      "# 1.02.04\tIncome Indicators\n",
      "\n",
      "The Consultant should analyze the various income indicator variables and report summaries for each.  These include (but are not limited to) the list in the table below.  The Consultant should also determine if a meta variable for income indicator can be constructed, and if so, they should construct this meta variable.  Lower priority\n",
      "\n",
      "Income Indicator variables\n",
      "\n",
      "- HP_y_n\t\n",
      "- building_condition\n",
      "- fish\n",
      "- Job\n",
      "- HP\n",
      "- Assets\n",
      "- cows\n",
      "- jobs_other\n",
      "- Wall\n",
      "- group_livestock_quantity\n",
      "- other\n",
      "- group_income_reg\n",
      "- wall_other\n",
      "- Pigs\n",
      "- group_livestock_quantity\n",
      "- electric_income\n",
      "- Roof\n",
      "- Chickens\n",
      "- machinery\n",
      "- electric_income_freq\n",
      "- roof_other\n",
      "- Goats\n",
      "- asset_other\n",
      "- group_income_reg"
     ]
    },
    {
     "cell_type": "markdown",
     "metadata": {
      "collapsed": false
     },
     "source": [
      "# Status: incomplete\n",
      "\n",
      "I haven't been able to investigate this yet."
     ]
    },
    {
     "cell_type": "code",
     "collapsed": true,
     "input": [],
     "language": "python",
     "metadata": {},
     "outputs": [],
     "prompt_number": 2
    }
   ],
   "metadata": {}
  }
 ]
}