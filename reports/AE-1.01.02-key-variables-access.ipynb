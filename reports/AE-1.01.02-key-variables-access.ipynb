{
 "metadata": {
  "kernelspec": {
   "display_name": "Python 3",
   "language": "python",
   "name": "python3"
  },
  "language_info": {
   "codemirror_mode": {
    "name": "ipython",
    "version": 3
   },
   "file_extension": ".py",
   "mimetype": "text/x-python",
   "name": "python",
   "nbconvert_exporter": "python",
   "pygments_lexer": "ipython3",
   "version": "3.3.5"
  },
  "name": ""
 },
 "nbformat": 3,
 "nbformat_minor": 0,
 "worksheets": [
  {
   "cells": [
    {
     "cell_type": "code",
     "collapsed": false,
     "input": [
      "%matplotlib inline\n",
      "import matplotlib.pyplot as plt\n",
      "import pandas as pd\n",
      "import numpy as np\n",
      "import seaborn as sns\n",
      "import drs_sentani as sti\n",
      "survey = sti.get_survey()"
     ],
     "language": "python",
     "metadata": {},
     "outputs": [],
     "prompt_number": 1
    },
    {
     "cell_type": "markdown",
     "metadata": {},
     "source": [
      "# 1.02.2\tSummary of key variables by Access Type\n",
      "\n",
      "\n",
      "Similar to the above, the Consultant will summarize key data by Access Type (Grid, PLN Micro-grid, Community Micro-grid, Nothing), listing key variable summaries.  (Where as the \u201ckey variable by Village\u201d table will be a large 27 row table, this \u201ckey variable by Access Type\u201d will be a more compact  4 row table, providing a higher level of summary.)  High priority. "
     ]
    },
    {
     "cell_type": "markdown",
     "metadata": {
      "collapsed": true
     },
     "source": [
      "By observing the behavior and patterns in the grid connected households and villages, we can infer what patterns other villages will adopt once connected.  This notebook shows the differences in energy expenditure and appliance ownership by access type.    "
     ]
    },
    {
     "cell_type": "code",
     "collapsed": false,
     "input": [
      "def access_type(survey):\n",
      "    return survey['village_name'].apply(lambda x: sti.access_map.get(x))\n",
      "\n",
      "def income_monthly(survey):\n",
      "    multiplier = {'monthly':1, \n",
      "                  'weekly':4, \n",
      "                  'daily':30, \n",
      "                  'not_regular':np.nan}\n",
      "    return survey['group_income_reg/electric_income'] * survey[\n",
      "                  'group_income_reg/electric_income_freq'].apply(lambda x: multiplier.get(x))    \n",
      "\n",
      "# adjust HP to daily assuming charging frequency is reported per week\n",
      "survey['HP_daily'] = survey['HP_charging_price'] * survey['HP_charging_frequency'] * 52 / 365.25\n",
      "survey['HP_monthly'] = survey['HP_charging_price'] * survey['HP_charging_frequency'] * 52 / 12\n",
      "\n",
      "# adjust lighting to daily assuming reporting per week\n",
      "survey['lighting_daily'] = survey['non_electrice_light_expenditures'] * 52 / 365.25\n",
      "survey['lighting_monthly'] = survey['non_electrice_light_expenditures'] * 52 / 12\n",
      "\n",
      "# generate more columns\n",
      "survey['genset_monthly'] = survey['genset_expenditure'] * 30\n",
      "survey['access_type'] = access_type(survey)\n",
      "survey['income_monthly'] = income_monthly(survey)\n"
     ],
     "language": "python",
     "metadata": {},
     "outputs": [],
     "prompt_number": 2
    },
    {
     "cell_type": "markdown",
     "metadata": {},
     "source": [
      "# Appliance ownership\n",
      "\n",
      "If we plot the percentage of ownership of different appliances, we see differences in the ownership of more demanding loads, especially refrigerators.  The ownership level in the grid locations could be used as a basis of prediction for the load in a similar village once it is electrified.  Other loads, such as television, show little difference by access type.  (I'm a bit surprised by the uniformity of TV and wonder how the folks without access are powering them.)   "
     ]
    },
    {
     "cell_type": "code",
     "collapsed": false,
     "input": [
      "apps = survey.groupby('access_type')[['app_now/TV', \n",
      "                                      'app_now/fridge',\n",
      "                                      'app_now/fan',\n",
      "                                      'app_now/rice_cooker']].mean()\n",
      "apps.plot(kind='bar')\n",
      "plt.show()"
     ],
     "language": "python",
     "metadata": {},
     "outputs": [
      {
       "output_type": "display_data",
       "png": "[encoded data removed]",
       "text": [
        "<matplotlib.figure.Figure at 0x10934af10>"
       ]
      }
     ],
     "prompt_number": 3
    },
    {
     "cell_type": "markdown",
     "metadata": {},
     "source": [
      "Here are the raw percentages (mean) and number of respondents (count) for a few appliances by access type."
     ]
    },
    {
     "cell_type": "code",
     "collapsed": false,
     "input": [
      "pd.set_option('precision', 3)\n",
      "survey.groupby('access_type')[['app_now/TV', \n",
      "                               'app_now/fridge',\n",
      "                               'app_now/fan',\n",
      "                               'app_now/rice_cooker']].agg(['mean', 'count'])"
     ],
     "language": "python",
     "metadata": {},
     "outputs": [
      {
       "html": [
        "<div style=\"max-height:1000px;max-width:1500px;overflow:auto;\">\n",
        "<table border=\"1\" class=\"dataframe\">\n",
        "  <thead>\n",
        "    <tr>\n",
        "      <th></th>\n",
        "      <th colspan=\"2\" halign=\"left\">app_now/TV</th>\n",
        "      <th colspan=\"2\" halign=\"left\">app_now/fridge</th>\n",
        "      <th colspan=\"2\" halign=\"left\">app_now/fan</th>\n",
        "      <th colspan=\"2\" halign=\"left\">app_now/rice_cooker</th>\n",
        "    </tr>\n",
        "    <tr>\n",
        "      <th></th>\n",
        "      <th>mean</th>\n",
        "      <th>count</th>\n",
        "      <th>mean</th>\n",
        "      <th>count</th>\n",
        "      <th>mean</th>\n",
        "      <th>count</th>\n",
        "      <th>mean</th>\n",
        "      <th>count</th>\n",
        "    </tr>\n",
        "    <tr>\n",
        "      <th>access_type</th>\n",
        "      <th></th>\n",
        "      <th></th>\n",
        "      <th></th>\n",
        "      <th></th>\n",
        "      <th></th>\n",
        "      <th></th>\n",
        "      <th></th>\n",
        "      <th></th>\n",
        "    </tr>\n",
        "  </thead>\n",
        "  <tbody>\n",
        "    <tr>\n",
        "      <th>PLN_grid</th>\n",
        "      <td>0.82</td>\n",
        "      <td>568</td>\n",
        "      <td>0.33</td>\n",
        "      <td>568</td>\n",
        "      <td>0.18</td>\n",
        "      <td>568</td>\n",
        "      <td>0.28</td>\n",
        "      <td>568</td>\n",
        "    </tr>\n",
        "    <tr>\n",
        "      <th>PLN_microgrid</th>\n",
        "      <td>0.81</td>\n",
        "      <td>158</td>\n",
        "      <td>0.04</td>\n",
        "      <td>158</td>\n",
        "      <td>0.03</td>\n",
        "      <td>158</td>\n",
        "      <td>0.01</td>\n",
        "      <td>158</td>\n",
        "    </tr>\n",
        "    <tr>\n",
        "      <th>community_microgrid</th>\n",
        "      <td>0.92</td>\n",
        "      <td>52</td>\n",
        "      <td>0.02</td>\n",
        "      <td>52</td>\n",
        "      <td>0.10</td>\n",
        "      <td>52</td>\n",
        "      <td>0.13</td>\n",
        "      <td>52</td>\n",
        "    </tr>\n",
        "    <tr>\n",
        "      <th>no_access</th>\n",
        "      <td>0.80</td>\n",
        "      <td>257</td>\n",
        "      <td>0.02</td>\n",
        "      <td>257</td>\n",
        "      <td>0.08</td>\n",
        "      <td>257</td>\n",
        "      <td>0.03</td>\n",
        "      <td>257</td>\n",
        "    </tr>\n",
        "  </tbody>\n",
        "</table>\n",
        "</div>"
       ],
       "output_type": "pyout",
       "prompt_number": 4,
       "text": [
        "                    app_now/TV       app_now/fridge       app_now/fan        \\\n",
        "                          mean count           mean count        mean count   \n",
        "access_type                                                                   \n",
        "PLN_grid                  0.82   568           0.33   568        0.18   568   \n",
        "PLN_microgrid             0.81   158           0.04   158        0.03   158   \n",
        "community_microgrid       0.92    52           0.02    52        0.10    52   \n",
        "no_access                 0.80   257           0.02   257        0.08   257   \n",
        "\n",
        "                    app_now/rice_cooker        \n",
        "                                   mean count  \n",
        "access_type                                    \n",
        "PLN_grid                           0.28   568  \n",
        "PLN_microgrid                      0.01   158  \n",
        "community_microgrid                0.13    52  \n",
        "no_access                          0.03   257  "
       ]
      }
     ],
     "prompt_number": 4
    },
    {
     "cell_type": "markdown",
     "metadata": {},
     "source": [
      "This table shows the means for monthly income, mobile phone, lighting, and genset spending as well as the number of responses.  Monthly incomes appear to be around $450 USD per month."
     ]
    },
    {
     "cell_type": "code",
     "collapsed": false,
     "input": [
      "pd.set_option('precision', 3)\n",
      "survey.groupby('access_type')[['income_monthly',\n",
      "                               'HP_monthly', \n",
      "                               'lighting_monthly',\n",
      "                               'genset_monthly']].agg(['mean', 'count'])"
     ],
     "language": "python",
     "metadata": {},
     "outputs": [
      {
       "html": [
        "<div style=\"max-height:1000px;max-width:1500px;overflow:auto;\">\n",
        "<table border=\"1\" class=\"dataframe\">\n",
        "  <thead>\n",
        "    <tr>\n",
        "      <th></th>\n",
        "      <th colspan=\"2\" halign=\"left\">income_monthly</th>\n",
        "      <th colspan=\"2\" halign=\"left\">HP_monthly</th>\n",
        "      <th colspan=\"2\" halign=\"left\">lighting_monthly</th>\n",
        "      <th colspan=\"2\" halign=\"left\">genset_monthly</th>\n",
        "    </tr>\n",
        "    <tr>\n",
        "      <th></th>\n",
        "      <th>mean</th>\n",
        "      <th>count</th>\n",
        "      <th>mean</th>\n",
        "      <th>count</th>\n",
        "      <th>mean</th>\n",
        "      <th>count</th>\n",
        "      <th>mean</th>\n",
        "      <th>count</th>\n",
        "    </tr>\n",
        "    <tr>\n",
        "      <th>access_type</th>\n",
        "      <th></th>\n",
        "      <th></th>\n",
        "      <th></th>\n",
        "      <th></th>\n",
        "      <th></th>\n",
        "      <th></th>\n",
        "      <th></th>\n",
        "      <th></th>\n",
        "    </tr>\n",
        "  </thead>\n",
        "  <tbody>\n",
        "    <tr>\n",
        "      <th>PLN_grid</th>\n",
        "      <td>6144277.14</td>\n",
        "      <td>513</td>\n",
        "      <td>0.00</td>\n",
        "      <td>45</td>\n",
        "      <td>133469.10</td>\n",
        "      <td>534</td>\n",
        "      <td>5950000.00</td>\n",
        "      <td>3</td>\n",
        "    </tr>\n",
        "    <tr>\n",
        "      <th>PLN_microgrid</th>\n",
        "      <td>5272740.74</td>\n",
        "      <td>135</td>\n",
        "      <td>18762.41</td>\n",
        "      <td>94</td>\n",
        "      <td>307092.72</td>\n",
        "      <td>151</td>\n",
        "      <td>1115789.47</td>\n",
        "      <td>57</td>\n",
        "    </tr>\n",
        "    <tr>\n",
        "      <th>community_microgrid</th>\n",
        "      <td>5932777.78</td>\n",
        "      <td>18</td>\n",
        "      <td>66444.44</td>\n",
        "      <td>18</td>\n",
        "      <td>333094.34</td>\n",
        "      <td>53</td>\n",
        "      <td>4500000.00</td>\n",
        "      <td>1</td>\n",
        "    </tr>\n",
        "    <tr>\n",
        "      <th>no_access</th>\n",
        "      <td>3616245.16</td>\n",
        "      <td>155</td>\n",
        "      <td>80768.52</td>\n",
        "      <td>36</td>\n",
        "      <td>299420.51</td>\n",
        "      <td>300</td>\n",
        "      <td>1136460.67</td>\n",
        "      <td>178</td>\n",
        "    </tr>\n",
        "  </tbody>\n",
        "</table>\n",
        "</div>"
       ],
       "output_type": "pyout",
       "prompt_number": 5,
       "text": [
        "                    income_monthly       HP_monthly       lighting_monthly  \\\n",
        "                              mean count       mean count             mean   \n",
        "access_type                                                                  \n",
        "PLN_grid                6144277.14   513       0.00    45        133469.10   \n",
        "PLN_microgrid           5272740.74   135   18762.41    94        307092.72   \n",
        "community_microgrid     5932777.78    18   66444.44    18        333094.34   \n",
        "no_access               3616245.16   155   80768.52    36        299420.51   \n",
        "\n",
        "                          genset_monthly        \n",
        "                    count           mean count  \n",
        "access_type                                     \n",
        "PLN_grid              534     5950000.00     3  \n",
        "PLN_microgrid         151     1115789.47    57  \n",
        "community_microgrid    53     4500000.00     1  \n",
        "no_access             300     1136460.67   178  "
       ]
      }
     ],
     "prompt_number": 5
    },
    {
     "cell_type": "markdown",
     "metadata": {},
     "source": [
      "This table expresses the energy spending for non-grid participants as a percentage of reported income.  \n",
      "\n",
      "I would disregard the PLN grid and community microgrid percentages since they are skewed by a few (3 and 1) very high consumption responses."
     ]
    },
    {
     "cell_type": "code",
     "collapsed": false,
     "input": [
      "pd.set_option('precision', 3)\n",
      "expenses = survey.groupby('access_type')[['HP_monthly', \n",
      "                               'lighting_monthly',\n",
      "                               'income_monthly',\n",
      "                               'genset_monthly']].mean()\n",
      "expenses['lighting_percentage'] = expenses['lighting_monthly'] / expenses['income_monthly']\n",
      "expenses['HP_percentage'] = expenses['HP_monthly'] / expenses['income_monthly']\n",
      "expenses['genset_percentage'] = expenses['genset_monthly'] / expenses['income_monthly']\n",
      "expenses.pop('HP_monthly')\n",
      "expenses.pop('lighting_monthly')\n",
      "expenses.pop('income_monthly')\n",
      "expenses.pop('genset_monthly')\n",
      "expenses"
     ],
     "language": "python",
     "metadata": {},
     "outputs": [
      {
       "html": [
        "<div style=\"max-height:1000px;max-width:1500px;overflow:auto;\">\n",
        "<table border=\"1\" class=\"dataframe\">\n",
        "  <thead>\n",
        "    <tr style=\"text-align: right;\">\n",
        "      <th></th>\n",
        "      <th>lighting_percentage</th>\n",
        "      <th>HP_percentage</th>\n",
        "      <th>genset_percentage</th>\n",
        "    </tr>\n",
        "    <tr>\n",
        "      <th>access_type</th>\n",
        "      <th></th>\n",
        "      <th></th>\n",
        "      <th></th>\n",
        "    </tr>\n",
        "  </thead>\n",
        "  <tbody>\n",
        "    <tr>\n",
        "      <th>PLN_grid</th>\n",
        "      <td>0.02</td>\n",
        "      <td>0.00e+00</td>\n",
        "      <td>0.97</td>\n",
        "    </tr>\n",
        "    <tr>\n",
        "      <th>PLN_microgrid</th>\n",
        "      <td>0.06</td>\n",
        "      <td>3.56e-03</td>\n",
        "      <td>0.21</td>\n",
        "    </tr>\n",
        "    <tr>\n",
        "      <th>community_microgrid</th>\n",
        "      <td>0.06</td>\n",
        "      <td>1.12e-02</td>\n",
        "      <td>0.76</td>\n",
        "    </tr>\n",
        "    <tr>\n",
        "      <th>no_access</th>\n",
        "      <td>0.08</td>\n",
        "      <td>2.23e-02</td>\n",
        "      <td>0.31</td>\n",
        "    </tr>\n",
        "  </tbody>\n",
        "</table>\n",
        "</div>"
       ],
       "output_type": "pyout",
       "prompt_number": 6,
       "text": [
        "                     lighting_percentage  HP_percentage  genset_percentage\n",
        "access_type                                                               \n",
        "PLN_grid                            0.02       0.00e+00               0.97\n",
        "PLN_microgrid                       0.06       3.56e-03               0.21\n",
        "community_microgrid                 0.06       1.12e-02               0.76\n",
        "no_access                           0.08       2.23e-02               0.31"
       ]
      }
     ],
     "prompt_number": 6
    },
    {
     "cell_type": "code",
     "collapsed": true,
     "input": [],
     "language": "python",
     "metadata": {},
     "outputs": [],
     "prompt_number": 7
    }
   ],
   "metadata": {}
  }
 ]
}