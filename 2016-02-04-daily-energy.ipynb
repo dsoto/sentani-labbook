{
 "cells": [
  {
   "cell_type": "markdown",
   "metadata": {},
   "source": [
    "# Daily Energy\n",
    "\n",
    "The most basic piece of information is the daily energy use from each microgrid.  The meter provides a kWh export field that we can sample on a daily basis to get this information.\n",
    "\n",
    "I'm building on earlier work in December so that I can analyze multiple villages at once and make comparisons.\n",
    "\n",
    "- open file\n",
    "- parse file and remove unnecessary lines\n",
    "- convert to pandas dataframe\n",
    "- resample\n",
    "- get daily statistics\n",
    "\n",
    "## Next steps\n",
    "\n",
    "- Look at how to calculate number of days with valid data\n",
    "- Calculate uptime"
   ]
  },
  {
   "cell_type": "code",
   "execution_count": 1,
   "metadata": {
    "collapsed": false
   },
   "outputs": [],
   "source": [
    "import pandas as pd\n",
    "\n",
    "def parse_file(energy_file_name):\n",
    "    # read in raw CSV file for preprocessing\n",
    "    energy_file = open(energy_file_name)\n",
    "    # append data lines after header beginning with 'Timestamp'\n",
    "    # dump lines from communications messages or empty lines and write to string\n",
    "    file_string = ''\n",
    "    omit_strings = ['Power Up', 'Communication Lost', 'Power Down', ',,,,,,,,,,,']\n",
    "    # append data not matching omit_strings after sentinel is reached\n",
    "    data_found = False\n",
    "    for line in energy_file.readlines():\n",
    "        if 'Timestamp' in line:\n",
    "            data_found = True\n",
    "        if not any(omit in line for omit in omit_strings) and data_found:\n",
    "            file_string += line\n",
    "    return file_string    \n",
    "\n",
    "def create_data_frame(energy_file_name):\n",
    "    # use pre-parsed string to read in data file to pandas and sort by date\n",
    "    file_string = parse_file(energy_file_name)\n",
    "    import io\n",
    "    energy_data = pd.read_csv(io.StringIO(file_string),\n",
    "                          index_col=0, \n",
    "                          parse_dates=[0], \n",
    "                          thousands=',')\n",
    "    energy_data = energy_data.sort_index()\n",
    "    return energy_data\n",
    "\n",
    "def get_energy_stats(energy_data):\n",
    "    energy = energy_data['kWh export']\n",
    "    resampled = energy.resample('D').diff()\n",
    "    return resampled.mean(), resampled.median()"
   ]
  },
  {
   "cell_type": "code",
   "execution_count": 2,
   "metadata": {
    "collapsed": false
   },
   "outputs": [
    {
     "name": "stdout",
     "output_type": "stream",
     "text": [
      "../data-timeseries/Data_Logs Ajau Agustus.csv (611.08185650485018, 623.0481108931781)\n",
      "../data-timeseries/Data_Logs Atamali Agustus.csv (15.37019867111999, 16.787385937828503)\n",
      "../data-timeseries/Data_Logs Ayapo Agustus.csv (95.387184750195217, 97.45942788562752)\n",
      "../data-timeseries/Data_Logs ASEI July.csv (186.8583815028901, 213.20879022438567)\n",
      "../data-timeseries/Data_Logs Kensio Agustus.csv (10.781886042778202, 9.85262661896104)\n"
     ]
    }
   ],
   "source": [
    "energy_file_names = [\"../data-timeseries/Data_Logs Ajau Agustus.csv\",\n",
    "                     \"../data-timeseries/Data_Logs Atamali Agustus.csv\",\n",
    "                     \"../data-timeseries/Data_Logs Ayapo Agustus.csv\",\n",
    "                     \"../data-timeseries/Data_Logs ASEI July.csv\",\n",
    "                     \"../data-timeseries/Data_Logs Kensio Agustus.csv\"]\n",
    "\n",
    "for energy_file_name in energy_file_names: \n",
    "    energy_data = create_data_frame(energy_file_name)\n",
    "    print(energy_file_name, get_energy_stats(energy_data))"
   ]
  },
  {
   "cell_type": "code",
   "execution_count": null,
   "metadata": {
    "collapsed": true
   },
   "outputs": [],
   "source": []
  }
 ],
 "metadata": {
  "kernelspec": {
   "display_name": "Python 3",
   "language": "python",
   "name": "python3"
  },
  "language_info": {
   "codemirror_mode": {
    "name": "ipython",
    "version": 3
   },
   "file_extension": ".py",
   "mimetype": "text/x-python",
   "name": "python",
   "nbconvert_exporter": "python",
   "pygments_lexer": "ipython3",
   "version": "3.4.3"
  }
 },
 "nbformat": 4,
 "nbformat_minor": 0
}
