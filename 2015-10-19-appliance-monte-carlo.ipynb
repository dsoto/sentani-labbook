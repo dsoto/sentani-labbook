{
 "cells": [
  {
   "cell_type": "markdown",
   "metadata": {},
   "source": [
    "# Daily Electricity Forecasting\n",
    "\n",
    "This notebook is a first cut at performing a Monte Carlo simulation to estimate the electricity usage of a group of households, given the forecast proportion of each type of appliance likely to be owned.\n",
    "\n",
    "We have two inputs for each appliance type, probability of a single household owning the appliance, and the daily energy use of the appliance\n",
    "\n",
    "| | probability of ownership | kWh per day |\n",
    "|-|--------------------------|-------------|\n",
    "| TV | 0.5           | 0.1 |\n",
    "| light | 0.9        | 0.1 |\n",
    "\n",
    "We create and populate a matrix with the number of expected appliances of each type.  The number of appliances is obtained from a binomial distribution.  For example:\n",
    "\n",
    "|         |  TV    |     radio |\n",
    "|---------|--------|-----------|\n",
    "| trial 1 | num TV | num radio |\n",
    "| trial 2 | num TV | num radio |\n",
    "\n",
    "The columns of this table are then multiplied by the corresponding energy usage for that appliance and summed.  This leaves you with a column of values representing possible daily electricity totals.  A histogram constructed from this will give some idea of the likely range of electricity use in the future.\n",
    "\n",
    "This method does not yet consider the rate of growth of electricity use."
   ]
  },
  {
   "cell_type": "code",
   "execution_count": 56,
   "metadata": {
    "collapsed": true
   },
   "outputs": [],
   "source": [
    "%matplotlib inline\n",
    "import numpy as np\n",
    "from scipy.stats import binom\n",
    "import matplotlib.pyplot as plt"
   ]
  },
  {
   "cell_type": "code",
   "execution_count": 57,
   "metadata": {
    "collapsed": false
   },
   "outputs": [],
   "source": [
    "def get_num_appliances(n_households, proportion, num_samples):\n",
    "    return binom.rvs(n_households, proportion, size=num_samples)\n",
    "\n",
    "# is there a way to get nicely aligned multiplications by using labeled data?\n",
    "# is it simple to do this with xray?\n",
    "\n",
    "# create vector of trials for each appliance\n",
    "appliances = ['TV', 'radio']\n",
    "num_samples = 1000\n",
    "n_households = 100\n",
    "proportion = 0.5 # make dictionary or lookup table\n",
    "simulation = np.zeros((num_samples, len(appliances)))\n",
    "for i, app in enumerate(appliances):\n",
    "    simulation[:,i] = get_num_appliances(n_households, proportion, num_samples)"
   ]
  },
  {
   "cell_type": "code",
   "execution_count": 58,
   "metadata": {
    "collapsed": false
   },
   "outputs": [],
   "source": [
    "energy_simulation = simulation * np.array([1., 2.])\n",
    "daily_simulations = energy_simulation.sum(axis=1)"
   ]
  },
  {
   "cell_type": "code",
   "execution_count": 59,
   "metadata": {
    "collapsed": false
   },
   "outputs": [
    {
     "data": {
      "image/png": "[encoded data removed]",
      "text/plain": [
       "<matplotlib.figure.Figure at 0x107dba668>"
      ]
     },
     "metadata": {},
     "output_type": "display_data"
    }
   ],
   "source": [
    "plt.hist(daily_simulations)\n",
    "plt.show()"
   ]
  }
 ],
 "metadata": {
  "kernelspec": {
   "display_name": "Python 3",
   "language": "python",
   "name": "python3"
  },
  "language_info": {
   "codemirror_mode": {
    "name": "ipython",
    "version": 3
   },
   "file_extension": ".py",
   "mimetype": "text/x-python",
   "name": "python",
   "nbconvert_exporter": "python",
   "pygments_lexer": "ipython3",
   "version": "3.4.3"
  }
 },
 "nbformat": 4,
 "nbformat_minor": 0
}
