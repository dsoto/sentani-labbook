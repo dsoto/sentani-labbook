{
 "cells": [
  {
   "cell_type": "code",
   "execution_count": 1,
   "metadata": {
    "collapsed": true
   },
   "outputs": [],
   "source": [
    "%matplotlib inline\n",
    "import pandas as pd\n",
    "import numpy as np\n",
    "import matplotlib.pyplot as plt\n",
    "import seaborn as sns\n",
    "from drs_sentani import get_survey\n",
    "survey = get_survey()\n",
    "import pysentani as sti"
   ]
  },
  {
   "cell_type": "markdown",
   "metadata": {},
   "source": [
    "We can use value counts to get a quick summary of the number of households reporting a village name.  ``value_counts`` returns a pandas series."
   ]
  },
  {
   "cell_type": "code",
   "execution_count": 14,
   "metadata": {
    "collapsed": false,
    "scrolled": true
   },
   "outputs": [
    {
     "data": {
      "text/plain": [
       "Ayapo           120\n",
       "Sosiri           96\n",
       "Puai             74\n",
       "Flafow           71\n",
       "Babrongko        67\n",
       "Simporo          62\n",
       "Yakonde          59\n",
       "Kheleubulow      52\n",
       "Donday           50\n",
       "Yoboi            49\n",
       "Abar             46\n",
       "Yokiwa           43\n",
       "Kampung_Baru     36\n",
       "Ebunfauw         36\n",
       "Atamali          35\n",
       "Yobeh            34\n",
       "Kalio            30\n",
       "Kwadeware        30\n",
       "Asei             29\n",
       "Yoka             28\n",
       "Evale            22\n",
       "Hobong           20\n",
       "Kensio           19\n",
       "Khageuw          16\n",
       "Ajau             14\n",
       "Khamayakha       14\n",
       "Pantai_Yahim     13\n",
       "Obolyo           11\n",
       "Burawai           8\n",
       "dtype: int64"
      ]
     },
     "execution_count": 14,
     "metadata": {},
     "output_type": "execute_result"
    }
   ],
   "source": [
    "survey['village_name'].value_counts()"
   ]
  },
  {
   "cell_type": "markdown",
   "metadata": {},
   "source": [
    "If we convert this series into a DataFrame, we can call a method that outputs a string that will create a latex table.  If we save this to a file, the paper could read it in."
   ]
  },
  {
   "cell_type": "code",
   "execution_count": 15,
   "metadata": {
    "collapsed": false
   },
   "outputs": [
    {
     "name": "stdout",
     "output_type": "stream",
     "text": [
      "\\begin{tabular}{lr}\n",
      "\\toprule\n",
      "{} &    0 \\\\\n",
      "\\midrule\n",
      "Ayapo        &  120 \\\\\n",
      "Sosiri       &   96 \\\\\n",
      "Puai         &   74 \\\\\n",
      "Flafow       &   71 \\\\\n",
      "Babrongko    &   67 \\\\\n",
      "Simporo      &   62 \\\\\n",
      "Yakonde      &   59 \\\\\n",
      "Kheleubulow  &   52 \\\\\n",
      "Donday       &   50 \\\\\n",
      "Yoboi        &   49 \\\\\n",
      "Abar         &   46 \\\\\n",
      "Yokiwa       &   43 \\\\\n",
      "Kampung\\_Baru &   36 \\\\\n",
      "Ebunfauw     &   36 \\\\\n",
      "Atamali      &   35 \\\\\n",
      "Yobeh        &   34 \\\\\n",
      "Kalio        &   30 \\\\\n",
      "Kwadeware    &   30 \\\\\n",
      "Asei         &   29 \\\\\n",
      "Yoka         &   28 \\\\\n",
      "Evale        &   22 \\\\\n",
      "Hobong       &   20 \\\\\n",
      "Kensio       &   19 \\\\\n",
      "Khageuw      &   16 \\\\\n",
      "Ajau         &   14 \\\\\n",
      "Khamayakha   &   14 \\\\\n",
      "Pantai\\_Yahim &   13 \\\\\n",
      "Obolyo       &   11 \\\\\n",
      "Burawai      &    8 \\\\\n",
      "\\bottomrule\n",
      "\\end{tabular}\n",
      "\n"
     ]
    }
   ],
   "source": [
    "print(pd.DataFrame(survey['village_name'].value_counts()).to_latex())"
   ]
  },
  {
   "cell_type": "markdown",
   "metadata": {},
   "source": [
    "We can also use the tabulate library for a nice table we can use in a markdown document."
   ]
  },
  {
   "cell_type": "code",
   "execution_count": 23,
   "metadata": {
    "collapsed": false
   },
   "outputs": [
    {
     "name": "stdout",
     "output_type": "stream",
     "text": [
      "|:-------------|----:|\n",
      "| Ayapo        | 120 |\n",
      "| Sosiri       |  96 |\n",
      "| Puai         |  74 |\n",
      "| Flafow       |  71 |\n",
      "| Babrongko    |  67 |\n",
      "| Simporo      |  62 |\n",
      "| Yakonde      |  59 |\n",
      "| Kheleubulow  |  52 |\n",
      "| Donday       |  50 |\n",
      "| Yoboi        |  49 |\n",
      "| Abar         |  46 |\n",
      "| Yokiwa       |  43 |\n",
      "| Kampung_Baru |  36 |\n",
      "| Ebunfauw     |  36 |\n",
      "| Atamali      |  35 |\n",
      "| Yobeh        |  34 |\n",
      "| Kalio        |  30 |\n",
      "| Kwadeware    |  30 |\n",
      "| Asei         |  29 |\n",
      "| Yoka         |  28 |\n",
      "| Evale        |  22 |\n",
      "| Hobong       |  20 |\n",
      "| Kensio       |  19 |\n",
      "| Khageuw      |  16 |\n",
      "| Ajau         |  14 |\n",
      "| Khamayakha   |  14 |\n",
      "| Pantai_Yahim |  13 |\n",
      "| Obolyo       |  11 |\n",
      "| Burawai      |   8 |\n"
     ]
    }
   ],
   "source": [
    "from tabulate import tabulate\n",
    "print(tabulate(pd.DataFrame(survey['village_name'].value_counts()), tablefmt='pipe'))"
   ]
  },
  {
   "cell_type": "code",
   "execution_count": null,
   "metadata": {
    "collapsed": true
   },
   "outputs": [],
   "source": []
  }
 ],
 "metadata": {
  "kernelspec": {
   "display_name": "Python 3",
   "language": "python",
   "name": "python3"
  },
  "language_info": {
   "codemirror_mode": {
    "name": "ipython",
    "version": 3
   },
   "file_extension": ".py",
   "mimetype": "text/x-python",
   "name": "python",
   "nbconvert_exporter": "python",
   "pygments_lexer": "ipython3",
   "version": "3.4.3"
  }
 },
 "nbformat": 4,
 "nbformat_minor": 0
}
