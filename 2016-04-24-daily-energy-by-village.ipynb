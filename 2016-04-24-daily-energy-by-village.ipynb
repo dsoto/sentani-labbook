{
 "cells": [
  {
   "cell_type": "code",
   "execution_count": 1,
   "metadata": {
    "collapsed": true
   },
   "outputs": [],
   "source": [
    "%matplotlib inline\n",
    "import matplotlib.pyplot as plt\n",
    "import seaborn as sns\n",
    "import pandas as pd\n",
    "import pysentani as sti\n",
    "survey = pd.read_excel('../data-anonymous/sentani-merged-cleaned-anonymous-2014-11-29.xlsx')\n",
    "survey['access_type'] = sti.access_type(survey)"
   ]
  },
  {
   "cell_type": "markdown",
   "metadata": {},
   "source": [
    "Average energy use will be calculated by appliance from use hours. The sum of the average appliance energy columns reflects average total energy use by all appliances. "
   ]
  },
  {
   "cell_type": "code",
   "execution_count": 2,
   "metadata": {
    "collapsed": true
   },
   "outputs": [],
   "source": [
    "for app in ['TV', 'radio', 'fridge', 'fan', 'rice_cooker', 'lighting']:\n",
    "    # generate column labels for each appliance\n",
    "    wk_col = 'app_{}_per_wk'.format(app)\n",
    "    hr_col = 'app_{}_hrs'.format(app)\n",
    "    # if null or within range use value, otherwise use max possible value\n",
    "    survey[hr_col] = survey[hr_col].where(survey[hr_col].isnull() | (survey[hr_col] <= 24), 24)\n",
    "    survey[wk_col] = survey[wk_col].where(survey[wk_col].isnull() | (survey[wk_col] <= 7), 7)\n",
    "\n",
    "    # ensure non-null values are within bounds\n",
    "    assert(all(survey[wk_col].dropna() <= 7))\n",
    "    assert(all(survey[wk_col].dropna() >= 0))\n",
    "    assert(all(survey[hr_col].dropna() <= 24))\n",
    "    assert(all(survey[hr_col].dropna() >= 0))"
   ]
  },
  {
   "cell_type": "code",
   "execution_count": 3,
   "metadata": {
    "collapsed": false
   },
   "outputs": [],
   "source": [
    "powers = {'TV':0.040, 'fridge':0.100, 'radio':0.010, 'fan':0.050, 'rice_cooker':0.350, 'lighting':0.050}\n",
    "appliance_list = ['TV', 'fridge', 'radio', 'fan', 'rice_cooker', 'lighting']\n",
    "\n",
    "for appliance in appliance_list:\n",
    "    # create column label from appliance names\n",
    "    wk_col = 'app_{}_per_wk'.format(appliance)\n",
    "    hr_col = 'app_{}_hrs'.format(appliance)\n",
    "    energy_col = 'daily_{}_energy'.format(appliance)\n",
    "    weekly_hr_col = 'weekly_{}_hrs'.format(appliance)\n",
    "    survey[weekly_hr_col] = survey[wk_col] * survey[hr_col]    \n",
    "    survey[energy_col] = survey[weekly_hr_col] / 7 * powers[appliance]"
   ]
  },
  {
   "cell_type": "markdown",
   "metadata": {},
   "source": [
    "Selecting only for energy columns created above."
   ]
  },
  {
   "cell_type": "code",
   "execution_count": 4,
   "metadata": {
    "collapsed": true
   },
   "outputs": [],
   "source": [
    "columns = ['access_type',\n",
    "           'village_name',\n",
    "           'daily_lighting_energy',\n",
    "           'daily_TV_energy',\n",
    "           'daily_radio_energy', \n",
    "           'daily_fridge_energy', \n",
    "           'daily_rice_cooker_energy',\n",
    "           'daily_fan_energy']\n"
   ]
  },
  {
   "cell_type": "markdown",
   "metadata": {},
   "source": [
    "Filling null responses will ensure that energy use is calculated only if an appliance is owned and when we take the mean it will reflect the per household use for the entire village."
   ]
  },
  {
   "cell_type": "code",
   "execution_count": 5,
   "metadata": {
    "collapsed": false
   },
   "outputs": [
    {
     "data": {
      "text/html": [
       "<div>\n",
       "<table border=\"1\" class=\"dataframe\">\n",
       "  <thead>\n",
       "    <tr style=\"text-align: right;\">\n",
       "      <th></th>\n",
       "      <th>access_type</th>\n",
       "      <th>village_name</th>\n",
       "      <th>daily_lighting_energy</th>\n",
       "      <th>daily_TV_energy</th>\n",
       "      <th>daily_radio_energy</th>\n",
       "      <th>daily_fridge_energy</th>\n",
       "      <th>daily_rice_cooker_energy</th>\n",
       "      <th>daily_fan_energy</th>\n",
       "    </tr>\n",
       "  </thead>\n",
       "  <tbody>\n",
       "    <tr>\n",
       "      <th>0</th>\n",
       "      <td>no_access</td>\n",
       "      <td>Puai</td>\n",
       "      <td>0.000000</td>\n",
       "      <td>0.160000</td>\n",
       "      <td>0.020000</td>\n",
       "      <td>0</td>\n",
       "      <td>0</td>\n",
       "      <td>0</td>\n",
       "    </tr>\n",
       "    <tr>\n",
       "      <th>1</th>\n",
       "      <td>no_access</td>\n",
       "      <td>Abar</td>\n",
       "      <td>0.042857</td>\n",
       "      <td>0.080000</td>\n",
       "      <td>0.008571</td>\n",
       "      <td>0</td>\n",
       "      <td>0</td>\n",
       "      <td>0</td>\n",
       "    </tr>\n",
       "    <tr>\n",
       "      <th>2</th>\n",
       "      <td>no_access</td>\n",
       "      <td>Abar</td>\n",
       "      <td>0.000000</td>\n",
       "      <td>0.120000</td>\n",
       "      <td>0.000000</td>\n",
       "      <td>0</td>\n",
       "      <td>0</td>\n",
       "      <td>0</td>\n",
       "    </tr>\n",
       "    <tr>\n",
       "      <th>3</th>\n",
       "      <td>no_access</td>\n",
       "      <td>Abar</td>\n",
       "      <td>0.114286</td>\n",
       "      <td>0.022857</td>\n",
       "      <td>0.000000</td>\n",
       "      <td>0</td>\n",
       "      <td>0</td>\n",
       "      <td>0</td>\n",
       "    </tr>\n",
       "    <tr>\n",
       "      <th>4</th>\n",
       "      <td>no_access</td>\n",
       "      <td>Abar</td>\n",
       "      <td>0.300000</td>\n",
       "      <td>0.000000</td>\n",
       "      <td>0.000000</td>\n",
       "      <td>0</td>\n",
       "      <td>0</td>\n",
       "      <td>0</td>\n",
       "    </tr>\n",
       "  </tbody>\n",
       "</table>\n",
       "</div>"
      ],
      "text/plain": [
       "  access_type village_name  daily_lighting_energy  daily_TV_energy  \\\n",
       "0   no_access         Puai               0.000000         0.160000   \n",
       "1   no_access         Abar               0.042857         0.080000   \n",
       "2   no_access         Abar               0.000000         0.120000   \n",
       "3   no_access         Abar               0.114286         0.022857   \n",
       "4   no_access         Abar               0.300000         0.000000   \n",
       "\n",
       "   daily_radio_energy  daily_fridge_energy  daily_rice_cooker_energy  \\\n",
       "0            0.020000                    0                         0   \n",
       "1            0.008571                    0                         0   \n",
       "2            0.000000                    0                         0   \n",
       "3            0.000000                    0                         0   \n",
       "4            0.000000                    0                         0   \n",
       "\n",
       "   daily_fan_energy  \n",
       "0                 0  \n",
       "1                 0  \n",
       "2                 0  \n",
       "3                 0  \n",
       "4                 0  "
      ]
     },
     "execution_count": 5,
     "metadata": {},
     "output_type": "execute_result"
    }
   ],
   "source": [
    "energy_data = survey[columns]\n",
    "energy_data = energy_data.fillna(0)\n",
    "energy_data.head()"
   ]
  },
  {
   "cell_type": "markdown",
   "metadata": {},
   "source": [
    "Grouping energy columns by each village and their respective access type. I reset the index to get the data frame into a graph friendly format."
   ]
  },
  {
   "cell_type": "code",
   "execution_count": 6,
   "metadata": {
    "collapsed": false
   },
   "outputs": [
    {
     "data": {
      "text/html": [
       "<div>\n",
       "<table border=\"1\" class=\"dataframe\">\n",
       "  <thead>\n",
       "    <tr style=\"text-align: right;\">\n",
       "      <th></th>\n",
       "      <th>village_name</th>\n",
       "      <th>access_type</th>\n",
       "      <th>daily_lighting_energy</th>\n",
       "      <th>daily_TV_energy</th>\n",
       "      <th>daily_radio_energy</th>\n",
       "      <th>daily_fridge_energy</th>\n",
       "      <th>daily_rice_cooker_energy</th>\n",
       "      <th>daily_fan_energy</th>\n",
       "    </tr>\n",
       "  </thead>\n",
       "  <tbody>\n",
       "    <tr>\n",
       "      <th>0</th>\n",
       "      <td>Abar</td>\n",
       "      <td>no_access</td>\n",
       "      <td>0.095031</td>\n",
       "      <td>0.067329</td>\n",
       "      <td>0.013913</td>\n",
       "      <td>0.015217</td>\n",
       "      <td>0.000000</td>\n",
       "      <td>0.002795</td>\n",
       "    </tr>\n",
       "    <tr>\n",
       "      <th>1</th>\n",
       "      <td>Ajau</td>\n",
       "      <td>PLN_grid</td>\n",
       "      <td>0.526531</td>\n",
       "      <td>0.141633</td>\n",
       "      <td>0.012041</td>\n",
       "      <td>0.440816</td>\n",
       "      <td>0.128571</td>\n",
       "      <td>0.000000</td>\n",
       "    </tr>\n",
       "    <tr>\n",
       "      <th>2</th>\n",
       "      <td>Asei</td>\n",
       "      <td>PLN_grid</td>\n",
       "      <td>0.439655</td>\n",
       "      <td>0.212808</td>\n",
       "      <td>0.003202</td>\n",
       "      <td>0.744828</td>\n",
       "      <td>1.227586</td>\n",
       "      <td>0.009606</td>\n",
       "    </tr>\n",
       "    <tr>\n",
       "      <th>3</th>\n",
       "      <td>Atamali</td>\n",
       "      <td>community_microgrid</td>\n",
       "      <td>0.261224</td>\n",
       "      <td>0.181224</td>\n",
       "      <td>0.016163</td>\n",
       "      <td>0.000000</td>\n",
       "      <td>0.154286</td>\n",
       "      <td>0.013265</td>\n",
       "    </tr>\n",
       "    <tr>\n",
       "      <th>4</th>\n",
       "      <td>Ayapo</td>\n",
       "      <td>PLN_microgrid</td>\n",
       "      <td>0.309583</td>\n",
       "      <td>0.129333</td>\n",
       "      <td>0.009214</td>\n",
       "      <td>0.018333</td>\n",
       "      <td>0.023333</td>\n",
       "      <td>0.006071</td>\n",
       "    </tr>\n",
       "  </tbody>\n",
       "</table>\n",
       "</div>"
      ],
      "text/plain": [
       "  village_name          access_type  daily_lighting_energy  daily_TV_energy  \\\n",
       "0         Abar            no_access               0.095031         0.067329   \n",
       "1         Ajau             PLN_grid               0.526531         0.141633   \n",
       "2         Asei             PLN_grid               0.439655         0.212808   \n",
       "3      Atamali  community_microgrid               0.261224         0.181224   \n",
       "4        Ayapo        PLN_microgrid               0.309583         0.129333   \n",
       "\n",
       "   daily_radio_energy  daily_fridge_energy  daily_rice_cooker_energy  \\\n",
       "0            0.013913             0.015217                  0.000000   \n",
       "1            0.012041             0.440816                  0.128571   \n",
       "2            0.003202             0.744828                  1.227586   \n",
       "3            0.016163             0.000000                  0.154286   \n",
       "4            0.009214             0.018333                  0.023333   \n",
       "\n",
       "   daily_fan_energy  \n",
       "0          0.002795  \n",
       "1          0.000000  \n",
       "2          0.009606  \n",
       "3          0.013265  \n",
       "4          0.006071  "
      ]
     },
     "execution_count": 6,
     "metadata": {},
     "output_type": "execute_result"
    }
   ],
   "source": [
    "village_energy = energy_data.groupby(['village_name','access_type']).mean().reset_index()\n",
    "village_energy.head()"
   ]
  },
  {
   "cell_type": "markdown",
   "metadata": {},
   "source": [
    "Creating total average daily energy column by taking the sum of appliance daily energy averages."
   ]
  },
  {
   "cell_type": "code",
   "execution_count": 7,
   "metadata": {
    "collapsed": false
   },
   "outputs": [
    {
     "data": {
      "text/html": [
       "<div>\n",
       "<table border=\"1\" class=\"dataframe\">\n",
       "  <thead>\n",
       "    <tr style=\"text-align: right;\">\n",
       "      <th></th>\n",
       "      <th>village_name</th>\n",
       "      <th>access_type</th>\n",
       "      <th>daily_lighting_energy</th>\n",
       "      <th>daily_TV_energy</th>\n",
       "      <th>daily_radio_energy</th>\n",
       "      <th>daily_fridge_energy</th>\n",
       "      <th>daily_rice_cooker_energy</th>\n",
       "      <th>daily_fan_energy</th>\n",
       "      <th>Avg_Daily_Energy</th>\n",
       "    </tr>\n",
       "  </thead>\n",
       "  <tbody>\n",
       "    <tr>\n",
       "      <th>0</th>\n",
       "      <td>Abar</td>\n",
       "      <td>no_access</td>\n",
       "      <td>0.095031</td>\n",
       "      <td>0.067329</td>\n",
       "      <td>0.013913</td>\n",
       "      <td>0.015217</td>\n",
       "      <td>0.000000</td>\n",
       "      <td>0.002795</td>\n",
       "      <td>0.194286</td>\n",
       "    </tr>\n",
       "    <tr>\n",
       "      <th>1</th>\n",
       "      <td>Ajau</td>\n",
       "      <td>PLN_grid</td>\n",
       "      <td>0.526531</td>\n",
       "      <td>0.141633</td>\n",
       "      <td>0.012041</td>\n",
       "      <td>0.440816</td>\n",
       "      <td>0.128571</td>\n",
       "      <td>0.000000</td>\n",
       "      <td>1.249592</td>\n",
       "    </tr>\n",
       "    <tr>\n",
       "      <th>2</th>\n",
       "      <td>Asei</td>\n",
       "      <td>PLN_grid</td>\n",
       "      <td>0.439655</td>\n",
       "      <td>0.212808</td>\n",
       "      <td>0.003202</td>\n",
       "      <td>0.744828</td>\n",
       "      <td>1.227586</td>\n",
       "      <td>0.009606</td>\n",
       "      <td>2.637685</td>\n",
       "    </tr>\n",
       "    <tr>\n",
       "      <th>3</th>\n",
       "      <td>Atamali</td>\n",
       "      <td>community_microgrid</td>\n",
       "      <td>0.261224</td>\n",
       "      <td>0.181224</td>\n",
       "      <td>0.016163</td>\n",
       "      <td>0.000000</td>\n",
       "      <td>0.154286</td>\n",
       "      <td>0.013265</td>\n",
       "      <td>0.626163</td>\n",
       "    </tr>\n",
       "    <tr>\n",
       "      <th>4</th>\n",
       "      <td>Ayapo</td>\n",
       "      <td>PLN_microgrid</td>\n",
       "      <td>0.309583</td>\n",
       "      <td>0.129333</td>\n",
       "      <td>0.009214</td>\n",
       "      <td>0.018333</td>\n",
       "      <td>0.023333</td>\n",
       "      <td>0.006071</td>\n",
       "      <td>0.495869</td>\n",
       "    </tr>\n",
       "  </tbody>\n",
       "</table>\n",
       "</div>"
      ],
      "text/plain": [
       "  village_name          access_type  daily_lighting_energy  daily_TV_energy  \\\n",
       "0         Abar            no_access               0.095031         0.067329   \n",
       "1         Ajau             PLN_grid               0.526531         0.141633   \n",
       "2         Asei             PLN_grid               0.439655         0.212808   \n",
       "3      Atamali  community_microgrid               0.261224         0.181224   \n",
       "4        Ayapo        PLN_microgrid               0.309583         0.129333   \n",
       "\n",
       "   daily_radio_energy  daily_fridge_energy  daily_rice_cooker_energy  \\\n",
       "0            0.013913             0.015217                  0.000000   \n",
       "1            0.012041             0.440816                  0.128571   \n",
       "2            0.003202             0.744828                  1.227586   \n",
       "3            0.016163             0.000000                  0.154286   \n",
       "4            0.009214             0.018333                  0.023333   \n",
       "\n",
       "   daily_fan_energy  Avg_Daily_Energy  \n",
       "0          0.002795          0.194286  \n",
       "1          0.000000          1.249592  \n",
       "2          0.009606          2.637685  \n",
       "3          0.013265          0.626163  \n",
       "4          0.006071          0.495869  "
      ]
     },
     "execution_count": 7,
     "metadata": {},
     "output_type": "execute_result"
    }
   ],
   "source": [
    "village_energy['Avg_Daily_Energy'] = village_energy.sum(axis=1)\n",
    "village_energy.head()"
   ]
  },
  {
   "cell_type": "markdown",
   "metadata": {},
   "source": [
    "Isolating only relevant columns that I am interested in graphing."
   ]
  },
  {
   "cell_type": "code",
   "execution_count": 8,
   "metadata": {
    "collapsed": false
   },
   "outputs": [
    {
     "data": {
      "text/html": [
       "<div>\n",
       "<table border=\"1\" class=\"dataframe\">\n",
       "  <thead>\n",
       "    <tr style=\"text-align: right;\">\n",
       "      <th></th>\n",
       "      <th>Avg_Daily_Energy</th>\n",
       "      <th>village_name</th>\n",
       "      <th>access_type</th>\n",
       "    </tr>\n",
       "  </thead>\n",
       "  <tbody>\n",
       "    <tr>\n",
       "      <th>0</th>\n",
       "      <td>0.194286</td>\n",
       "      <td>Abar</td>\n",
       "      <td>no_access</td>\n",
       "    </tr>\n",
       "    <tr>\n",
       "      <th>1</th>\n",
       "      <td>1.249592</td>\n",
       "      <td>Ajau</td>\n",
       "      <td>PLN_grid</td>\n",
       "    </tr>\n",
       "    <tr>\n",
       "      <th>2</th>\n",
       "      <td>2.637685</td>\n",
       "      <td>Asei</td>\n",
       "      <td>PLN_grid</td>\n",
       "    </tr>\n",
       "    <tr>\n",
       "      <th>3</th>\n",
       "      <td>0.626163</td>\n",
       "      <td>Atamali</td>\n",
       "      <td>community_microgrid</td>\n",
       "    </tr>\n",
       "    <tr>\n",
       "      <th>4</th>\n",
       "      <td>0.495869</td>\n",
       "      <td>Ayapo</td>\n",
       "      <td>PLN_microgrid</td>\n",
       "    </tr>\n",
       "  </tbody>\n",
       "</table>\n",
       "</div>"
      ],
      "text/plain": [
       "   Avg_Daily_Energy village_name          access_type\n",
       "0          0.194286         Abar            no_access\n",
       "1          1.249592         Ajau             PLN_grid\n",
       "2          2.637685         Asei             PLN_grid\n",
       "3          0.626163      Atamali  community_microgrid\n",
       "4          0.495869        Ayapo        PLN_microgrid"
      ]
     },
     "execution_count": 8,
     "metadata": {},
     "output_type": "execute_result"
    }
   ],
   "source": [
    "village_energy_sum = village_energy[['Avg_Daily_Energy','village_name','access_type']]\n",
    "village_energy_sum.head()"
   ]
  },
  {
   "cell_type": "markdown",
   "metadata": {},
   "source": [
    "Cleaning up column names."
   ]
  },
  {
   "cell_type": "code",
   "execution_count": 9,
   "metadata": {
    "collapsed": false
   },
   "outputs": [
    {
     "name": "stderr",
     "output_type": "stream",
     "text": [
      "/Users/dsoto/anaconda/envs/sotolab/lib/python3.4/site-packages/pandas/core/generic.py:3050: SettingWithCopyWarning: \n",
      "A value is trying to be set on a copy of a slice from a DataFrame.\n",
      "Try using .loc[row_indexer,col_indexer] = value instead\n",
      "\n",
      "See the caveats in the documentation: http://pandas.pydata.org/pandas-docs/stable/indexing.html#indexing-view-versus-copy\n",
      "  regex=regex)\n"
     ]
    }
   ],
   "source": [
    "village_energy_sum.replace(to_replace = {'village_name': {'Kampung_Baru': 'Kampung Baru',\n",
    "                                           'Pantai_Yahim': 'Pantai Yahim'}},inplace = True)\n",
    "\n",
    "village_energy_sum.replace(to_replace = {'access_type': {'PLN_grid': 'PLN Grid',\n",
    "                                             'community_microgrid': 'Community Microgrid',\n",
    "                                             'PLN_microgrid': 'PLN Microgrid',\n",
    "                                             'no_access': 'Non-Centralized'}},inplace = True)"
   ]
  },
  {
   "cell_type": "code",
   "execution_count": 10,
   "metadata": {
    "collapsed": false,
    "scrolled": false
   },
   "outputs": [
    {
     "data": {
      "text/html": [
       "<div>\n",
       "<table border=\"1\" class=\"dataframe\">\n",
       "  <thead>\n",
       "    <tr style=\"text-align: right;\">\n",
       "      <th></th>\n",
       "      <th>Avg_Daily_Energy</th>\n",
       "      <th>village_name</th>\n",
       "      <th>access_type</th>\n",
       "    </tr>\n",
       "  </thead>\n",
       "  <tbody>\n",
       "    <tr>\n",
       "      <th>0</th>\n",
       "      <td>0.194286</td>\n",
       "      <td>Abar</td>\n",
       "      <td>Non-Centralized</td>\n",
       "    </tr>\n",
       "    <tr>\n",
       "      <th>1</th>\n",
       "      <td>1.249592</td>\n",
       "      <td>Ajau</td>\n",
       "      <td>PLN Grid</td>\n",
       "    </tr>\n",
       "    <tr>\n",
       "      <th>2</th>\n",
       "      <td>2.637685</td>\n",
       "      <td>Asei</td>\n",
       "      <td>PLN Grid</td>\n",
       "    </tr>\n",
       "    <tr>\n",
       "      <th>3</th>\n",
       "      <td>0.626163</td>\n",
       "      <td>Atamali</td>\n",
       "      <td>Community Microgrid</td>\n",
       "    </tr>\n",
       "    <tr>\n",
       "      <th>4</th>\n",
       "      <td>0.495869</td>\n",
       "      <td>Ayapo</td>\n",
       "      <td>PLN Microgrid</td>\n",
       "    </tr>\n",
       "  </tbody>\n",
       "</table>\n",
       "</div>"
      ],
      "text/plain": [
       "   Avg_Daily_Energy village_name          access_type\n",
       "0          0.194286         Abar      Non-Centralized\n",
       "1          1.249592         Ajau             PLN Grid\n",
       "2          2.637685         Asei             PLN Grid\n",
       "3          0.626163      Atamali  Community Microgrid\n",
       "4          0.495869        Ayapo        PLN Microgrid"
      ]
     },
     "execution_count": 10,
     "metadata": {},
     "output_type": "execute_result"
    }
   ],
   "source": [
    "village_energy_sum.head()"
   ]
  },
  {
   "cell_type": "markdown",
   "metadata": {},
   "source": [
    "Seaborn Bar Plot"
   ]
  },
  {
   "cell_type": "code",
   "execution_count": 11,
   "metadata": {
    "collapsed": false
   },
   "outputs": [
    {
     "name": "stderr",
     "output_type": "stream",
     "text": [
      "/Users/dsoto/anaconda/envs/sotolab/lib/python3.4/site-packages/matplotlib/axes/_axes.py:519: UserWarning: No labelled objects found. Use label='...' kwarg on individual plots.\n",
      "  warnings.warn(\"No labelled objects found. \"\n"
     ]
    },
    {
     "data": {
      "image/png": "[encoded data removed]",
      "text/plain": [
       "<matplotlib.figure.Figure at 0x10dffc710>"
      ]
     },
     "metadata": {},
     "output_type": "display_data"
    }
   ],
   "source": [
    "plt.figure(figsize=(30,17))\n",
    "custom = [\"#133987\",\"#36CBA4\", \"#3498db\", \"#95a5a6\"]\n",
    "\n",
    "#sns.barplot(x='village_name', y='Avg_Daily_Energy',hue='access_type',\n",
    "#            data=village_energy_sum,palette= custom,hue_order=['PLN Grid','PLN Microgrid',\n",
    "#            'Community Microgrid','Non-Centralized'])\n",
    "sns.swarmplot(data=village_energy_sum, x='access_type', y='Avg_Daily_Energy', size=30, palette=custom)\n",
    "plt.ylabel('Electricity Use (kWh/day)', fontsize=42)\n",
    "plt.xlabel('Village', fontsize=42)\n",
    "#plt.xticks(rotation=-70)\n",
    "plt.tick_params(labelsize=36)\n",
    "plt.legend(prop={'size':32})\n",
    "plt.ylim((0,10))\n",
    "plt.gcf().subplots_adjust(bottom=0.23)\n",
    "plt.savefig('daily-village-energy.png')"
   ]
  },
  {
   "cell_type": "markdown",
   "metadata": {},
   "source": [
    "Metered Data (for reference only)"
   ]
  },
  {
   "cell_type": "code",
   "execution_count": 12,
   "metadata": {
    "collapsed": false
   },
   "outputs": [
    {
     "data": {
      "text/html": [
       "<div>\n",
       "<table border=\"1\" class=\"dataframe\">\n",
       "  <thead>\n",
       "    <tr style=\"text-align: right;\">\n",
       "      <th></th>\n",
       "      <th>Avg_Daily_Energy</th>\n",
       "      <th>village_name</th>\n",
       "      <th>access_type</th>\n",
       "    </tr>\n",
       "  </thead>\n",
       "  <tbody>\n",
       "    <tr>\n",
       "      <th>1</th>\n",
       "      <td>1.249592</td>\n",
       "      <td>Ajau</td>\n",
       "      <td>PLN Grid</td>\n",
       "    </tr>\n",
       "    <tr>\n",
       "      <th>2</th>\n",
       "      <td>2.637685</td>\n",
       "      <td>Asei</td>\n",
       "      <td>PLN Grid</td>\n",
       "    </tr>\n",
       "    <tr>\n",
       "      <th>3</th>\n",
       "      <td>0.626163</td>\n",
       "      <td>Atamali</td>\n",
       "      <td>Community Microgrid</td>\n",
       "    </tr>\n",
       "    <tr>\n",
       "      <th>4</th>\n",
       "      <td>0.495869</td>\n",
       "      <td>Ayapo</td>\n",
       "      <td>PLN Microgrid</td>\n",
       "    </tr>\n",
       "    <tr>\n",
       "      <th>14</th>\n",
       "      <td>0.201654</td>\n",
       "      <td>Kensio</td>\n",
       "      <td>Community Microgrid</td>\n",
       "    </tr>\n",
       "  </tbody>\n",
       "</table>\n",
       "</div>"
      ],
      "text/plain": [
       "    Avg_Daily_Energy village_name          access_type\n",
       "1           1.249592         Ajau             PLN Grid\n",
       "2           2.637685         Asei             PLN Grid\n",
       "3           0.626163      Atamali  Community Microgrid\n",
       "4           0.495869        Ayapo        PLN Microgrid\n",
       "14          0.201654       Kensio  Community Microgrid"
      ]
     },
     "execution_count": 12,
     "metadata": {},
     "output_type": "execute_result"
    }
   ],
   "source": [
    "metered_locations = village_energy_sum[village_energy_sum['village_name'].str.contains('Ajau|Asei|Atamali|Ayapo|Kensio')]\n",
    "metered_locations"
   ]
  },
  {
   "cell_type": "markdown",
   "metadata": {},
   "source": [
    "Inputing interpreted point values from dsoto time series analysis. "
   ]
  },
  {
   "cell_type": "code",
   "execution_count": 13,
   "metadata": {
    "collapsed": false
   },
   "outputs": [
    {
     "data": {
      "text/plain": [
       "Ajau       6.00\n",
       "Asei       5.60\n",
       "Atamali    0.63\n",
       "Ayapo      0.83\n",
       "Kensio     0.63\n",
       "dtype: float64"
      ]
     },
     "execution_count": 13,
     "metadata": {},
     "output_type": "execute_result"
    }
   ],
   "source": [
    "time_series_daily_point_estimates = pd.Series({'Ajau':6, 'Asei':5.6, 'Atamali':0.63, 'Ayapo':0.83,'Kensio':0.63})\n",
    "time_series_daily_point_estimates"
   ]
  },
  {
   "cell_type": "code",
   "execution_count": null,
   "metadata": {
    "collapsed": true
   },
   "outputs": [],
   "source": []
  }
 ],
 "metadata": {
  "kernelspec": {
   "display_name": "Python 3",
   "language": "python",
   "name": "python3"
  },
  "language_info": {
   "codemirror_mode": {
    "name": "ipython",
    "version": 3
   },
   "file_extension": ".py",
   "mimetype": "text/x-python",
   "name": "python",
   "nbconvert_exporter": "python",
   "pygments_lexer": "ipython3",
   "version": "3.4.4"
  }
 },
 "nbformat": 4,
 "nbformat_minor": 0
}
