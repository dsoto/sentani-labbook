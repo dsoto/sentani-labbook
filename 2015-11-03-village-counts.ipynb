{
 "cells": [
  {
   "cell_type": "markdown",
   "metadata": {
    "collapsed": false
   },
   "source": [
    "# Household counts in villages\n",
    "\n",
    "This data combines the counts of households present and surveyed in each of the villages in our survey.  Joshua Ferrer provided this data and this is a modified version of his work.\n",
    "\n",
    "I take this data and add the access type and then sum over the different access types.  It looks like community microgrid have the highest survey rate at 95% while PLN grid has the lowest at 67%.\n"
   ]
  },
  {
   "cell_type": "code",
   "execution_count": 1,
   "metadata": {
    "collapsed": true
   },
   "outputs": [],
   "source": [
    "from io import StringIO\n",
    "import pysentani as sti\n",
    "import pandas as pd"
   ]
  },
  {
   "cell_type": "code",
   "execution_count": 2,
   "metadata": {
    "collapsed": false
   },
   "outputs": [
    {
     "data": {
      "text/html": [
       "<div>\n",
       "<table border=\"1\" class=\"dataframe\">\n",
       "  <thead>\n",
       "    <tr style=\"text-align: right;\">\n",
       "      <th></th>\n",
       "      <th>village_name</th>\n",
       "      <th>Official_count</th>\n",
       "      <th>Sat_Count</th>\n",
       "      <th>Village_Surveyed</th>\n",
       "      <th>access_type</th>\n",
       "    </tr>\n",
       "  </thead>\n",
       "  <tbody>\n",
       "    <tr>\n",
       "      <th>0</th>\n",
       "      <td>Abar</td>\n",
       "      <td>40</td>\n",
       "      <td>45</td>\n",
       "      <td>46</td>\n",
       "      <td>no_access</td>\n",
       "    </tr>\n",
       "    <tr>\n",
       "      <th>1</th>\n",
       "      <td>Ajau_Evale_Hobong</td>\n",
       "      <td>100</td>\n",
       "      <td>84</td>\n",
       "      <td>56</td>\n",
       "      <td>PLN_grid</td>\n",
       "    </tr>\n",
       "    <tr>\n",
       "      <th>2</th>\n",
       "      <td>Asei</td>\n",
       "      <td>40</td>\n",
       "      <td>40</td>\n",
       "      <td>29</td>\n",
       "      <td>PLN_grid</td>\n",
       "    </tr>\n",
       "    <tr>\n",
       "      <th>3</th>\n",
       "      <td>Atamali</td>\n",
       "      <td>40</td>\n",
       "      <td>38</td>\n",
       "      <td>35</td>\n",
       "      <td>community_microgrid</td>\n",
       "    </tr>\n",
       "    <tr>\n",
       "      <th>4</th>\n",
       "      <td>Ayapo</td>\n",
       "      <td>120</td>\n",
       "      <td>140</td>\n",
       "      <td>120</td>\n",
       "      <td>PLN_microgrid</td>\n",
       "    </tr>\n",
       "  </tbody>\n",
       "</table>\n",
       "</div>"
      ],
      "text/plain": [
       "        village_name  Official_count  Sat_Count  Village_Surveyed  \\\n",
       "0               Abar              40         45                46   \n",
       "1  Ajau_Evale_Hobong             100         84                56   \n",
       "2               Asei              40         40                29   \n",
       "3            Atamali              40         38                35   \n",
       "4              Ayapo             120        140               120   \n",
       "\n",
       "           access_type  \n",
       "0            no_access  \n",
       "1             PLN_grid  \n",
       "2             PLN_grid  \n",
       "3  community_microgrid  \n",
       "4        PLN_microgrid  "
      ]
     },
     "execution_count": 2,
     "metadata": {},
     "output_type": "execute_result"
    }
   ],
   "source": [
    "raw_csv = '''village_name,Official_count,Sat_Count,Village_Surveyed\n",
    "Abar,40,45,46\n",
    "Ajau_Evale_Hobong,100,84,56\n",
    "Asei,40,40,29\n",
    "Atamali,40,38,35\n",
    "Ayapo,120,140,120\n",
    "Babrongko, 65,120,67\n",
    "Burawai,20,16,8\n",
    "Donday,50,57,50\n",
    "Doyo_Lama,N/A,N/A,N/A\n",
    "Ebunfauw,50,39,36\n",
    "Flafow,N/A,N/A,N/A\n",
    "Kalio,40,39,30\n",
    "Kampung_Baru,25,54,36\n",
    "Kensio,20,19,19\n",
    "Khageuw,15,27,16\n",
    "Khamayakha,50,104,14\n",
    "Kheleubulow,N/A,N/A,52\n",
    "Kwadeware,30,27,30\n",
    "Obolyo,18,18,11\n",
    "Pantai_Yahim,30,27,13\n",
    "Puai,60,80,74\n",
    "Simporo,65,113,62\n",
    "Sosiri,N/A,N/A,96\n",
    "Tanjung_Elmo,N/A,N/A,N/A\n",
    "Yakonde,70,55,59\n",
    "Yobeh,40,38,34\n",
    "Yoboi,70,64,49\n",
    "Yoka,150,193,28\n",
    "Yokiwa,80,64,43'''\n",
    "\n",
    "data = pd.read_csv(StringIO(raw_csv))\n",
    "data['access_type'] = sti.access_type(data)\n",
    "data.head()"
   ]
  },
  {
   "cell_type": "code",
   "execution_count": 3,
   "metadata": {
    "collapsed": false
   },
   "outputs": [
    {
     "data": {
      "text/html": [
       "<div>\n",
       "<table border=\"1\" class=\"dataframe\">\n",
       "  <thead>\n",
       "    <tr style=\"text-align: right;\">\n",
       "      <th></th>\n",
       "      <th>Official_count</th>\n",
       "      <th>Sat_Count</th>\n",
       "      <th>Village_Surveyed</th>\n",
       "      <th>fraction_surveyed</th>\n",
       "    </tr>\n",
       "    <tr>\n",
       "      <th>access_type</th>\n",
       "      <th></th>\n",
       "      <th></th>\n",
       "      <th></th>\n",
       "      <th></th>\n",
       "    </tr>\n",
       "  </thead>\n",
       "  <tbody>\n",
       "    <tr>\n",
       "      <th>PLN_grid</th>\n",
       "      <td>660</td>\n",
       "      <td>817</td>\n",
       "      <td>548</td>\n",
       "      <td>0.670747</td>\n",
       "    </tr>\n",
       "    <tr>\n",
       "      <th>PLN_microgrid</th>\n",
       "      <td>170</td>\n",
       "      <td>197</td>\n",
       "      <td>170</td>\n",
       "      <td>0.862944</td>\n",
       "    </tr>\n",
       "    <tr>\n",
       "      <th>community_microgrid</th>\n",
       "      <td>60</td>\n",
       "      <td>57</td>\n",
       "      <td>54</td>\n",
       "      <td>0.947368</td>\n",
       "    </tr>\n",
       "    <tr>\n",
       "      <th>no_access</th>\n",
       "      <td>398</td>\n",
       "      <td>430</td>\n",
       "      <td>341</td>\n",
       "      <td>0.793023</td>\n",
       "    </tr>\n",
       "  </tbody>\n",
       "</table>\n",
       "</div>"
      ],
      "text/plain": [
       "                     Official_count  Sat_Count  Village_Surveyed  \\\n",
       "access_type                                                        \n",
       "PLN_grid                        660        817               548   \n",
       "PLN_microgrid                   170        197               170   \n",
       "community_microgrid              60         57                54   \n",
       "no_access                       398        430               341   \n",
       "\n",
       "                     fraction_surveyed  \n",
       "access_type                             \n",
       "PLN_grid                      0.670747  \n",
       "PLN_microgrid                 0.862944  \n",
       "community_microgrid           0.947368  \n",
       "no_access                     0.793023  "
      ]
     },
     "execution_count": 3,
     "metadata": {},
     "output_type": "execute_result"
    }
   ],
   "source": [
    "aggregated = data.groupby('access_type').sum()\n",
    "aggregated['fraction_surveyed'] = aggregated['Village_Surveyed'] / aggregated['Sat_Count']\n",
    "aggregated"
   ]
  },
  {
   "cell_type": "code",
   "execution_count": null,
   "metadata": {
    "collapsed": true
   },
   "outputs": [],
   "source": []
  }
 ],
 "metadata": {
  "kernelspec": {
   "display_name": "Python 3",
   "language": "python",
   "name": "python3"
  },
  "language_info": {
   "codemirror_mode": {
    "name": "ipython",
    "version": 3
   },
   "file_extension": ".py",
   "mimetype": "text/x-python",
   "name": "python",
   "nbconvert_exporter": "python",
   "pygments_lexer": "ipython3",
   "version": "3.4.3"
  }
 },
 "nbformat": 4,
 "nbformat_minor": 0
}
