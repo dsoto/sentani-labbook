{
 "cells": [
  {
   "cell_type": "markdown",
   "metadata": {},
   "source": [
    "# Meter reading\n",
    "\n",
    "I used Sean's code as a starting point and wrote a preparser to simplify the data input code.  Currently this discards the header information, but this could be changed.\n",
    "\n",
    "There appears to be an offset problem between our kWh computation and the export field from the meter."
   ]
  },
  {
   "cell_type": "markdown",
   "metadata": {},
   "source": [
    "# Questions\n",
    "\n",
    "- What does the average daily power timeseries (load profile) look like?\n",
    "- Is the daily energy use changing over time?\n",
    "- Is the peak power demanded changing over time?"
   ]
  },
  {
   "cell_type": "code",
   "execution_count": 1,
   "metadata": {
    "collapsed": false
   },
   "outputs": [],
   "source": [
    "import pandas as pd\n",
    "import os as os\n",
    "import xlrd\n",
    "import datetime\n",
    "import matplotlib as plt\n",
    "import numpy as np\n",
    "%matplotlib inline\n",
    "\n",
    "# read in raw CSV file for preprocessing\n",
    "atamali_file = open(\"../data-timeseries/Data_Logs Atamali Agustus.csv\")\n",
    "\n",
    "# dump lines from communications messages or empty lines and write to string\n",
    "file_string = ''\n",
    "omit_strings = ['Power Up', 'Communication Lost', 'Power Down', ',,,,,,,,,,,']\n",
    "# there is information in the first 32 lines being dumped\n",
    "for line in atamali_file.readlines()[32:]:\n",
    "    if not any(omit in line for omit in omit_strings):\n",
    "        file_string += line\n",
    "\n",
    "# use pre-parsed string to read in data file to pandas and sort by date\n",
    "import io\n",
    "atamali = pd.read_csv(io.StringIO(file_string),\n",
    "                      index_col=0, \n",
    "                      parse_dates=[0], \n",
    "                      thousands=',')\n",
    "atamali = atamali.sort()\n",
    "\n",
    "# use current and voltage and (assumed) time step to calculate energy in each interval\n",
    "atamali['kWh actual'] = (atamali['Avg Voltage L1/L12'] * atamali['Avg Current L1'] + \n",
    "                         atamali['Avg Voltage L2/L23'] * atamali['Avg Current L2'] + \n",
    "                         atamali['Avg Voltage L3/L31'] * atamali['Avg Current L3']) / 1000 / 60"
   ]
  },
  {
   "cell_type": "code",
   "execution_count": 2,
   "metadata": {
    "collapsed": false
   },
   "outputs": [
    {
     "data": {
      "text/html": [
       "<div>\n",
       "<table border=\"1\" class=\"dataframe\">\n",
       "  <thead>\n",
       "    <tr style=\"text-align: right;\">\n",
       "      <th></th>\n",
       "      <th>Unnamed: 1</th>\n",
       "      <th>kWh export</th>\n",
       "      <th>Avg Voltage L1/L12</th>\n",
       "      <th>Avg Voltage L2/L23</th>\n",
       "      <th>Avg Voltage L3/L31</th>\n",
       "      <th>Avg Current L1</th>\n",
       "      <th>Avg Current L2</th>\n",
       "      <th>Avg Current L3</th>\n",
       "      <th>kVA sliding window Demand</th>\n",
       "      <th>Maximum real-time Total kVA</th>\n",
       "      <th>Trigger</th>\n",
       "      <th>kWh actual</th>\n",
       "    </tr>\n",
       "    <tr>\n",
       "      <th>Timestamp</th>\n",
       "      <th></th>\n",
       "      <th></th>\n",
       "      <th></th>\n",
       "      <th></th>\n",
       "      <th></th>\n",
       "      <th></th>\n",
       "      <th></th>\n",
       "      <th></th>\n",
       "      <th></th>\n",
       "      <th></th>\n",
       "      <th></th>\n",
       "      <th></th>\n",
       "    </tr>\n",
       "  </thead>\n",
       "  <tbody>\n",
       "    <tr>\n",
       "      <th>2015-08-01 00:00:00.027</th>\n",
       "      <td>NaN</td>\n",
       "      <td>1309</td>\n",
       "      <td>220.2</td>\n",
       "      <td>221.5</td>\n",
       "      <td>218.7</td>\n",
       "      <td>9.13</td>\n",
       "      <td>4.95</td>\n",
       "      <td>11.05</td>\n",
       "      <td>2.82</td>\n",
       "      <td>2.72</td>\n",
       "      <td>1</td>\n",
       "      <td>0.092058</td>\n",
       "    </tr>\n",
       "    <tr>\n",
       "      <th>2015-08-01 00:01:00.019</th>\n",
       "      <td>NaN</td>\n",
       "      <td>1309</td>\n",
       "      <td>220.1</td>\n",
       "      <td>221.5</td>\n",
       "      <td>218.6</td>\n",
       "      <td>9.13</td>\n",
       "      <td>4.98</td>\n",
       "      <td>11.07</td>\n",
       "      <td>2.70</td>\n",
       "      <td>2.74</td>\n",
       "      <td>1</td>\n",
       "      <td>0.092208</td>\n",
       "    </tr>\n",
       "    <tr>\n",
       "      <th>2015-08-01 00:02:00.001</th>\n",
       "      <td>NaN</td>\n",
       "      <td>1309</td>\n",
       "      <td>220.2</td>\n",
       "      <td>221.5</td>\n",
       "      <td>218.6</td>\n",
       "      <td>9.08</td>\n",
       "      <td>5.16</td>\n",
       "      <td>11.04</td>\n",
       "      <td>2.70</td>\n",
       "      <td>2.64</td>\n",
       "      <td>1</td>\n",
       "      <td>0.092595</td>\n",
       "    </tr>\n",
       "    <tr>\n",
       "      <th>2015-08-01 00:03:00.014</th>\n",
       "      <td>NaN</td>\n",
       "      <td>1309</td>\n",
       "      <td>219.5</td>\n",
       "      <td>221.6</td>\n",
       "      <td>217.7</td>\n",
       "      <td>9.08</td>\n",
       "      <td>6.27</td>\n",
       "      <td>11.25</td>\n",
       "      <td>2.70</td>\n",
       "      <td>2.47</td>\n",
       "      <td>1</td>\n",
       "      <td>0.097194</td>\n",
       "    </tr>\n",
       "    <tr>\n",
       "      <th>2015-08-01 00:04:00.023</th>\n",
       "      <td>NaN</td>\n",
       "      <td>1309</td>\n",
       "      <td>220.1</td>\n",
       "      <td>221.5</td>\n",
       "      <td>218.6</td>\n",
       "      <td>9.08</td>\n",
       "      <td>4.99</td>\n",
       "      <td>11.21</td>\n",
       "      <td>2.70</td>\n",
       "      <td>2.80</td>\n",
       "      <td>1</td>\n",
       "      <td>0.092572</td>\n",
       "    </tr>\n",
       "  </tbody>\n",
       "</table>\n",
       "</div>"
      ],
      "text/plain": [
       "                         Unnamed: 1  kWh export  Avg Voltage L1/L12  \\\n",
       "Timestamp                                                             \n",
       "2015-08-01 00:00:00.027         NaN        1309               220.2   \n",
       "2015-08-01 00:01:00.019         NaN        1309               220.1   \n",
       "2015-08-01 00:02:00.001         NaN        1309               220.2   \n",
       "2015-08-01 00:03:00.014         NaN        1309               219.5   \n",
       "2015-08-01 00:04:00.023         NaN        1309               220.1   \n",
       "\n",
       "                         Avg Voltage L2/L23  Avg Voltage L3/L31  \\\n",
       "Timestamp                                                         \n",
       "2015-08-01 00:00:00.027               221.5               218.7   \n",
       "2015-08-01 00:01:00.019               221.5               218.6   \n",
       "2015-08-01 00:02:00.001               221.5               218.6   \n",
       "2015-08-01 00:03:00.014               221.6               217.7   \n",
       "2015-08-01 00:04:00.023               221.5               218.6   \n",
       "\n",
       "                         Avg Current L1  Avg Current L2  Avg Current L3  \\\n",
       "Timestamp                                                                 \n",
       "2015-08-01 00:00:00.027            9.13            4.95           11.05   \n",
       "2015-08-01 00:01:00.019            9.13            4.98           11.07   \n",
       "2015-08-01 00:02:00.001            9.08            5.16           11.04   \n",
       "2015-08-01 00:03:00.014            9.08            6.27           11.25   \n",
       "2015-08-01 00:04:00.023            9.08            4.99           11.21   \n",
       "\n",
       "                         kVA sliding window Demand  \\\n",
       "Timestamp                                            \n",
       "2015-08-01 00:00:00.027                       2.82   \n",
       "2015-08-01 00:01:00.019                       2.70   \n",
       "2015-08-01 00:02:00.001                       2.70   \n",
       "2015-08-01 00:03:00.014                       2.70   \n",
       "2015-08-01 00:04:00.023                       2.70   \n",
       "\n",
       "                         Maximum real-time Total kVA  Trigger  kWh actual  \n",
       "Timestamp                                                                  \n",
       "2015-08-01 00:00:00.027                         2.72        1    0.092058  \n",
       "2015-08-01 00:01:00.019                         2.74        1    0.092208  \n",
       "2015-08-01 00:02:00.001                         2.64        1    0.092595  \n",
       "2015-08-01 00:03:00.014                         2.47        1    0.097194  \n",
       "2015-08-01 00:04:00.023                         2.80        1    0.092572  "
      ]
     },
     "execution_count": 2,
     "metadata": {},
     "output_type": "execute_result"
    }
   ],
   "source": [
    "atamali.head()"
   ]
  },
  {
   "cell_type": "code",
   "execution_count": 3,
   "metadata": {
    "collapsed": false
   },
   "outputs": [
    {
     "data": {
      "text/plain": [
       "<matplotlib.axes._subplots.AxesSubplot at 0x104b47438>"
      ]
     },
     "execution_count": 3,
     "metadata": {},
     "output_type": "execute_result"
    },
    {
     "data": {
      "image/png": "[encoded data removed]",
      "text/plain": [
       "<matplotlib.figure.Figure at 0x104b4ad68>"
      ]
     },
     "metadata": {},
     "output_type": "display_data"
    }
   ],
   "source": [
    "# you can slice by date and time\n",
    "atamali['kWh actual']['2015-08-01':'2015-08-15'].plot()"
   ]
  },
  {
   "cell_type": "code",
   "execution_count": 4,
   "metadata": {
    "collapsed": false
   },
   "outputs": [
    {
     "data": {
      "text/plain": [
       "<matplotlib.axes._subplots.AxesSubplot at 0x107c7df98>"
      ]
     },
     "execution_count": 4,
     "metadata": {},
     "output_type": "execute_result"
    },
    {
     "data": {
      "image/png": "[encoded data removed]",
      "text/plain": [
       "<matplotlib.figure.Figure at 0x1078a5a20>"
      ]
     },
     "metadata": {},
     "output_type": "display_data"
    }
   ],
   "source": [
    "# accumulating the three phase power matches the kWh output but has a slope offset\n",
    "(atamali['kWh actual'].cumsum()).plot()\n",
    "(atamali['kWh export'] - atamali['kWh export'].iloc[0]).plot()"
   ]
  }
 ],
 "metadata": {
  "kernelspec": {
   "display_name": "Python 3",
   "language": "python",
   "name": "python3"
  },
  "language_info": {
   "codemirror_mode": {
    "name": "ipython",
    "version": 3
   },
   "file_extension": ".py",
   "mimetype": "text/x-python",
   "name": "python",
   "nbconvert_exporter": "python",
   "pygments_lexer": "ipython3",
   "version": "3.4.3"
  }
 },
 "nbformat": 4,
 "nbformat_minor": 0
}
