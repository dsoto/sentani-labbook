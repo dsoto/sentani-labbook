{
 "cells": [
  {
   "cell_type": "markdown",
   "metadata": {},
   "source": [
    "# Unexpected appliance use survey responses\n",
    "\n",
    "In my 2016-03-02 notebook, I showed that there are households that said they own an appliance but did not respond to questions about how many hours they used these appliances.  This elaborates on that work.\n",
    "\n",
    "\n",
    "We want to be sure that we are extrapolating correctly from our\n",
    "appliance survey to the whole population.  For example if null responses\n",
    "for the hours used by an appliance mean the household doesn't use that\n",
    "appliance, then we should count that as a zero and the mean over all\n",
    "households in the population will be correct.  If however, the household\n",
    "owns the appliance and doesn't answer the hours survey question, then we\n",
    "should assign that person the mean of the other responses.\n",
    "\n",
    "| TV yes/no | TV hours |\n",
    "| -         | -        |\n",
    "| 1         | 6        |\n",
    "| 1         | null     |\n",
    "| 0         | 6        |\n",
    "| 0         | null     |\n",
    "\n",
    "The second line is important to check for and the third line should not\n",
    "happen.  The third line shouldn't occur because the survey uses the\n",
    "`selected()` command in the relevant column so that only respondents\n",
    "owning the appropriate appliance are asked the question.  This is per\n",
    "appliance.\n",
    "\n",
    "One next step is to create a calculation that accounts for this\n",
    "discrepancy and makes a comparison of its result.\n",
    "\n",
    "\n",
    "\n",
    "- Tabulate bad responses in the data\n",
    "- Show each appliance not having hours despite claiming the appliance\n",
    "- Assert no records with hours despite not having appliance\n",
    "- Show hours and weekly times above 24 or 7\n"
   ]
  },
  {
   "cell_type": "code",
   "execution_count": 1,
   "metadata": {
    "collapsed": false
   },
   "outputs": [
    {
     "name": "stderr",
     "output_type": "stream",
     "text": [
      "/Users/dsoto/anaconda/envs/sotolab/lib/python3.4/site-packages/matplotlib/__init__.py:872: UserWarning: axes.color_cycle is deprecated and replaced with axes.prop_cycle; please use the latter.\n",
      "  warnings.warn(self.msg_depr % (key, alt_key))\n"
     ]
    }
   ],
   "source": [
    "%matplotlib inline\n",
    "import seaborn as sns\n",
    "import matplotlib.pyplot as plt\n",
    "\n",
    "from drs_sentani import get_survey\n",
    "import pandas as pd\n",
    "survey = get_survey()\n",
    "import pysentani as sti\n",
    "\n",
    "survey['access_type'] = sti.access_type(survey)"
   ]
  },
  {
   "cell_type": "markdown",
   "metadata": {},
   "source": [
    "# Unexpected nulls for appliance use\n",
    "\n",
    "The records below have unexpected null values in the number of hours and times per week the appliance is reported in use.  This is despite responding that the household does own the appliance."
   ]
  },
  {
   "cell_type": "code",
   "execution_count": 2,
   "metadata": {
    "collapsed": false
   },
   "outputs": [
    {
     "name": "stdout",
     "output_type": "stream",
     "text": [
      "34 records with unexpected nulls for TV\n",
      "5 records with unexpected nulls for fridge\n",
      "12 records with unexpected nulls for radio\n",
      "5 records with unexpected nulls for rice_cooker\n",
      "3 records with unexpected nulls for fan\n",
      "25 records with unexpected nulls for lighting\n"
     ]
    }
   ],
   "source": [
    "# create an array of booleans for \n",
    "# has appliance is true and weekly or hourly data is null\n",
    "# count the corresponding records and display\n",
    "\n",
    "for app in ['TV', 'fridge', 'radio', 'rice_cooker', 'fan', 'lighting']:\n",
    "    app_yn = 'app_now/{}'.format(app)\n",
    "    wk_col = 'app_{}_per_wk'.format(app)\n",
    "    hr_col = 'app_{}_hrs'.format(app)\n",
    "    mask = (survey[app_yn]==1) & (survey[wk_col].isnull() | survey[hr_col].isnull())\n",
    "    print(survey[mask][[app_yn, wk_col, hr_col]].shape[0],\n",
    "         'records with unexpected nulls for {}'.format(app))"
   ]
  },
  {
   "cell_type": "markdown",
   "metadata": {},
   "source": [
    "# Unexpected hourly observations for no appliance\n",
    "\n",
    "The survey instrument doesn't allow households to provide responses to questions about appliance use if they do not own the appliance.  This verifies that there are no records like that."
   ]
  },
  {
   "cell_type": "code",
   "execution_count": 3,
   "metadata": {
    "collapsed": false
   },
   "outputs": [
    {
     "name": "stdout",
     "output_type": "stream",
     "text": [
      "0 records with unexpected hours for TV\n",
      "0 records with unexpected hours for fridge\n",
      "0 records with unexpected hours for radio\n",
      "0 records with unexpected hours for rice_cooker\n",
      "0 records with unexpected hours for fan\n",
      "0 records with unexpected hours for lighting\n"
     ]
    }
   ],
   "source": [
    "# notnull doesn't seem to do what I want\n",
    "for app in ['TV', 'fridge', 'radio', 'rice_cooker', 'fan', 'lighting']:\n",
    "    app_yn = 'app_now/{}'.format(app)\n",
    "    wk_col = 'app_{}_per_wk'.format(app)\n",
    "    hr_col = 'app_{}_hrs'.format(app)\n",
    "\n",
    "    print(survey[(survey[app_yn]==0) & \n",
    "                  (survey[wk_col].notnull() \n",
    "                  | survey[hr_col].notnull())][[app_yn, wk_col, hr_col]].shape[0],\n",
    "         'records with unexpected hours for {}'.format(app))"
   ]
  },
  {
   "cell_type": "markdown",
   "metadata": {},
   "source": [
    "# Hourly and weekly responses\n",
    "\n",
    "Below I show the responses that are above either 24 hours a day of use or using something 7 times per week.  \n",
    "\n",
    "Many of the responses above seven times per week are 24, suggesting that the question was misinterpreted as hours per day.\n",
    "\n",
    "Some of the large responses are inexplicably large and would be best handled by an input checker on the electronic survey tool."
   ]
  },
  {
   "cell_type": "code",
   "execution_count": 4,
   "metadata": {
    "collapsed": false
   },
   "outputs": [
    {
     "name": "stdout",
     "output_type": "stream",
     "text": [
      "weekly bad responses TV [ 10.  24.  10.   9.  14.]\n",
      "weekly bad responses radio [ 24.]\n",
      "weekly bad responses fridge [ 20000.     24.     24.     24.     24.     24.]\n",
      "weekly bad responses fan []\n",
      "weekly bad responses rice_cooker [ 24.  24.]\n",
      "weekly bad responses lighting [  2.00000000e+05   9.00000000e+00   2.40000000e+01]\n",
      "hourly bad responses TV []\n",
      "hourly bad responses radio []\n",
      "hourly bad responses fridge []\n",
      "hourly bad responses fan []\n",
      "hourly bad responses rice_cooker []\n",
      "hourly bad responses lighting [ 12000.     27.]\n"
     ]
    }
   ],
   "source": [
    "for app in ['TV', 'radio', 'fridge', 'fan', 'rice_cooker', 'lighting']:\n",
    "    wk_col = 'app_{}_per_wk'.format(app)\n",
    "    hr_col = 'app_{}_hrs'.format(app)    \n",
    "    print('weekly bad responses {}'.format(app), survey[survey[wk_col]>7][wk_col].values)\n",
    "\n",
    "for app in ['TV', 'radio', 'fridge', 'fan', 'rice_cooker', 'lighting']:\n",
    "    wk_col = 'app_{}_per_wk'.format(app)\n",
    "    hr_col = 'app_{}_hrs'.format(app)\n",
    "    print('hourly bad responses {}'.format(app), survey[survey[hr_col]>24][hr_col].values)"
   ]
  },
  {
   "cell_type": "markdown",
   "metadata": {},
   "source": [
    "# Correcting these\n",
    "\n",
    "We can either replace these with the highest option available or throw them out by filling them with nulls.\n",
    "\n",
    "Here I replace with the highest option available and show the difference in the means."
   ]
  },
  {
   "cell_type": "code",
   "execution_count": 5,
   "metadata": {
    "collapsed": false
   },
   "outputs": [
    {
     "data": {
      "text/html": [
       "<div>\n",
       "<table border=\"1\" class=\"dataframe\">\n",
       "  <thead>\n",
       "    <tr style=\"text-align: right;\">\n",
       "      <th></th>\n",
       "      <th>hourly_mean_differences</th>\n",
       "      <th>weekly_mean_differences</th>\n",
       "    </tr>\n",
       "  </thead>\n",
       "  <tbody>\n",
       "    <tr>\n",
       "      <th>TV</th>\n",
       "      <td>0</td>\n",
       "      <td>0.039506</td>\n",
       "    </tr>\n",
       "    <tr>\n",
       "      <th>fan</th>\n",
       "      <td>0</td>\n",
       "      <td>0.000000</td>\n",
       "    </tr>\n",
       "    <tr>\n",
       "      <th>fridge</th>\n",
       "      <td>0</td>\n",
       "      <td>104.031088</td>\n",
       "    </tr>\n",
       "    <tr>\n",
       "      <th>radio</th>\n",
       "      <td>0</td>\n",
       "      <td>0.049708</td>\n",
       "    </tr>\n",
       "    <tr>\n",
       "      <th>rice_cooker</th>\n",
       "      <td>0</td>\n",
       "      <td>0.201183</td>\n",
       "    </tr>\n",
       "  </tbody>\n",
       "</table>\n",
       "</div>"
      ],
      "text/plain": [
       "             hourly_mean_differences  weekly_mean_differences\n",
       "TV                                 0                 0.039506\n",
       "fan                                0                 0.000000\n",
       "fridge                             0               104.031088\n",
       "radio                              0                 0.049708\n",
       "rice_cooker                        0                 0.201183"
      ]
     },
     "execution_count": 5,
     "metadata": {},
     "output_type": "execute_result"
    }
   ],
   "source": [
    "import numpy as np\n",
    "survey_copy = survey.copy(deep=True)\n",
    "\n",
    "# use dictionaries to facilitate \n",
    "hour_differences = {}\n",
    "week_differences = {}\n",
    "\n",
    "for app in ['TV', 'radio', 'fridge', 'fan', 'rice_cooker']:\n",
    "    # generate column labels for each appliance\n",
    "    wk_col = 'app_{}_per_wk'.format(app)\n",
    "    hr_col = 'app_{}_hrs'.format(app)\n",
    "    energy_col = 'daily_{}_energy'.format(app)\n",
    "    weekly_hr_col = 'weekly_{}_hrs'.format(app)\n",
    "    \n",
    "    # look at hourly values before and after\n",
    "    hr_mean_uncorrected = survey_copy[hr_col].mean()\n",
    "    survey_copy[hr_col] = survey_copy[hr_col].where(survey_copy[hr_col].isnull() | (survey_copy[hr_col] <= 24), 24)\n",
    "    hr_mean_corrected = survey_copy[hr_col].mean()\n",
    "    hour_differences[app] = hr_mean_uncorrected - hr_mean_corrected\n",
    "    \n",
    "    # look at weekly values before and after\n",
    "    wk_mean_uncorrected = survey_copy[wk_col].mean()\n",
    "    survey_copy[wk_col] = survey_copy[wk_col].where(survey_copy[wk_col].isnull() | (survey_copy[wk_col] <= 7), 7)\n",
    "    wk_mean_corrected = survey_copy[wk_col].mean()\n",
    "    week_differences[app] = wk_mean_uncorrected - wk_mean_corrected\n",
    "    \n",
    "    # ensure data is in range\n",
    "    assert(all(survey_copy[wk_col]) <= 7)\n",
    "    assert(all(survey_copy[wk_col]) >= 0)\n",
    "    assert(all(survey_copy[hr_col]) <= 24)\n",
    "    assert(all(survey_copy[hr_col]) >= 0)\n",
    "\n",
    "pd.DataFrame({'hourly_mean_differences':hour_differences,\n",
    "              'weekly_mean_differences':week_differences})"
   ]
  },
  {
   "cell_type": "code",
   "execution_count": 6,
   "metadata": {
    "collapsed": false
   },
   "outputs": [
    {
     "data": {
      "text/html": [
       "<div>\n",
       "<table border=\"1\" class=\"dataframe\">\n",
       "  <thead>\n",
       "    <tr style=\"text-align: right;\">\n",
       "      <th></th>\n",
       "      <th>hourly_mean_differences</th>\n",
       "      <th>weekly_mean_differences</th>\n",
       "    </tr>\n",
       "  </thead>\n",
       "  <tbody>\n",
       "    <tr>\n",
       "      <th>TV</th>\n",
       "      <td>0</td>\n",
       "      <td>0.042926</td>\n",
       "    </tr>\n",
       "    <tr>\n",
       "      <th>fan</th>\n",
       "      <td>0</td>\n",
       "      <td>0.000000</td>\n",
       "    </tr>\n",
       "    <tr>\n",
       "      <th>fridge</th>\n",
       "      <td>0</td>\n",
       "      <td>104.035244</td>\n",
       "    </tr>\n",
       "    <tr>\n",
       "      <th>radio</th>\n",
       "      <td>0</td>\n",
       "      <td>0.054201</td>\n",
       "    </tr>\n",
       "    <tr>\n",
       "      <th>rice_cooker</th>\n",
       "      <td>0</td>\n",
       "      <td>0.205152</td>\n",
       "    </tr>\n",
       "  </tbody>\n",
       "</table>\n",
       "</div>"
      ],
      "text/plain": [
       "             hourly_mean_differences  weekly_mean_differences\n",
       "TV                                 0                 0.042926\n",
       "fan                                0                 0.000000\n",
       "fridge                             0               104.035244\n",
       "radio                              0                 0.054201\n",
       "rice_cooker                        0                 0.205152"
      ]
     },
     "execution_count": 6,
     "metadata": {},
     "output_type": "execute_result"
    }
   ],
   "source": [
    "import numpy as np\n",
    "survey_copy = survey.copy(deep=True)\n",
    "\n",
    "# use dictionaries to facilitate \n",
    "hour_differences = {}\n",
    "week_differences = {}\n",
    "\n",
    "for app in ['TV', 'radio', 'fridge', 'fan', 'rice_cooker']:\n",
    "    # generate column labels for each appliance\n",
    "    wk_col = 'app_{}_per_wk'.format(app)\n",
    "    hr_col = 'app_{}_hrs'.format(app)\n",
    "    energy_col = 'daily_{}_energy'.format(app)\n",
    "    weekly_hr_col = 'weekly_{}_hrs'.format(app)\n",
    "    \n",
    "    # look at hourly values before and after\n",
    "    hr_mean_uncorrected = survey_copy[hr_col].mean()\n",
    "    survey_copy[hr_col] = survey_copy[hr_col].where(survey_copy[hr_col].isnull() | (survey_copy[hr_col] <= 24), np.nan)\n",
    "    hr_mean_corrected = survey_copy[hr_col].mean()\n",
    "    hour_differences[app] = hr_mean_uncorrected - hr_mean_corrected\n",
    "    \n",
    "    # look at weekly values before and after\n",
    "    wk_mean_uncorrected = survey_copy[wk_col].mean()\n",
    "    survey_copy[wk_col] = survey_copy[wk_col].where(survey_copy[wk_col].isnull() | (survey_copy[wk_col] <= 7), np.nan)\n",
    "    wk_mean_corrected = survey_copy[wk_col].mean()\n",
    "    week_differences[app] = wk_mean_uncorrected - wk_mean_corrected\n",
    "    \n",
    "    # ensure data is in range\n",
    "    assert(all(survey_copy[wk_col]) <= 7)\n",
    "    assert(all(survey_copy[wk_col]) >= 0)\n",
    "    assert(all(survey_copy[hr_col]) <= 24)\n",
    "    assert(all(survey_copy[hr_col]) >= 0)\n",
    "\n",
    "pd.DataFrame({'hourly_mean_differences':hour_differences,\n",
    "              'weekly_mean_differences':week_differences})"
   ]
  },
  {
   "cell_type": "markdown",
   "metadata": {},
   "source": [
    "These strategies result in very similar differences to the means."
   ]
  }
 ],
 "metadata": {
  "kernelspec": {
   "display_name": "Python 3",
   "language": "python",
   "name": "python3"
  },
  "language_info": {
   "codemirror_mode": {
    "name": "ipython",
    "version": 3
   },
   "file_extension": ".py",
   "mimetype": "text/x-python",
   "name": "python",
   "nbconvert_exporter": "python",
   "pygments_lexer": "ipython3",
   "version": "3.4.4"
  }
 },
 "nbformat": 4,
 "nbformat_minor": 0
}
