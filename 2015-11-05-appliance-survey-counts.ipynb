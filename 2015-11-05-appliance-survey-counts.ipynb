{
 "cells": [
  {
   "cell_type": "markdown",
   "metadata": {},
   "source": [
    "# Dropping appliance survey non-responses\n",
    "\n",
    "A discussion of the survey should include the number of households completely surveyed in each category, as well as the total number of households present in the villages.\n",
    "\n",
    "- join data from Josh to the data frames below\n",
    "- add total village counts to pysentani?\n",
    "- add simplified access types to pysentani?\n"
   ]
  },
  {
   "cell_type": "code",
   "execution_count": 1,
   "metadata": {
    "collapsed": false
   },
   "outputs": [],
   "source": [
    "from drs_sentani import get_survey\n",
    "import pandas as pd\n",
    "survey = get_survey()\n",
    "import pysentani as sti\n",
    "survey['access_type'] = sti.access_type(survey)\n"
   ]
  },
  {
   "cell_type": "code",
   "execution_count": 2,
   "metadata": {
    "collapsed": false
   },
   "outputs": [
    {
     "data": {
      "text/html": [
       "<div>\n",
       "<table border=\"1\" class=\"dataframe\">\n",
       "  <thead>\n",
       "    <tr style=\"text-align: right;\">\n",
       "      <th></th>\n",
       "      <th>app_now/TV</th>\n",
       "      <th>app_buy/TV</th>\n",
       "      <th>valid_surveys</th>\n",
       "    </tr>\n",
       "    <tr>\n",
       "      <th>access_type</th>\n",
       "      <th></th>\n",
       "      <th></th>\n",
       "      <th></th>\n",
       "    </tr>\n",
       "  </thead>\n",
       "  <tbody>\n",
       "    <tr>\n",
       "      <th>PLN_grid</th>\n",
       "      <td>417</td>\n",
       "      <td>417</td>\n",
       "      <td>417</td>\n",
       "    </tr>\n",
       "    <tr>\n",
       "      <th>PLN_microgrid</th>\n",
       "      <td>115</td>\n",
       "      <td>115</td>\n",
       "      <td>115</td>\n",
       "    </tr>\n",
       "    <tr>\n",
       "      <th>community_microgrid</th>\n",
       "      <td>45</td>\n",
       "      <td>45</td>\n",
       "      <td>45</td>\n",
       "    </tr>\n",
       "    <tr>\n",
       "      <th>no_access</th>\n",
       "      <td>182</td>\n",
       "      <td>182</td>\n",
       "      <td>182</td>\n",
       "    </tr>\n",
       "  </tbody>\n",
       "</table>\n",
       "</div>"
      ],
      "text/plain": [
       "                     app_now/TV  app_buy/TV  valid_surveys\n",
       "access_type                                               \n",
       "PLN_grid                    417         417            417\n",
       "PLN_microgrid               115         115            115\n",
       "community_microgrid          45          45             45\n",
       "no_access                   182         182            182"
      ]
     },
     "execution_count": 2,
     "metadata": {},
     "output_type": "execute_result"
    }
   ],
   "source": [
    "appliance_data = survey[['app_now/TV', 'app_buy/TV', 'access_type']]\n",
    "appliance_data_no_nulls = appliance_data.dropna()\n",
    "adnn = appliance_data_no_nulls.groupby('access_type').count()\n",
    "adnn['valid_surveys'] = adnn['app_now/TV']\n",
    "adnn"
   ]
  },
  {
   "cell_type": "code",
   "execution_count": 7,
   "metadata": {
    "collapsed": false
   },
   "outputs": [
    {
     "data": {
      "text/html": [
       "<div>\n",
       "<table border=\"1\" class=\"dataframe\">\n",
       "  <thead>\n",
       "    <tr style=\"text-align: right;\">\n",
       "      <th></th>\n",
       "      <th>total_surveys</th>\n",
       "      <th>valid_surveys</th>\n",
       "      <th>percent_valid</th>\n",
       "      <th>AE_count</th>\n",
       "      <th>percent_surveyed</th>\n",
       "    </tr>\n",
       "    <tr>\n",
       "      <th>access_type</th>\n",
       "      <th></th>\n",
       "      <th></th>\n",
       "      <th></th>\n",
       "      <th></th>\n",
       "      <th></th>\n",
       "    </tr>\n",
       "  </thead>\n",
       "  <tbody>\n",
       "    <tr>\n",
       "      <th>PLN_grid</th>\n",
       "      <td>619</td>\n",
       "      <td>417</td>\n",
       "      <td>0.673667</td>\n",
       "      <td>660</td>\n",
       "      <td>0.631818</td>\n",
       "    </tr>\n",
       "    <tr>\n",
       "      <th>PLN_microgrid</th>\n",
       "      <td>170</td>\n",
       "      <td>115</td>\n",
       "      <td>0.676471</td>\n",
       "      <td>170</td>\n",
       "      <td>0.676471</td>\n",
       "    </tr>\n",
       "    <tr>\n",
       "      <th>community_microgrid</th>\n",
       "      <td>54</td>\n",
       "      <td>45</td>\n",
       "      <td>0.833333</td>\n",
       "      <td>60</td>\n",
       "      <td>0.750000</td>\n",
       "    </tr>\n",
       "    <tr>\n",
       "      <th>no_access</th>\n",
       "      <td>341</td>\n",
       "      <td>182</td>\n",
       "      <td>0.533724</td>\n",
       "      <td>398</td>\n",
       "      <td>0.457286</td>\n",
       "    </tr>\n",
       "  </tbody>\n",
       "</table>\n",
       "</div>"
      ],
      "text/plain": [
       "                     total_surveys  valid_surveys  percent_valid  AE_count  \\\n",
       "access_type                                                                  \n",
       "PLN_grid                       619            417       0.673667       660   \n",
       "PLN_microgrid                  170            115       0.676471       170   \n",
       "community_microgrid             54             45       0.833333        60   \n",
       "no_access                      341            182       0.533724       398   \n",
       "\n",
       "                     percent_surveyed  \n",
       "access_type                            \n",
       "PLN_grid                     0.631818  \n",
       "PLN_microgrid                0.676471  \n",
       "community_microgrid          0.750000  \n",
       "no_access                    0.457286  "
      ]
     },
     "execution_count": 7,
     "metadata": {},
     "output_type": "execute_result"
    }
   ],
   "source": [
    "# add value counts column to count of valid surveys\n",
    "adnn['total_surveys'] = appliance_data['access_type'].value_counts()\n",
    "adnn['percent_valid'] = adnn['valid_surveys'] / adnn['total_surveys']\n",
    "# this data from AE counts and Joshua data\n",
    "adnn['AE_count'] = pd.Series({'PLN_grid':660, 'PLN_microgrid':170, 'community_microgrid':60, 'no_access':398})\n",
    "adnn['percent_surveyed'] = adnn['valid_surveys'] / adnn['AE_count']\n",
    "adnn[['total_surveys', 'valid_surveys', 'percent_valid', 'AE_count', 'percent_surveyed']]"
   ]
  },
  {
   "cell_type": "code",
   "execution_count": 4,
   "metadata": {
    "collapsed": true
   },
   "outputs": [],
   "source": [
    "# next step is to add an estimate of total households in each access type\n",
    "# make a column that is percent of available households surveyed\n",
    "# why is there a discrepancy on PLN_grid surveys (is it from transcription error)?\n",
    "\n",
    "# Joshua/AE count grid 660, microgrid 230, no access 398"
   ]
  }
 ],
 "metadata": {
  "kernelspec": {
   "display_name": "Python 3",
   "language": "python",
   "name": "python3"
  },
  "language_info": {
   "codemirror_mode": {
    "name": "ipython",
    "version": 3
   },
   "file_extension": ".py",
   "mimetype": "text/x-python",
   "name": "python",
   "nbconvert_exporter": "python",
   "pygments_lexer": "ipython3",
   "version": "3.4.3"
  }
 },
 "nbformat": 4,
 "nbformat_minor": 0
}
