{
 "cells": [
  {
   "cell_type": "code",
   "execution_count": 8,
   "metadata": {
    "collapsed": false
   },
   "outputs": [],
   "source": [
    "%matplotlib inline\n",
    "import pandas as pd\n",
    "import numpy as np\n",
    "import matplotlib.pyplot as plt\n",
    "import seaborn as sns\n",
    "from IPython.core.display import display, display_html\n",
    "import drs_sentani as sti\n",
    "import pysentani\n",
    "survey = sti.get_survey()"
   ]
  },
  {
   "cell_type": "code",
   "execution_count": 2,
   "metadata": {
    "collapsed": false
   },
   "outputs": [
    {
     "data": {
      "text/plain": [
       "count    1.109000e+03\n",
       "mean     1.192605e+06\n",
       "std      7.410150e+06\n",
       "min      0.000000e+00\n",
       "25%      1.000000e+05\n",
       "50%      3.000000e+05\n",
       "75%      1.000000e+06\n",
       "max      2.400000e+08\n",
       "Name: group_income_reg/electric_income, dtype: float64"
      ]
     },
     "execution_count": 2,
     "metadata": {},
     "output_type": "execute_result"
    }
   ],
   "source": [
    "survey['group_income_reg/electric_income'].describe()"
   ]
  },
  {
   "cell_type": "code",
   "execution_count": 3,
   "metadata": {
    "collapsed": false
   },
   "outputs": [
    {
     "data": {
      "text/plain": [
       "weekly         290\n",
       "monthly        269\n",
       "daily          264\n",
       "not_regular     40\n",
       "dtype: int64"
      ]
     },
     "execution_count": 3,
     "metadata": {},
     "output_type": "execute_result"
    }
   ],
   "source": [
    "survey['group_income_reg/electric_income_freq'].value_counts()"
   ]
  },
  {
   "cell_type": "code",
   "execution_count": 4,
   "metadata": {
    "collapsed": false
   },
   "outputs": [],
   "source": [
    "multiplier = {'monthly':1, 'weekly':4, 'daily':30, 'not_regular':np.nan}\n",
    "survey['monthly_income'] = survey['group_income_reg/electric_income'\n",
    "                         ] * survey['group_income_reg/electric_income_freq'].apply(lambda x: multiplier.get(x))"
   ]
  },
  {
   "cell_type": "code",
   "execution_count": 5,
   "metadata": {
    "collapsed": false
   },
   "outputs": [
    {
     "data": {
      "text/plain": [
       "count    8.210000e+02\n",
       "mean     5.519053e+06\n",
       "std      1.593929e+07\n",
       "min      0.000000e+00\n",
       "25%      8.000000e+05\n",
       "50%      2.000000e+06\n",
       "75%      3.600000e+06\n",
       "max      1.500000e+08\n",
       "Name: monthly_income, dtype: float64"
      ]
     },
     "execution_count": 5,
     "metadata": {},
     "output_type": "execute_result"
    }
   ],
   "source": [
    "survey['monthly_income'].describe()"
   ]
  },
  {
   "cell_type": "code",
   "execution_count": 6,
   "metadata": {
    "collapsed": false
   },
   "outputs": [
    {
     "data": {
      "text/plain": [
       "<matplotlib.axes._subplots.AxesSubplot at 0x108ed3438>"
      ]
     },
     "execution_count": 6,
     "metadata": {},
     "output_type": "execute_result"
    },
    {
     "data": {
      "image/png": "[encoded data removed]",
      "text/plain": [
       "<matplotlib.figure.Figure at 0x108ed36d8>"
      ]
     },
     "metadata": {},
     "output_type": "display_data"
    }
   ],
   "source": [
    "survey['monthly_income'].hist(bins=np.linspace(0, 1e7, 20))"
   ]
  },
  {
   "cell_type": "code",
   "execution_count": 15,
   "metadata": {
    "collapsed": false
   },
   "outputs": [
    {
     "data": {
      "text/plain": [
       "count          21.000000\n",
       "mean      5859133.333333\n",
       "std      10082107.149467\n",
       "min          1800.000000\n",
       "25%        600000.000000\n",
       "50%       3000000.000000\n",
       "75%       6000000.000000\n",
       "max      45000000.000000\n",
       "Name: monthly_electric_income, dtype: float64"
      ]
     },
     "execution_count": 15,
     "metadata": {},
     "output_type": "execute_result"
    }
   ],
   "source": [
    "multiplier = {'monthly':1, 'weekly':4, 'daily':30, 'not_regular':np.nan}\n",
    "survey['monthly_electric_income'] = survey['group_electric_income/electric_income'\n",
    "                         ] * survey['group_electric_income/electric_income_freq'].apply(lambda x: multiplier.get(x))\n",
    "survey['monthly_electric_income'].describe()"
   ]
  },
  {
   "cell_type": "code",
   "execution_count": null,
   "metadata": {
    "collapsed": true
   },
   "outputs": [],
   "source": []
  }
 ],
 "metadata": {
  "kernelspec": {
   "display_name": "Python 3",
   "language": "python",
   "name": "python3"
  },
  "language_info": {
   "codemirror_mode": {
    "name": "ipython",
    "version": 3
   },
   "file_extension": ".py",
   "mimetype": "text/x-python",
   "name": "python",
   "nbconvert_exporter": "python",
   "pygments_lexer": "ipython3",
   "version": "3.4.3"
  }
 },
 "nbformat": 4,
 "nbformat_minor": 0
}
