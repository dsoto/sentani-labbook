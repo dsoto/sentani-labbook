{
 "cells": [
  {
   "cell_type": "markdown",
   "metadata": {},
   "source": [
    "This notebook processes the data from a run of 7 cans in the ETC mini-fridge.\n",
    "\n",
    "I demonstrate the use of resampling and interpolating to get the two data series from different locations in the refrigerator on the same scale.\n",
    "\n",
    "Plotting the difference in these should show the emergence of a temperature gradient over time.\n",
    "\n",
    "$$ \\sum = \\frac{n_i}{x_i} $$"
   ]
  },
  {
   "cell_type": "code",
   "execution_count": 1,
   "metadata": {
    "collapsed": true
   },
   "outputs": [],
   "source": [
    "import pandas as pd\n",
    "%matplotlib inline"
   ]
  },
  {
   "cell_type": "code",
   "execution_count": null,
   "metadata": {
    "collapsed": true
   },
   "outputs": [],
   "source": [
    "# how do I slice this data and put it in the same data frame?\n",
    "# probably want to use the 1970 time stamp"
   ]
  },
  {
   "cell_type": "code",
   "execution_count": 3,
   "metadata": {
    "collapsed": false
   },
   "outputs": [
    {
     "data": {
      "text/html": [
       "<div>\n",
       "<table border=\"1\" class=\"dataframe\">\n",
       "  <thead>\n",
       "    <tr style=\"text-align: right;\">\n",
       "      <th></th>\n",
       "      <th>Time.1</th>\n",
       "      <th>Temperature (C)</th>\n",
       "      <th>Light (Lux)</th>\n",
       "      <th>Humidity (%RH)</th>\n",
       "    </tr>\n",
       "    <tr>\n",
       "      <th>Time</th>\n",
       "      <th></th>\n",
       "      <th></th>\n",
       "      <th></th>\n",
       "      <th></th>\n",
       "    </tr>\n",
       "  </thead>\n",
       "  <tbody>\n",
       "    <tr>\n",
       "      <th>2015-12-02 13:59:13</th>\n",
       "      <td>1449093553</td>\n",
       "      <td>20.187</td>\n",
       "      <td>6.2</td>\n",
       "      <td>41.01</td>\n",
       "    </tr>\n",
       "    <tr>\n",
       "      <th>2015-12-02 14:09:13</th>\n",
       "      <td>1449094153</td>\n",
       "      <td>16.625</td>\n",
       "      <td>4.7</td>\n",
       "      <td>40.15</td>\n",
       "    </tr>\n",
       "    <tr>\n",
       "      <th>2015-12-02 14:19:13</th>\n",
       "      <td>1449094753</td>\n",
       "      <td>14.750</td>\n",
       "      <td>3.9</td>\n",
       "      <td>39.69</td>\n",
       "    </tr>\n",
       "    <tr>\n",
       "      <th>2015-12-02 14:29:13</th>\n",
       "      <td>1449095353</td>\n",
       "      <td>13.312</td>\n",
       "      <td>3.3</td>\n",
       "      <td>39.34</td>\n",
       "    </tr>\n",
       "    <tr>\n",
       "      <th>2015-12-02 14:39:13</th>\n",
       "      <td>1449095953</td>\n",
       "      <td>12.250</td>\n",
       "      <td>3.1</td>\n",
       "      <td>39.09</td>\n",
       "    </tr>\n",
       "  </tbody>\n",
       "</table>\n",
       "</div>"
      ],
      "text/plain": [
       "                         Time.1  Temperature (C)  Light (Lux)  Humidity (%RH)\n",
       "Time                                                                         \n",
       "2015-12-02 13:59:13  1449093553           20.187          6.2           41.01\n",
       "2015-12-02 14:09:13  1449094153           16.625          4.7           40.15\n",
       "2015-12-02 14:19:13  1449094753           14.750          3.9           39.69\n",
       "2015-12-02 14:29:13  1449095353           13.312          3.3           39.34\n",
       "2015-12-02 14:39:13  1449095953           12.250          3.1           39.09"
      ]
     },
     "execution_count": 3,
     "metadata": {},
     "output_type": "execute_result"
    }
   ],
   "source": [
    "data_1 = pd.read_csv('../raw-data/SSU-01_2015-12-03.csv', parse_dates=True, index_col=0)\n",
    "data_2 = pd.read_csv('../raw-data/SSU-02_2015-12-03.csv', parse_dates=True, index_col=0)\n",
    "data_1.head()"
   ]
  },
  {
   "cell_type": "code",
   "execution_count": 4,
   "metadata": {
    "collapsed": false
   },
   "outputs": [
    {
     "data": {
      "text/html": [
       "<div>\n",
       "<table border=\"1\" class=\"dataframe\">\n",
       "  <thead>\n",
       "    <tr style=\"text-align: right;\">\n",
       "      <th></th>\n",
       "      <th>Time.1</th>\n",
       "      <th>Temperature (C)</th>\n",
       "      <th>Light (Lux)</th>\n",
       "      <th>Humidity (%RH)</th>\n",
       "    </tr>\n",
       "    <tr>\n",
       "      <th>Time</th>\n",
       "      <th></th>\n",
       "      <th></th>\n",
       "      <th></th>\n",
       "      <th></th>\n",
       "    </tr>\n",
       "  </thead>\n",
       "  <tbody>\n",
       "    <tr>\n",
       "      <th>2015-12-02 13:57:45</th>\n",
       "      <td>1449093465</td>\n",
       "      <td>19.562</td>\n",
       "      <td>3.5</td>\n",
       "      <td>41.24</td>\n",
       "    </tr>\n",
       "    <tr>\n",
       "      <th>2015-12-02 14:07:45</th>\n",
       "      <td>1449094065</td>\n",
       "      <td>14.062</td>\n",
       "      <td>2.1</td>\n",
       "      <td>39.42</td>\n",
       "    </tr>\n",
       "    <tr>\n",
       "      <th>2015-12-02 14:17:45</th>\n",
       "      <td>1449094665</td>\n",
       "      <td>11.437</td>\n",
       "      <td>1.9</td>\n",
       "      <td>38.81</td>\n",
       "    </tr>\n",
       "    <tr>\n",
       "      <th>2015-12-02 14:27:45</th>\n",
       "      <td>1449095265</td>\n",
       "      <td>10.125</td>\n",
       "      <td>1.5</td>\n",
       "      <td>38.51</td>\n",
       "    </tr>\n",
       "    <tr>\n",
       "      <th>2015-12-02 14:37:45</th>\n",
       "      <td>1449095865</td>\n",
       "      <td>9.250</td>\n",
       "      <td>1.4</td>\n",
       "      <td>38.31</td>\n",
       "    </tr>\n",
       "  </tbody>\n",
       "</table>\n",
       "</div>"
      ],
      "text/plain": [
       "                         Time.1  Temperature (C)  Light (Lux)  Humidity (%RH)\n",
       "Time                                                                         \n",
       "2015-12-02 13:57:45  1449093465           19.562          3.5           41.24\n",
       "2015-12-02 14:07:45  1449094065           14.062          2.1           39.42\n",
       "2015-12-02 14:17:45  1449094665           11.437          1.9           38.81\n",
       "2015-12-02 14:27:45  1449095265           10.125          1.5           38.51\n",
       "2015-12-02 14:37:45  1449095865            9.250          1.4           38.31"
      ]
     },
     "execution_count": 4,
     "metadata": {},
     "output_type": "execute_result"
    }
   ],
   "source": [
    "data_2.head()"
   ]
  },
  {
   "cell_type": "markdown",
   "metadata": {},
   "source": [
    "Janky merging of data into one data frame with even samples."
   ]
  },
  {
   "cell_type": "code",
   "execution_count": 5,
   "metadata": {
    "collapsed": true
   },
   "outputs": [],
   "source": [
    "data_resampled = data_1.resample('1S')\n",
    "data_int = data_resampled.interpolate()\n",
    "data_final = data_int.resample('1min')\n",
    "data_final['temp1'] = data_final['Temperature (C)']"
   ]
  },
  {
   "cell_type": "code",
   "execution_count": 6,
   "metadata": {
    "collapsed": false
   },
   "outputs": [
    {
     "data": {
      "text/html": [
       "<div>\n",
       "<table border=\"1\" class=\"dataframe\">\n",
       "  <thead>\n",
       "    <tr style=\"text-align: right;\">\n",
       "      <th></th>\n",
       "      <th>Time.1</th>\n",
       "      <th>Temperature (C)</th>\n",
       "      <th>Light (Lux)</th>\n",
       "      <th>Humidity (%RH)</th>\n",
       "      <th>temp1</th>\n",
       "      <th>temp2</th>\n",
       "    </tr>\n",
       "    <tr>\n",
       "      <th>Time</th>\n",
       "      <th></th>\n",
       "      <th></th>\n",
       "      <th></th>\n",
       "      <th></th>\n",
       "      <th></th>\n",
       "      <th></th>\n",
       "    </tr>\n",
       "  </thead>\n",
       "  <tbody>\n",
       "    <tr>\n",
       "      <th>2015-12-02 13:59:00</th>\n",
       "      <td>1.449094e+09</td>\n",
       "      <td>20.050457</td>\n",
       "      <td>6.14250</td>\n",
       "      <td>40.977033</td>\n",
       "      <td>20.050457</td>\n",
       "      <td>18.604083</td>\n",
       "    </tr>\n",
       "    <tr>\n",
       "      <th>2015-12-02 14:00:00</th>\n",
       "      <td>1.449094e+09</td>\n",
       "      <td>19.732845</td>\n",
       "      <td>6.00875</td>\n",
       "      <td>40.900350</td>\n",
       "      <td>19.732845</td>\n",
       "      <td>18.054083</td>\n",
       "    </tr>\n",
       "    <tr>\n",
       "      <th>2015-12-02 14:01:00</th>\n",
       "      <td>1.449094e+09</td>\n",
       "      <td>19.376645</td>\n",
       "      <td>5.85875</td>\n",
       "      <td>40.814350</td>\n",
       "      <td>19.376645</td>\n",
       "      <td>17.504083</td>\n",
       "    </tr>\n",
       "    <tr>\n",
       "      <th>2015-12-02 14:02:00</th>\n",
       "      <td>1.449094e+09</td>\n",
       "      <td>19.020445</td>\n",
       "      <td>5.70875</td>\n",
       "      <td>40.728350</td>\n",
       "      <td>19.020445</td>\n",
       "      <td>16.954083</td>\n",
       "    </tr>\n",
       "    <tr>\n",
       "      <th>2015-12-02 14:03:00</th>\n",
       "      <td>1.449094e+09</td>\n",
       "      <td>18.664245</td>\n",
       "      <td>5.55875</td>\n",
       "      <td>40.642350</td>\n",
       "      <td>18.664245</td>\n",
       "      <td>16.404083</td>\n",
       "    </tr>\n",
       "  </tbody>\n",
       "</table>\n",
       "</div>"
      ],
      "text/plain": [
       "                           Time.1  Temperature (C)  Light (Lux)  \\\n",
       "Time                                                              \n",
       "2015-12-02 13:59:00  1.449094e+09        20.050457      6.14250   \n",
       "2015-12-02 14:00:00  1.449094e+09        19.732845      6.00875   \n",
       "2015-12-02 14:01:00  1.449094e+09        19.376645      5.85875   \n",
       "2015-12-02 14:02:00  1.449094e+09        19.020445      5.70875   \n",
       "2015-12-02 14:03:00  1.449094e+09        18.664245      5.55875   \n",
       "\n",
       "                     Humidity (%RH)      temp1      temp2  \n",
       "Time                                                       \n",
       "2015-12-02 13:59:00       40.977033  20.050457  18.604083  \n",
       "2015-12-02 14:00:00       40.900350  19.732845  18.054083  \n",
       "2015-12-02 14:01:00       40.814350  19.376645  17.504083  \n",
       "2015-12-02 14:02:00       40.728350  19.020445  16.954083  \n",
       "2015-12-02 14:03:00       40.642350  18.664245  16.404083  "
      ]
     },
     "execution_count": 6,
     "metadata": {},
     "output_type": "execute_result"
    }
   ],
   "source": [
    "data_resampled = data_2.resample('1S')\n",
    "data_int = data_resampled.interpolate()\n",
    "data_final['temp2'] = data_int.resample('1min')['Temperature (C)']\n",
    "#data_final['temp1'] = data_final['Temperature (C)']\n",
    "data_final.head()"
   ]
  },
  {
   "cell_type": "code",
   "execution_count": 7,
   "metadata": {
    "collapsed": false
   },
   "outputs": [
    {
     "data": {
      "text/plain": [
       "<matplotlib.axes._subplots.AxesSubplot at 0x1076e6470>"
      ]
     },
     "execution_count": 7,
     "metadata": {},
     "output_type": "execute_result"
    },
    {
     "data": {
      "image/png": "[encoded data removed]",
      "text/plain": [
       "<matplotlib.figure.Figure at 0x1076084a8>"
      ]
     },
     "metadata": {},
     "output_type": "display_data"
    }
   ],
   "source": [
    "# next merge temp for 1 and temp for 2\n",
    "# maybe write something to do this for multiple files?\n",
    "\n",
    "data_final['2015-12-03 08:00':'2015-12-03 17:00']['Temperature (C)'].plot()"
   ]
  },
  {
   "cell_type": "code",
   "execution_count": 8,
   "metadata": {
    "collapsed": false
   },
   "outputs": [
    {
     "data": {
      "text/html": [
       "<div>\n",
       "<table border=\"1\" class=\"dataframe\">\n",
       "  <thead>\n",
       "    <tr style=\"text-align: right;\">\n",
       "      <th></th>\n",
       "      <th>Time.1</th>\n",
       "      <th>Temperature (C)</th>\n",
       "      <th>Light (Lux)</th>\n",
       "      <th>Humidity (%RH)</th>\n",
       "      <th>temp1</th>\n",
       "      <th>temp2</th>\n",
       "    </tr>\n",
       "    <tr>\n",
       "      <th>Time</th>\n",
       "      <th></th>\n",
       "      <th></th>\n",
       "      <th></th>\n",
       "      <th></th>\n",
       "      <th></th>\n",
       "      <th></th>\n",
       "    </tr>\n",
       "  </thead>\n",
       "  <tbody>\n",
       "    <tr>\n",
       "      <th>2015-12-02 13:59:00</th>\n",
       "      <td>1.449094e+09</td>\n",
       "      <td>20.050457</td>\n",
       "      <td>6.14250</td>\n",
       "      <td>40.977033</td>\n",
       "      <td>20.050457</td>\n",
       "      <td>18.604083</td>\n",
       "    </tr>\n",
       "    <tr>\n",
       "      <th>2015-12-02 14:00:00</th>\n",
       "      <td>1.449094e+09</td>\n",
       "      <td>19.732845</td>\n",
       "      <td>6.00875</td>\n",
       "      <td>40.900350</td>\n",
       "      <td>19.732845</td>\n",
       "      <td>18.054083</td>\n",
       "    </tr>\n",
       "    <tr>\n",
       "      <th>2015-12-02 14:01:00</th>\n",
       "      <td>1.449094e+09</td>\n",
       "      <td>19.376645</td>\n",
       "      <td>5.85875</td>\n",
       "      <td>40.814350</td>\n",
       "      <td>19.376645</td>\n",
       "      <td>17.504083</td>\n",
       "    </tr>\n",
       "    <tr>\n",
       "      <th>2015-12-02 14:02:00</th>\n",
       "      <td>1.449094e+09</td>\n",
       "      <td>19.020445</td>\n",
       "      <td>5.70875</td>\n",
       "      <td>40.728350</td>\n",
       "      <td>19.020445</td>\n",
       "      <td>16.954083</td>\n",
       "    </tr>\n",
       "    <tr>\n",
       "      <th>2015-12-02 14:03:00</th>\n",
       "      <td>1.449094e+09</td>\n",
       "      <td>18.664245</td>\n",
       "      <td>5.55875</td>\n",
       "      <td>40.642350</td>\n",
       "      <td>18.664245</td>\n",
       "      <td>16.404083</td>\n",
       "    </tr>\n",
       "  </tbody>\n",
       "</table>\n",
       "</div>"
      ],
      "text/plain": [
       "                           Time.1  Temperature (C)  Light (Lux)  \\\n",
       "Time                                                              \n",
       "2015-12-02 13:59:00  1.449094e+09        20.050457      6.14250   \n",
       "2015-12-02 14:00:00  1.449094e+09        19.732845      6.00875   \n",
       "2015-12-02 14:01:00  1.449094e+09        19.376645      5.85875   \n",
       "2015-12-02 14:02:00  1.449094e+09        19.020445      5.70875   \n",
       "2015-12-02 14:03:00  1.449094e+09        18.664245      5.55875   \n",
       "\n",
       "                     Humidity (%RH)      temp1      temp2  \n",
       "Time                                                       \n",
       "2015-12-02 13:59:00       40.977033  20.050457  18.604083  \n",
       "2015-12-02 14:00:00       40.900350  19.732845  18.054083  \n",
       "2015-12-02 14:01:00       40.814350  19.376645  17.504083  \n",
       "2015-12-02 14:02:00       40.728350  19.020445  16.954083  \n",
       "2015-12-02 14:03:00       40.642350  18.664245  16.404083  "
      ]
     },
     "execution_count": 8,
     "metadata": {},
     "output_type": "execute_result"
    }
   ],
   "source": [
    "data_final.head()"
   ]
  },
  {
   "cell_type": "code",
   "execution_count": 9,
   "metadata": {
    "collapsed": false
   },
   "outputs": [
    {
     "data": {
      "text/plain": [
       "<matplotlib.axes._subplots.AxesSubplot at 0x108b50c18>"
      ]
     },
     "execution_count": 9,
     "metadata": {},
     "output_type": "execute_result"
    },
    {
     "data": {
      "image/png": "[encoded data removed]",
      "text/plain": [
       "<matplotlib.figure.Figure at 0x10597b4e0>"
      ]
     },
     "metadata": {},
     "output_type": "display_data"
    }
   ],
   "source": [
    "data_final[['temp1', 'temp2']].plot()"
   ]
  },
  {
   "cell_type": "markdown",
   "metadata": {},
   "source": [
    "We see what looks like a steady temperature difference emerging across the refrigerator between 9 and 12 as the drinks cooled."
   ]
  },
  {
   "cell_type": "code",
   "execution_count": 10,
   "metadata": {
    "collapsed": false
   },
   "outputs": [
    {
     "data": {
      "text/plain": [
       "<matplotlib.axes._subplots.AxesSubplot at 0x108b1af98>"
      ]
     },
     "execution_count": 10,
     "metadata": {},
     "output_type": "execute_result"
    },
    {
     "data": {
      "image/png": "[encoded data removed]",
      "text/plain": [
       "<matplotlib.figure.Figure at 0x108be9908>"
      ]
     },
     "metadata": {},
     "output_type": "display_data"
    }
   ],
   "source": [
    "(data_final['temp1']-data_final['temp2']).plot()"
   ]
  },
  {
   "cell_type": "code",
   "execution_count": 11,
   "metadata": {
    "collapsed": true
   },
   "outputs": [],
   "source": [
    "from pint import UnitRegistry\n",
    "u = UnitRegistry()"
   ]
  },
  {
   "cell_type": "code",
   "execution_count": 12,
   "metadata": {
    "collapsed": false
   },
   "outputs": [],
   "source": [
    "delta_T = (18 - 2.5) * u.delta_degC\n",
    "mass_liquid = 17 * 355 * u.gram\n",
    "heat_capacity = 4.2 * u.joule / u.gram / u.delta_degC"
   ]
  },
  {
   "cell_type": "code",
   "execution_count": 13,
   "metadata": {
    "collapsed": false
   },
   "outputs": [
    {
     "data": {
      "text/html": [
       "392878.5 joule"
      ],
      "text/latex": [
       "$392878.5 joule$"
      ],
      "text/plain": [
       "<Quantity(392878.5, 'joule')>"
      ]
     },
     "execution_count": 13,
     "metadata": {},
     "output_type": "execute_result"
    }
   ],
   "source": [
    "energy_extracted = mass_liquid * delta_T * heat_capacity\n",
    "energy_extracted"
   ]
  },
  {
   "cell_type": "code",
   "execution_count": 14,
   "metadata": {
    "collapsed": false
   },
   "outputs": [
    {
     "data": {
      "text/html": [
       "12360.0 second"
      ],
      "text/latex": [
       "$12360.0 second$"
      ],
      "text/plain": [
       "<Quantity(12360.0, 'second')>"
      ]
     },
     "execution_count": 14,
     "metadata": {},
     "output_type": "execute_result"
    }
   ],
   "source": [
    "#3:26 hours 0.22 kwh. off at 11:50\n",
    " \n",
    "time = 3 * u.hour + 26 * u.minute\n",
    "time.to(u.second)"
   ]
  },
  {
   "cell_type": "code",
   "execution_count": 15,
   "metadata": {
    "collapsed": false
   },
   "outputs": [],
   "source": [
    "electrical_energy = 0.22 * u.kWh"
   ]
  },
  {
   "cell_type": "code",
   "execution_count": 16,
   "metadata": {
    "collapsed": false
   },
   "outputs": [],
   "source": [
    "u.define('dollars=[]')\n",
    "price_electricity = 0.13 * u.dollars / u.kWh"
   ]
  },
  {
   "cell_type": "code",
   "execution_count": 17,
   "metadata": {
    "collapsed": false
   },
   "outputs": [
    {
     "data": {
      "text/html": [
       "0.0286 dollars"
      ],
      "text/latex": [
       "$0.0286 dollars$"
      ],
      "text/plain": [
       "<Quantity(0.0286, 'dollars')>"
      ]
     },
     "execution_count": 17,
     "metadata": {},
     "output_type": "execute_result"
    }
   ],
   "source": [
    "electrical_energy * price_electricity"
   ]
  },
  {
   "cell_type": "code",
   "execution_count": null,
   "metadata": {
    "collapsed": true
   },
   "outputs": [],
   "source": []
  }
 ],
 "metadata": {
  "kernelspec": {
   "display_name": "Python 3",
   "language": "python",
   "name": "python3"
  },
  "language_info": {
   "codemirror_mode": {
    "name": "ipython",
    "version": 3
   },
   "file_extension": ".py",
   "mimetype": "text/x-python",
   "name": "python",
   "nbconvert_exporter": "python",
   "pygments_lexer": "ipython3",
   "version": "3.4.3"
  }
 },
 "nbformat": 4,
 "nbformat_minor": 0
}
