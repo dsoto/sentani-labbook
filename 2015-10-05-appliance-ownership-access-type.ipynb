{
 "cells": [
  {
   "cell_type": "markdown",
   "metadata": {},
   "source": [
    "This notebook is intended to show a simple way to get to a graph of appliance ownership and access type."
   ]
  },
  {
   "cell_type": "code",
   "execution_count": 1,
   "metadata": {
    "collapsed": false
   },
   "outputs": [],
   "source": [
    "%matplotlib inline\n",
    "import pandas as pd\n",
    "import numpy as np\n",
    "import matplotlib.pyplot as plt\n",
    "import seaborn as sns\n",
    "from drs_sentani import get_survey\n",
    "survey = get_survey()\n",
    "import pysentani as sti"
   ]
  },
  {
   "cell_type": "markdown",
   "metadata": {},
   "source": [
    "Grab the access type.  Make a smaller dataframe with only the columns we care about."
   ]
  },
  {
   "cell_type": "code",
   "execution_count": 2,
   "metadata": {
    "collapsed": false
   },
   "outputs": [],
   "source": [
    "survey['access_type'] = sti.access_type(survey)\n",
    "subsurvey = survey[['access_type',\n",
    "                   'app_now/radio',\n",
    "                   'app_now/TV']]"
   ]
  },
  {
   "cell_type": "markdown",
   "metadata": {},
   "source": [
    "Use a groupby operation and a mean to get the percentage of households reporting ownership by access type.  This is exactly the information we want in a compact form."
   ]
  },
  {
   "cell_type": "code",
   "execution_count": 3,
   "metadata": {
    "collapsed": false
   },
   "outputs": [
    {
     "data": {
      "text/html": [
       "<div>\n",
       "<table border=\"1\" class=\"dataframe\">\n",
       "  <thead>\n",
       "    <tr style=\"text-align: right;\">\n",
       "      <th></th>\n",
       "      <th>app_now/radio</th>\n",
       "      <th>app_now/TV</th>\n",
       "    </tr>\n",
       "    <tr>\n",
       "      <th>access_type</th>\n",
       "      <th></th>\n",
       "      <th></th>\n",
       "    </tr>\n",
       "  </thead>\n",
       "  <tbody>\n",
       "    <tr>\n",
       "      <th>PLN_grid</th>\n",
       "      <td>0.301056</td>\n",
       "      <td>0.815141</td>\n",
       "    </tr>\n",
       "    <tr>\n",
       "      <th>PLN_microgrid</th>\n",
       "      <td>0.278481</td>\n",
       "      <td>0.810127</td>\n",
       "    </tr>\n",
       "    <tr>\n",
       "      <th>community_microgrid</th>\n",
       "      <td>0.500000</td>\n",
       "      <td>0.923077</td>\n",
       "    </tr>\n",
       "    <tr>\n",
       "      <th>no_access</th>\n",
       "      <td>0.431907</td>\n",
       "      <td>0.797665</td>\n",
       "    </tr>\n",
       "  </tbody>\n",
       "</table>\n",
       "</div>"
      ],
      "text/plain": [
       "                     app_now/radio  app_now/TV\n",
       "access_type                                   \n",
       "PLN_grid                  0.301056    0.815141\n",
       "PLN_microgrid             0.278481    0.810127\n",
       "community_microgrid       0.500000    0.923077\n",
       "no_access                 0.431907    0.797665"
      ]
     },
     "execution_count": 3,
     "metadata": {},
     "output_type": "execute_result"
    }
   ],
   "source": [
    "analyzed = subsurvey.groupby('access_type').mean()\n",
    "analyzed"
   ]
  },
  {
   "cell_type": "markdown",
   "metadata": {},
   "source": [
    "To graph this in seaborn, we want to transform from wide format to long format.  The following code does that.  "
   ]
  },
  {
   "cell_type": "code",
   "execution_count": 4,
   "metadata": {
    "collapsed": false
   },
   "outputs": [
    {
     "data": {
      "text/html": [
       "<div>\n",
       "<table border=\"1\" class=\"dataframe\">\n",
       "  <thead>\n",
       "    <tr style=\"text-align: right;\">\n",
       "      <th></th>\n",
       "      <th>access_type</th>\n",
       "      <th>variable</th>\n",
       "      <th>Percent Ownership</th>\n",
       "    </tr>\n",
       "  </thead>\n",
       "  <tbody>\n",
       "    <tr>\n",
       "      <th>0</th>\n",
       "      <td>PLN_grid</td>\n",
       "      <td>app_now/radio</td>\n",
       "      <td>0.301056</td>\n",
       "    </tr>\n",
       "    <tr>\n",
       "      <th>1</th>\n",
       "      <td>PLN_microgrid</td>\n",
       "      <td>app_now/radio</td>\n",
       "      <td>0.278481</td>\n",
       "    </tr>\n",
       "    <tr>\n",
       "      <th>2</th>\n",
       "      <td>community_microgrid</td>\n",
       "      <td>app_now/radio</td>\n",
       "      <td>0.500000</td>\n",
       "    </tr>\n",
       "    <tr>\n",
       "      <th>3</th>\n",
       "      <td>no_access</td>\n",
       "      <td>app_now/radio</td>\n",
       "      <td>0.431907</td>\n",
       "    </tr>\n",
       "    <tr>\n",
       "      <th>4</th>\n",
       "      <td>PLN_grid</td>\n",
       "      <td>app_now/TV</td>\n",
       "      <td>0.815141</td>\n",
       "    </tr>\n",
       "    <tr>\n",
       "      <th>5</th>\n",
       "      <td>PLN_microgrid</td>\n",
       "      <td>app_now/TV</td>\n",
       "      <td>0.810127</td>\n",
       "    </tr>\n",
       "    <tr>\n",
       "      <th>6</th>\n",
       "      <td>community_microgrid</td>\n",
       "      <td>app_now/TV</td>\n",
       "      <td>0.923077</td>\n",
       "    </tr>\n",
       "    <tr>\n",
       "      <th>7</th>\n",
       "      <td>no_access</td>\n",
       "      <td>app_now/TV</td>\n",
       "      <td>0.797665</td>\n",
       "    </tr>\n",
       "  </tbody>\n",
       "</table>\n",
       "</div>"
      ],
      "text/plain": [
       "           access_type       variable  Percent Ownership\n",
       "0             PLN_grid  app_now/radio           0.301056\n",
       "1        PLN_microgrid  app_now/radio           0.278481\n",
       "2  community_microgrid  app_now/radio           0.500000\n",
       "3            no_access  app_now/radio           0.431907\n",
       "4             PLN_grid     app_now/TV           0.815141\n",
       "5        PLN_microgrid     app_now/TV           0.810127\n",
       "6  community_microgrid     app_now/TV           0.923077\n",
       "7            no_access     app_now/TV           0.797665"
      ]
     },
     "execution_count": 4,
     "metadata": {},
     "output_type": "execute_result"
    }
   ],
   "source": [
    "analyzed['access_type'] = analyzed.index  # is there a way to avoid this?  seems unnecessary.\n",
    "melted = pd.melt(analyzed, \n",
    "                 id_vars=['access_type'],\n",
    "                 value_vars=['app_now/radio', 'app_now/TV'],\n",
    "                 value_name='Percent Ownership')\n",
    "melted"
   ]
  },
  {
   "cell_type": "code",
   "execution_count": 5,
   "metadata": {
    "collapsed": false
   },
   "outputs": [
    {
     "data": {
      "text/plain": [
       "<matplotlib.axes._subplots.AxesSubplot at 0x109056400>"
      ]
     },
     "execution_count": 5,
     "metadata": {},
     "output_type": "execute_result"
    },
    {
     "data": {
      "image/png": "[encoded data removed]",
      "text/plain": [
       "<matplotlib.figure.Figure at 0x10a889dd8>"
      ]
     },
     "metadata": {},
     "output_type": "display_data"
    }
   ],
   "source": [
    "sns.barplot(x='variable', y='Percent Ownership', hue='access_type', data=melted)"
   ]
  },
  {
   "cell_type": "markdown",
   "metadata": {},
   "source": [
    "There is some work do be done to make the labels nicer, but I think this makes the overall intent and implementation of the calculation more clear."
   ]
  },
  {
   "cell_type": "code",
   "execution_count": null,
   "metadata": {
    "collapsed": true
   },
   "outputs": [],
   "source": []
  }
 ],
 "metadata": {
  "kernelspec": {
   "display_name": "Python 3",
   "language": "python",
   "name": "python3"
  },
  "language_info": {
   "codemirror_mode": {
    "name": "ipython",
    "version": 3
   },
   "file_extension": ".py",
   "mimetype": "text/x-python",
   "name": "python",
   "nbconvert_exporter": "python",
   "pygments_lexer": "ipython3",
   "version": "3.4.3"
  }
 },
 "nbformat": 4,
 "nbformat_minor": 0
}
