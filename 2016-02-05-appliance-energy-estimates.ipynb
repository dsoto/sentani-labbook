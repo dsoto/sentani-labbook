{
 "cells": [
  {
   "cell_type": "markdown",
   "metadata": {},
   "source": [
    "# Appliance Energy Estimates\n",
    "\n",
    "This notebook describes approaches to estimation of the electricity demand based on a survey of appliance ownership by household.\n",
    "\n",
    "## Uniform appliance characteristics\n",
    "\n",
    "Each household, $i$, has responded to a survey about ownership for each type of appliance, $j$.  The ownership of each appliance can be represented as a one or zero variable $ \\alpha_{ij} $\n",
    "\n",
    "We assume that each household uses an identical appliance in terms of power consumption and that these appliances consume the same amount of energy per day because they are run for equal amounts of time each day.\n",
    "\n",
    "The power consumption for each appliance is $P_j$ and the time per day is $t_j$.\n",
    "\n",
    "Since the energy consumed is the product of the power consumption and the time operated, the sum of energy per day for the i-th household is \n",
    "\n",
    "$$ \\sum_{j=1}^{N_{appliances}} \\alpha_{ij} P_j t_j $$\n",
    "\n",
    "To get the power consumed for an entire village we extend the sum to all the households.\n",
    "\n",
    "$$ \\sum_{i=1}^{N_{households}} \\sum_{j=1}^{N_{appliances}} \\alpha_{ij} P_j t_j $$\n",
    "\n",
    "$$ \\sum_{j=1}^{N_{appliances}} P_j t_j  \\sum_{i=1}^{N_{households}} \\alpha_{ij} $$\n",
    "\n",
    "The second sum is the number of households reporting ownership of an appliance of type $j$.  We call this $n_j$ and the sum is then\n",
    "\n",
    "$$ \\sum_{j=1}^{N_{appliances}} P_j t_j n_j$$\n",
    "\n",
    "The energy is found from the energy of each appliance multiplied by the number of those appliances present on the grid.\n",
    "\n",
    "\n",
    "## Non-uniform appliance characteristics\n",
    "\n",
    "If we allow for the appliances to have different power consumptions and durations of operation, the sum\n",
    "\n",
    "$$ \\sum_{j=1}^{N_{appliances}} \\alpha_{ij} P_{ij} t_{ij} $$\n",
    "\n",
    "$$ \\sum_{i=1}^{N_{households}} \\sum_{j=1}^{N_{appliances}} \\alpha_{ij} P_{ij} t_{ij} $$\n",
    "\n",
    "Since the appliances are independent of each other, there are no ways to simplify the sum.\n",
    "\n",
    "## Extrapolation\n",
    "\n",
    "If we want to use our survey sample to predict appliance energy consumption for a larger population, we can use the mean energy consumed per day for each type of appliance, $E_j$ and use it for a large population of appliances.  We can use the fraction of households with appliance $j$, $f_j$ observed in our sample as representative of the population.\n",
    "\n",
    "$$ N_{households} \\sum_{j=1}^{N_{appliances}} f_{j} E_j $$\n",
    "\n",
    "\n"
   ]
  },
  {
   "cell_type": "code",
   "execution_count": null,
   "metadata": {
    "collapsed": true
   },
   "outputs": [],
   "source": [
    "\n",
    "\n"
   ]
  }
 ],
 "metadata": {
  "kernelspec": {
   "display_name": "Python 3",
   "language": "python",
   "name": "python3"
  },
  "language_info": {
   "codemirror_mode": {
    "name": "ipython",
    "version": 3
   },
   "file_extension": ".py",
   "mimetype": "text/x-python",
   "name": "python",
   "nbconvert_exporter": "python",
   "pygments_lexer": "ipython3",
   "version": "3.4.4"
  }
 },
 "nbformat": 4,
 "nbformat_minor": 0
}
