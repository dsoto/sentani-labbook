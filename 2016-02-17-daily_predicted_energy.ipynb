{
 "cells": [
  {
   "cell_type": "markdown",
   "metadata": {},
   "source": [
    "# Electricity estimations\n",
    "\n",
    "This builds directly on Matt Rosi's recent work.\n",
    "\n",
    "This approach uses single-point estimates of the power of appliances along with reported durations of appliance use to get a per-household projection of electricity use.\n",
    "\n",
    "We see what we expect, that the reported appliance use implies an electricity use that is larger in grid-connected areas.\n",
    "\n",
    "Questions:\n",
    "\n",
    "- What causes the higher spread in the grid estimates?\n",
    "- Should we be filling nulls with zeros?\n",
    "- How many results have nulls?"
   ]
  },
  {
   "cell_type": "code",
   "execution_count": 1,
   "metadata": {
    "collapsed": true
   },
   "outputs": [],
   "source": [
    "from drs_sentani import get_survey\n",
    "import pandas as pd\n",
    "survey = get_survey()\n",
    "import pysentani as sti\n",
    "survey['access_type'] = sti.access_type(survey)\n",
    "\n",
    "# we may want to do this more fine-grained so we know what we are omitting\n",
    "survey = survey.fillna(0)"
   ]
  },
  {
   "cell_type": "markdown",
   "metadata": {},
   "source": [
    "$$daily\\ energy(kWh) = \\left(\\frac{use\\ times\\ per\\ week * hours\\ per\\ use}{7}\\right)power(kW)$$"
   ]
  },
  {
   "cell_type": "code",
   "execution_count": 2,
   "metadata": {
    "collapsed": false
   },
   "outputs": [],
   "source": [
    "powers = {'TV':0.075, 'fridge':0.200, 'radio':0.100, 'fan':0.135, 'rice_cooker':0.700, 'lighting':0.400}\n",
    "appliance_list = ['TV', 'fridge', 'radio', 'fan', 'rice_cooker', 'lighting']\n",
    "\n",
    "for appliance in appliance_list:\n",
    "    # create column label from appliance names\n",
    "    wk_col = 'app_{}_per_wk'.format(appliance)\n",
    "    hr_col = 'app_{}_hrs'.format(appliance)\n",
    "    energy_col = 'daily_{}_energy'.format(appliance)\n",
    "    weekly_hr_col = 'weekly_{}_hrs'.format(appliance)\n",
    "    survey[weekly_hr_col] = survey[wk_col] * survey[hr_col]    \n",
    "    survey[energy_col] = survey[weekly_hr_col] / 7 * powers[appliance]\n",
    "    "
   ]
  },
  {
   "cell_type": "markdown",
   "metadata": {},
   "source": [
    "Summing individual appliance daily energy to create total daily energy.\n",
    "Better mathematical representation is needed here. Will need to incorporate sigma notation at some point."
   ]
  },
  {
   "cell_type": "code",
   "execution_count": 4,
   "metadata": {
    "collapsed": false
   },
   "outputs": [],
   "source": [
    "survey['total_daily_energy'] = (survey['daily_TV_energy'] + survey['daily_fridge_energy'] +\n",
    "                                survey['daily_radio_energy'] + survey['daily_fan_energy'] +\n",
    "                                survey['daily_rice_cooker_energy'] + survey['daily_lighting_energy'])"
   ]
  },
  {
   "cell_type": "markdown",
   "metadata": {},
   "source": [
    "Grouping by daily energy totals. The mean of daily energy is taken and applied across village name and access type columns. Daily energy renamed because it now represents the daily energy mean per each household in kWh. Qgrid is used to enable sorting accross data subset."
   ]
  },
  {
   "cell_type": "code",
   "execution_count": 5,
   "metadata": {
    "collapsed": false
   },
   "outputs": [
    {
     "data": {
      "text/html": [
       "<div>\n",
       "<table border=\"1\" class=\"dataframe\">\n",
       "  <thead>\n",
       "    <tr style=\"text-align: right;\">\n",
       "      <th></th>\n",
       "      <th>daily_energy_mean</th>\n",
       "      <th>access_type</th>\n",
       "      <th>village_name</th>\n",
       "    </tr>\n",
       "  </thead>\n",
       "  <tbody>\n",
       "    <tr>\n",
       "      <th>0</th>\n",
       "      <td>0.500000</td>\n",
       "      <td>no_access</td>\n",
       "      <td>Puai</td>\n",
       "    </tr>\n",
       "    <tr>\n",
       "      <th>1</th>\n",
       "      <td>0.578571</td>\n",
       "      <td>no_access</td>\n",
       "      <td>Abar</td>\n",
       "    </tr>\n",
       "    <tr>\n",
       "      <th>2</th>\n",
       "      <td>0.225000</td>\n",
       "      <td>no_access</td>\n",
       "      <td>Abar</td>\n",
       "    </tr>\n",
       "    <tr>\n",
       "      <th>3</th>\n",
       "      <td>0.957143</td>\n",
       "      <td>no_access</td>\n",
       "      <td>Abar</td>\n",
       "    </tr>\n",
       "    <tr>\n",
       "      <th>4</th>\n",
       "      <td>2.400000</td>\n",
       "      <td>no_access</td>\n",
       "      <td>Abar</td>\n",
       "    </tr>\n",
       "  </tbody>\n",
       "</table>\n",
       "</div>"
      ],
      "text/plain": [
       "   daily_energy_mean access_type village_name\n",
       "0           0.500000   no_access         Puai\n",
       "1           0.578571   no_access         Abar\n",
       "2           0.225000   no_access         Abar\n",
       "3           0.957143   no_access         Abar\n",
       "4           2.400000   no_access         Abar"
      ]
     },
     "execution_count": 5,
     "metadata": {},
     "output_type": "execute_result"
    }
   ],
   "source": [
    "survey.rename(columns={'total_daily_energy': 'daily_energy_mean'},inplace = True)\n",
    "subsurvey = survey[['daily_energy_mean','access_type','village_name']]\n",
    "subsurvey.head()"
   ]
  },
  {
   "cell_type": "code",
   "execution_count": 6,
   "metadata": {
    "collapsed": false
   },
   "outputs": [
    {
     "data": {
      "text/html": [
       "<div>\n",
       "<table border=\"1\" class=\"dataframe\">\n",
       "  <thead>\n",
       "    <tr style=\"text-align: right;\">\n",
       "      <th></th>\n",
       "      <th>daily_energy_mean</th>\n",
       "      <th>village_name</th>\n",
       "    </tr>\n",
       "    <tr>\n",
       "      <th>village_name</th>\n",
       "      <th></th>\n",
       "      <th></th>\n",
       "    </tr>\n",
       "  </thead>\n",
       "  <tbody>\n",
       "    <tr>\n",
       "      <th>Abar</th>\n",
       "      <td>1740.133168</td>\n",
       "      <td>Abar</td>\n",
       "    </tr>\n",
       "    <tr>\n",
       "      <th>Ajau</th>\n",
       "      <td>5.736990</td>\n",
       "      <td>Ajau</td>\n",
       "    </tr>\n",
       "    <tr>\n",
       "      <th>Asei</th>\n",
       "      <td>7.919039</td>\n",
       "      <td>Asei</td>\n",
       "    </tr>\n",
       "    <tr>\n",
       "      <th>Atamali</th>\n",
       "      <td>2.935612</td>\n",
       "      <td>Atamali</td>\n",
       "    </tr>\n",
       "    <tr>\n",
       "      <th>Ayapo</th>\n",
       "      <td>2.911036</td>\n",
       "      <td>Ayapo</td>\n",
       "    </tr>\n",
       "  </tbody>\n",
       "</table>\n",
       "</div>"
      ],
      "text/plain": [
       "              daily_energy_mean village_name\n",
       "village_name                                \n",
       "Abar                1740.133168         Abar\n",
       "Ajau                   5.736990         Ajau\n",
       "Asei                   7.919039         Asei\n",
       "Atamali                2.935612      Atamali\n",
       "Ayapo                  2.911036        Ayapo"
      ]
     },
     "execution_count": 6,
     "metadata": {},
     "output_type": "execute_result"
    }
   ],
   "source": [
    "# the index name is giving me fits here\n",
    "sort = subsurvey.groupby(['village_name']).mean()\n",
    "sort['village_name'] = sort.index\n",
    "sort.head()"
   ]
  },
  {
   "cell_type": "code",
   "execution_count": 38,
   "metadata": {
    "collapsed": false
   },
   "outputs": [
    {
     "data": {
      "text/html": [
       "<div>\n",
       "<table border=\"1\" class=\"dataframe\">\n",
       "  <thead>\n",
       "    <tr style=\"text-align: right;\">\n",
       "      <th></th>\n",
       "      <th>daily_energy_mean</th>\n",
       "      <th>village_name</th>\n",
       "      <th>access_type</th>\n",
       "    </tr>\n",
       "    <tr>\n",
       "      <th>village_name</th>\n",
       "      <th></th>\n",
       "      <th></th>\n",
       "      <th></th>\n",
       "    </tr>\n",
       "  </thead>\n",
       "  <tbody>\n",
       "    <tr>\n",
       "      <th>Abar</th>\n",
       "      <td>1740.133168</td>\n",
       "      <td>Abar</td>\n",
       "      <td>no_access</td>\n",
       "    </tr>\n",
       "    <tr>\n",
       "      <th>Ajau</th>\n",
       "      <td>5.736990</td>\n",
       "      <td>Ajau</td>\n",
       "      <td>PLN_grid</td>\n",
       "    </tr>\n",
       "    <tr>\n",
       "      <th>Asei</th>\n",
       "      <td>7.919039</td>\n",
       "      <td>Asei</td>\n",
       "      <td>PLN_grid</td>\n",
       "    </tr>\n",
       "    <tr>\n",
       "      <th>Atamali</th>\n",
       "      <td>2.935612</td>\n",
       "      <td>Atamali</td>\n",
       "      <td>community_microgrid</td>\n",
       "    </tr>\n",
       "    <tr>\n",
       "      <th>Ayapo</th>\n",
       "      <td>2.911036</td>\n",
       "      <td>Ayapo</td>\n",
       "      <td>PLN_microgrid</td>\n",
       "    </tr>\n",
       "  </tbody>\n",
       "</table>\n",
       "</div>"
      ],
      "text/plain": [
       "              daily_energy_mean village_name          access_type\n",
       "village_name                                                     \n",
       "Abar                1740.133168         Abar            no_access\n",
       "Ajau                   5.736990         Ajau             PLN_grid\n",
       "Asei                   7.919039         Asei             PLN_grid\n",
       "Atamali                2.935612      Atamali  community_microgrid\n",
       "Ayapo                  2.911036        Ayapo        PLN_microgrid"
      ]
     },
     "execution_count": 38,
     "metadata": {},
     "output_type": "execute_result"
    }
   ],
   "source": [
    "sort['access_type'] = sti.access_type(sort)\n",
    "sort.head()"
   ]
  },
  {
   "cell_type": "code",
   "execution_count": 41,
   "metadata": {
    "collapsed": false
   },
   "outputs": [
    {
     "data": {
      "text/plain": [
       "(0, 20)"
      ]
     },
     "execution_count": 41,
     "metadata": {},
     "output_type": "execute_result"
    },
    {
     "data": {
      "image/png": "[encoded data removed]",
      "text/plain": [
       "<matplotlib.figure.Figure at 0x112ad90f0>"
      ]
     },
     "metadata": {},
     "output_type": "display_data"
    }
   ],
   "source": [
    "%matplotlib inline\n",
    "import seaborn as sns\n",
    "\n",
    "ax = sns.boxplot(data=sort, x='access_type', y='daily_energy_mean')\n",
    "# note this omits several outliers from view\n",
    "ax.set_ylim(0, 20)"
   ]
  },
  {
   "cell_type": "code",
   "execution_count": null,
   "metadata": {
    "collapsed": true
   },
   "outputs": [],
   "source": []
  }
 ],
 "metadata": {
  "kernelspec": {
   "display_name": "Python 3",
   "language": "python",
   "name": "python3"
  },
  "language_info": {
   "codemirror_mode": {
    "name": "ipython",
    "version": 3
   },
   "file_extension": ".py",
   "mimetype": "text/x-python",
   "name": "python",
   "nbconvert_exporter": "python",
   "pygments_lexer": "ipython3",
   "version": "3.4.4"
  }
 },
 "nbformat": 4,
 "nbformat_minor": 0
}
