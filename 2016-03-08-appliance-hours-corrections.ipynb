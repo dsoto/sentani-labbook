{
 "cells": [
  {
   "cell_type": "markdown",
   "metadata": {},
   "source": [
    "# Correcting for non-responses in appliance hour survey data\n",
    "\n",
    "In my 2016-03-02 notebook, I showed that there are households that said they own an appliance but did not respond to questions about how many hours they used these appliances.\n",
    "\n",
    "\n",
    "We want to be sure that we are extrapolating correctly from our\n",
    "appliance survey to the whole population.  For example if null responses\n",
    "for the hours used by an appliance mean the household doesn't use that\n",
    "appliance, then we should count that as a zero and the mean over all\n",
    "households in the population will be correct.  If however, the household\n",
    "owns the appliance and doesn't answer the hours survey question, then we\n",
    "should assign that person the mean of the other responses.\n",
    "\n",
    "| TV yes/no | TV hours |\n",
    "| -         | -        |\n",
    "| 1         | 6        |\n",
    "| 1         | null     |\n",
    "| 0         | 6        |\n",
    "| 0         | null     |\n",
    "\n",
    "The second line is important to check for and the third line should not\n",
    "happen.  The third line shouldn't occur because the survey uses the\n",
    "`selected()` command in the relevant column so that only respondents\n",
    "owning the appropriate appliance are asked the question.  This is per\n",
    "appliance.\n",
    "\n",
    "One next step is to create a calculation that accounts for this\n",
    "discrepancy and makes a comparison of its result.\n",
    "\n",
    "\n",
    "For determining the fraction of households possessing an appliance, we include surveys that have \n",
    "\n",
    "\n",
    "TODO:\n",
    "\n",
    "- what fraction of households surveyed posess each appliance\n",
    "- what is the average hours per week for each appliance type?\n",
    "- what is the average hours per week of each appliance type use across the survey?\n",
    "\n"
   ]
  },
  {
   "cell_type": "code",
   "execution_count": 54,
   "metadata": {
    "collapsed": true
   },
   "outputs": [],
   "source": [
    "%matplotlib inline\n",
    "import seaborn as sns\n",
    "import matplotlib.pyplot as plt\n",
    "\n",
    "from drs_sentani import get_survey\n",
    "import pandas as pd\n",
    "survey = get_survey()\n",
    "import pysentani as sti\n",
    "\n",
    "survey['access_type'] = sti.access_type(survey)"
   ]
  },
  {
   "cell_type": "code",
   "execution_count": 3,
   "metadata": {
    "collapsed": false
   },
   "outputs": [
    {
     "data": {
      "text/html": [
       "<div>\n",
       "<table border=\"1\" class=\"dataframe\">\n",
       "  <thead>\n",
       "    <tr style=\"text-align: right;\">\n",
       "      <th></th>\n",
       "      <th>app_now/TV</th>\n",
       "      <th>app_now/fridge</th>\n",
       "      <th>app_now/radio</th>\n",
       "      <th>app_now/fan</th>\n",
       "      <th>app_now/rice_cooker</th>\n",
       "      <th>app_now/lighting</th>\n",
       "      <th>access_type</th>\n",
       "    </tr>\n",
       "    <tr>\n",
       "      <th>access_type</th>\n",
       "      <th></th>\n",
       "      <th></th>\n",
       "      <th></th>\n",
       "      <th></th>\n",
       "      <th></th>\n",
       "      <th></th>\n",
       "      <th></th>\n",
       "    </tr>\n",
       "  </thead>\n",
       "  <tbody>\n",
       "    <tr>\n",
       "      <th>PLN_grid</th>\n",
       "      <td>0.815141</td>\n",
       "      <td>0.329225</td>\n",
       "      <td>0.301056</td>\n",
       "      <td>0.176056</td>\n",
       "      <td>0.276408</td>\n",
       "      <td>0.931338</td>\n",
       "      <td>PLN_grid</td>\n",
       "    </tr>\n",
       "    <tr>\n",
       "      <th>PLN_microgrid</th>\n",
       "      <td>0.810127</td>\n",
       "      <td>0.037975</td>\n",
       "      <td>0.278481</td>\n",
       "      <td>0.025316</td>\n",
       "      <td>0.012658</td>\n",
       "      <td>0.949367</td>\n",
       "      <td>PLN_microgrid</td>\n",
       "    </tr>\n",
       "    <tr>\n",
       "      <th>community_microgrid</th>\n",
       "      <td>0.923077</td>\n",
       "      <td>0.019231</td>\n",
       "      <td>0.500000</td>\n",
       "      <td>0.096154</td>\n",
       "      <td>0.134615</td>\n",
       "      <td>0.865385</td>\n",
       "      <td>community_microgrid</td>\n",
       "    </tr>\n",
       "    <tr>\n",
       "      <th>no_access</th>\n",
       "      <td>0.797665</td>\n",
       "      <td>0.015564</td>\n",
       "      <td>0.431907</td>\n",
       "      <td>0.081712</td>\n",
       "      <td>0.031128</td>\n",
       "      <td>0.883268</td>\n",
       "      <td>no_access</td>\n",
       "    </tr>\n",
       "  </tbody>\n",
       "</table>\n",
       "</div>"
      ],
      "text/plain": [
       "                     app_now/TV  app_now/fridge  app_now/radio  app_now/fan  \\\n",
       "access_type                                                                   \n",
       "PLN_grid               0.815141        0.329225       0.301056     0.176056   \n",
       "PLN_microgrid          0.810127        0.037975       0.278481     0.025316   \n",
       "community_microgrid    0.923077        0.019231       0.500000     0.096154   \n",
       "no_access              0.797665        0.015564       0.431907     0.081712   \n",
       "\n",
       "                     app_now/rice_cooker  app_now/lighting  \\\n",
       "access_type                                                  \n",
       "PLN_grid                        0.276408          0.931338   \n",
       "PLN_microgrid                   0.012658          0.949367   \n",
       "community_microgrid             0.134615          0.865385   \n",
       "no_access                       0.031128          0.883268   \n",
       "\n",
       "                             access_type  \n",
       "access_type                               \n",
       "PLN_grid                        PLN_grid  \n",
       "PLN_microgrid              PLN_microgrid  \n",
       "community_microgrid  community_microgrid  \n",
       "no_access                      no_access  "
      ]
     },
     "execution_count": 3,
     "metadata": {},
     "output_type": "execute_result"
    }
   ],
   "source": [
    "# filter data for appliance ownership\n",
    "appliance_list = ['TV', 'fridge', 'radio', 'fan', 'rice_cooker', 'lighting']\n",
    "columns = ['app_now/{}'.format(a) for a in appliance_list]\n",
    "columns.append('access_type')\n",
    "appliance_data = survey[columns]\n",
    "\n",
    "\n",
    "# the mean function disregards null values\n",
    "appliance_data.groupby('access_type').mean()\n",
    "gbad = appliance_data.groupby('access_type').mean()\n",
    "gbad['access_type'] = gbad.index\n",
    "gbad"
   ]
  },
  {
   "cell_type": "code",
   "execution_count": 4,
   "metadata": {
    "collapsed": false
   },
   "outputs": [
    {
     "data": {
      "text/html": [
       "<div>\n",
       "<table border=\"1\" class=\"dataframe\">\n",
       "  <thead>\n",
       "    <tr style=\"text-align: right;\">\n",
       "      <th></th>\n",
       "      <th>access_type</th>\n",
       "      <th>variable</th>\n",
       "      <th>value</th>\n",
       "    </tr>\n",
       "  </thead>\n",
       "  <tbody>\n",
       "    <tr>\n",
       "      <th>0</th>\n",
       "      <td>PLN_grid</td>\n",
       "      <td>app_now/TV</td>\n",
       "      <td>0.815141</td>\n",
       "    </tr>\n",
       "    <tr>\n",
       "      <th>1</th>\n",
       "      <td>PLN_microgrid</td>\n",
       "      <td>app_now/TV</td>\n",
       "      <td>0.810127</td>\n",
       "    </tr>\n",
       "    <tr>\n",
       "      <th>2</th>\n",
       "      <td>community_microgrid</td>\n",
       "      <td>app_now/TV</td>\n",
       "      <td>0.923077</td>\n",
       "    </tr>\n",
       "    <tr>\n",
       "      <th>3</th>\n",
       "      <td>no_access</td>\n",
       "      <td>app_now/TV</td>\n",
       "      <td>0.797665</td>\n",
       "    </tr>\n",
       "    <tr>\n",
       "      <th>4</th>\n",
       "      <td>PLN_grid</td>\n",
       "      <td>app_now/fridge</td>\n",
       "      <td>0.329225</td>\n",
       "    </tr>\n",
       "  </tbody>\n",
       "</table>\n",
       "</div>"
      ],
      "text/plain": [
       "           access_type        variable     value\n",
       "0             PLN_grid      app_now/TV  0.815141\n",
       "1        PLN_microgrid      app_now/TV  0.810127\n",
       "2  community_microgrid      app_now/TV  0.923077\n",
       "3            no_access      app_now/TV  0.797665\n",
       "4             PLN_grid  app_now/fridge  0.329225"
      ]
     },
     "execution_count": 4,
     "metadata": {},
     "output_type": "execute_result"
    }
   ],
   "source": [
    "# convert table of mean values to tidy format and plot\n",
    "columns = ['app_now/{}'.format(a) for a in appliance_list]\n",
    "mgbad = pd.melt(gbad, value_vars=columns, id_vars=['access_type'])\n",
    "mgbad.head()"
   ]
  },
  {
   "cell_type": "code",
   "execution_count": 5,
   "metadata": {
    "collapsed": false
   },
   "outputs": [
    {
     "data": {
      "text/plain": [
       "<matplotlib.axes._subplots.AxesSubplot at 0x10f160390>"
      ]
     },
     "execution_count": 5,
     "metadata": {},
     "output_type": "execute_result"
    },
    {
     "data": {
      "image/png": "[encoded data removed]",
      "text/plain": [
       "<matplotlib.figure.Figure at 0x10f142908>"
      ]
     },
     "metadata": {},
     "output_type": "display_data"
    }
   ],
   "source": [
    "sns.barplot(data=mgbad, hue=mgbad['access_type'], y=mgbad['value'], x=mgbad['variable'])"
   ]
  },
  {
   "cell_type": "markdown",
   "metadata": {},
   "source": [
    "# Next steps\n",
    "\n",
    "Perform a similar analysis for hours per week and consider non-responses correctly.  We also need to filter out hours and weekly responses that don't make sense.  If hours per day is over 24 make null.  If use per week is greater than 7 make null.  "
   ]
  },
  {
   "cell_type": "code",
   "execution_count": 31,
   "metadata": {
    "collapsed": false
   },
   "outputs": [
    {
     "name": "stdout",
     "output_type": "stream",
     "text": [
      "count    810.000000\n",
      "mean      46.744444\n",
      "std       37.695713\n",
      "min        0.000000\n",
      "25%       21.000000\n",
      "50%       42.000000\n",
      "75%       56.000000\n",
      "max      576.000000\n",
      "Name: weekly_TV_hrs, dtype: float64\n",
      "count    340.000000\n",
      "mean      25.691176\n",
      "std       40.385698\n",
      "min        0.000000\n",
      "25%        8.000000\n",
      "50%       14.000000\n",
      "75%       35.000000\n",
      "max      576.000000\n",
      "Name: weekly_radio_hrs, dtype: float64\n",
      "count       193.000000\n",
      "mean        788.735751\n",
      "std        8625.967258\n",
      "min           0.000000\n",
      "25%         168.000000\n",
      "50%         168.000000\n",
      "75%         168.000000\n",
      "max      120000.000000\n",
      "Name: weekly_fridge_hrs, dtype: float64\n"
     ]
    },
    {
     "name": "stderr",
     "output_type": "stream",
     "text": [
      "/Users/dsoto/anaconda/envs/sotolab/lib/python3.4/site-packages/ipykernel/__main__.py:18: SettingWithCopyWarning: \n",
      "A value is trying to be set on a copy of a slice from a DataFrame.\n",
      "Try using .loc[row_indexer,col_indexer] = value instead\n",
      "\n",
      "See the caveats in the documentation: http://pandas.pydata.org/pandas-docs/stable/indexing.html#indexing-view-versus-copy\n"
     ]
    }
   ],
   "source": [
    "for app in ['TV', 'radio', 'fridge']:\n",
    "    #app = 'TV'\n",
    "    data_columns = [a.format(app) for a in ['app_now/{}', 'app_{}_hrs', 'app_{}_per_wk']]\n",
    "    data_maps = {'own':'app_now/{}',\n",
    "                    'hours_per_use':'app_{}_hrs', \n",
    "                    'use_per_week':'app_{}_per_wk'}\n",
    "    data_columns = {k: v.format(app) for k, v in data_maps.items()}\n",
    "\n",
    "    label_columns = ['village_name', 'access_type']\n",
    "\n",
    "    data_columns.values()\n",
    "\n",
    "    app_data = survey[list(data_columns.values()) + label_columns]\n",
    "\n",
    "    app_owners = app_data[app_data[data_columns['own']]==1]\n",
    "\n",
    "    weekly_hr_col = 'weekly_{}_hrs'.format(app)\n",
    "    app_owners[weekly_hr_col] = app_owners[data_columns['hours_per_use']] * app_owners[data_columns['use_per_week']]    \n",
    "    \n",
    "    print(app_owners[weekly_hr_col].describe())"
   ]
  },
  {
   "cell_type": "code",
   "execution_count": 27,
   "metadata": {
    "collapsed": false
   },
   "outputs": [
    {
     "name": "stderr",
     "output_type": "stream",
     "text": [
      "/Users/dsoto/anaconda/envs/sotolab/lib/python3.4/site-packages/pandas/core/frame.py:2705: SettingWithCopyWarning: \n",
      "A value is trying to be set on a copy of a slice from a DataFrame\n",
      "\n",
      "See the caveats in the documentation: http://pandas.pydata.org/pandas-docs/stable/indexing.html#indexing-view-versus-copy\n",
      "  **kwargs)\n",
      "/Users/dsoto/anaconda/envs/sotolab/lib/python3.4/site-packages/ipykernel/__main__.py:18: SettingWithCopyWarning: \n",
      "A value is trying to be set on a copy of a slice from a DataFrame.\n",
      "Try using .loc[row_indexer,col_indexer] = value instead\n",
      "\n",
      "See the caveats in the documentation: http://pandas.pydata.org/pandas-docs/stable/indexing.html#indexing-view-versus-copy\n"
     ]
    },
    {
     "data": {
      "text/plain": [
       "count    844.000000\n",
       "mean      44.861374\n",
       "std       38.055662\n",
       "min        0.000000\n",
       "25%       21.000000\n",
       "50%       42.000000\n",
       "75%       56.000000\n",
       "max      576.000000\n",
       "Name: weekly_TV_hrs, dtype: float64"
      ]
     },
     "execution_count": 27,
     "metadata": {},
     "output_type": "execute_result"
    }
   ],
   "source": [
    "app = 'TV'\n",
    "data_columns = [a.format(app) for a in ['app_now/{}', 'app_{}_hrs', 'app_{}_per_wk']]\n",
    "data_maps = {'own':'app_now/{}',\n",
    "                'hours_per_use':'app_{}_hrs', \n",
    "                'use_per_week':'app_{}_per_wk'}\n",
    "data_columns = {k: v.format(app) for k, v in data_maps.items()}\n",
    "\n",
    "label_columns = ['village_name', 'access_type']\n",
    "\n",
    "data_columns.values()\n",
    "\n",
    "app_data = survey[list(data_columns.values()) + label_columns]\n",
    "\n",
    "app_owners = app_data[app_data[data_columns['own']]==1]\n",
    "app_owners.fillna(0, inplace=True)\n",
    "\n",
    "weekly_hr_col = 'weekly_{}_hrs'.format(app)\n",
    "app_owners[weekly_hr_col] = app_owners[data_columns['hours_per_use']] * app_owners[data_columns['use_per_week']]   \n",
    "app_owners[weekly_hr_col].describe()"
   ]
  },
  {
   "cell_type": "code",
   "execution_count": 65,
   "metadata": {
    "collapsed": false
   },
   "outputs": [
    {
     "name": "stdout",
     "output_type": "stream",
     "text": [
      "count    811.000000\n",
      "mean       6.903822\n",
      "std        4.524078\n",
      "min        0.000000\n",
      "25%        4.000000\n",
      "50%        6.000000\n",
      "75%        8.000000\n",
      "max       24.000000\n",
      "Name: app_TV_hrs, dtype: float64\n",
      "count    811.000000\n",
      "mean       6.903822\n",
      "std        4.524078\n",
      "min        0.000000\n",
      "25%        4.000000\n",
      "50%        6.000000\n",
      "75%        8.000000\n",
      "max       24.000000\n",
      "Name: app_TV_hrs, dtype: float64\n",
      "count    810.000000\n",
      "mean       6.488889\n",
      "std        1.529439\n",
      "min        0.000000\n",
      "25%        7.000000\n",
      "50%        7.000000\n",
      "75%        7.000000\n",
      "max       24.000000\n",
      "Name: app_TV_per_wk, dtype: float64\n",
      "count    810.000000\n",
      "mean       6.449383\n",
      "std        1.360953\n",
      "min        0.000000\n",
      "25%        7.000000\n",
      "50%        7.000000\n",
      "75%        7.000000\n",
      "max        7.000000\n",
      "Name: app_TV_per_wk, dtype: float64\n",
      "count    341.000000\n",
      "mean       4.108504\n",
      "std        4.031124\n",
      "min        0.000000\n",
      "25%        2.000000\n",
      "50%        3.000000\n",
      "75%        5.000000\n",
      "max       24.000000\n",
      "Name: app_radio_hrs, dtype: float64\n",
      "count    341.000000\n",
      "mean       4.108504\n",
      "std        4.031124\n",
      "min        0.000000\n",
      "25%        2.000000\n",
      "50%        3.000000\n",
      "75%        5.000000\n",
      "max       24.000000\n",
      "Name: app_radio_hrs, dtype: float64\n",
      "count    342.000000\n",
      "mean       5.517544\n",
      "std        2.262401\n",
      "min        0.000000\n",
      "25%        4.000000\n",
      "50%        7.000000\n",
      "75%        7.000000\n",
      "max       24.000000\n",
      "Name: app_radio_per_wk, dtype: float64\n",
      "count    342.000000\n",
      "mean       5.467836\n",
      "std        2.029942\n",
      "min        0.000000\n",
      "25%        4.000000\n",
      "50%        7.000000\n",
      "75%        7.000000\n",
      "max        7.000000\n",
      "Name: app_radio_per_wk, dtype: float64\n",
      "count    193.000000\n",
      "mean      22.823834\n",
      "std        4.432368\n",
      "min        0.000000\n",
      "25%       24.000000\n",
      "50%       24.000000\n",
      "75%       24.000000\n",
      "max       24.000000\n",
      "Name: app_fridge_hrs, dtype: float64\n",
      "count    193.000000\n",
      "mean      22.823834\n",
      "std        4.432368\n",
      "min        0.000000\n",
      "25%       24.000000\n",
      "50%       24.000000\n",
      "75%       24.000000\n",
      "max       24.000000\n",
      "Name: app_fridge_hrs, dtype: float64\n",
      "count      193.000000\n",
      "mean       110.901554\n",
      "std       1439.107914\n",
      "min          0.000000\n",
      "25%          7.000000\n",
      "50%          7.000000\n",
      "75%          7.000000\n",
      "max      20000.000000\n",
      "Name: app_fridge_per_wk, dtype: float64\n",
      "count    193.000000\n",
      "mean       6.870466\n",
      "std        0.742187\n",
      "min        0.000000\n",
      "25%        7.000000\n",
      "50%        7.000000\n",
      "75%        7.000000\n",
      "max        7.000000\n",
      "Name: app_fridge_per_wk, dtype: float64\n"
     ]
    }
   ],
   "source": [
    "# testing a method for filtering bad responses\n",
    "\n",
    "import numpy as np\n",
    "survey_copy = survey.copy(deep=True)\n",
    "\n",
    "for app in ['TV', 'radio', 'fridge']:\n",
    "    #app = 'TV'\n",
    "    wk_col = 'app_{}_per_wk'.format(app)\n",
    "    hr_col = 'app_{}_hrs'.format(app)\n",
    "    energy_col = 'daily_{}_energy'.format(app)\n",
    "    weekly_hr_col = 'weekly_{}_hrs'.format(app)\n",
    "    print(survey_copy[hr_col].describe())\n",
    "    survey_copy[hr_col] = survey_copy[hr_col].where(survey_copy[hr_col].isnull() | (survey_copy[hr_col] <= 24), 24)\n",
    "    print(survey_copy[hr_col].describe())\n",
    "    print(survey_copy[wk_col].describe())\n",
    "    survey_copy[wk_col] = survey_copy[wk_col].where(survey_copy[wk_col].isnull() | (survey_copy[wk_col] <= 7), 7)\n",
    "    print(survey_copy[wk_col].describe())\n"
   ]
  }
 ],
 "metadata": {
  "kernelspec": {
   "display_name": "Python 3",
   "language": "python",
   "name": "python3"
  },
  "language_info": {
   "codemirror_mode": {
    "name": "ipython",
    "version": 3
   },
   "file_extension": ".py",
   "mimetype": "text/x-python",
   "name": "python",
   "nbconvert_exporter": "python",
   "pygments_lexer": "ipython3",
   "version": "3.4.4"
  }
 },
 "nbformat": 4,
 "nbformat_minor": 0
}
