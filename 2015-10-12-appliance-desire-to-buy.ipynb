{
 "cells": [
  {
   "cell_type": "markdown",
   "metadata": {},
   "source": [
    "This notebook shows a method to estimate the latent demand of an appliance using our survey data."
   ]
  },
  {
   "cell_type": "code",
   "execution_count": 1,
   "metadata": {
    "collapsed": false
   },
   "outputs": [],
   "source": [
    "%matplotlib inline\n",
    "import pandas as pd\n",
    "import numpy as np\n",
    "import matplotlib.pyplot as plt\n",
    "import seaborn as sns\n",
    "from drs_sentani import get_survey\n",
    "survey = get_survey()\n",
    "import pysentani as sti"
   ]
  },
  {
   "cell_type": "markdown",
   "metadata": {},
   "source": [
    "For the calculation to capture only the households that do not have the item but wish to purchase it, we have the following truth table.  The new column, app will buy, should only be true for those \n",
    "\n",
    "| | | |\n",
    "|-|-|-|\n",
    "| app now | app buy | app will buy |\n",
    "|0|0|0 |\n",
    "|0|1|1 |\n",
    "|1|x|0 |\n",
    "\n",
    "So app will buy is not(app now) and (app buy)"
   ]
  },
  {
   "cell_type": "markdown",
   "metadata": {},
   "source": [
    "We calculate the derived column from the logical expression above."
   ]
  },
  {
   "cell_type": "code",
   "execution_count": 2,
   "metadata": {
    "collapsed": false
   },
   "outputs": [],
   "source": [
    "# this will need a way to make more compact\n",
    "# WB will buy or want to buy\n",
    "\n",
    "def calc_willingness(survey, appliance):\n",
    "    willing_label = 'WB' + appliance\n",
    "    app_now_appliance = 'app_now/' + appliance\n",
    "    app_buy_appliance = 'app_buy/' + appliance\n",
    "    #print(WBlabel, app_now_appliance, app_buy_appliance)\n",
    "    survey[willing_label] = ~survey[app_now_appliance].astype(bool) & survey[app_buy_appliance].astype(bool)\n",
    "\n",
    "appliance_list = ['fridge', 'rice_cooker', 'fan', 'radio', 'TV', 'lighting' ]\n",
    "\n",
    "WBlist = []\n",
    "for appliance in appliance_list:\n",
    "    calc_willingness(survey, appliance)\n",
    "    WBlist.append('WB' + appliance)\n",
    "#survey['WBTV'] = ~survey['app_now/TV'].astype(bool) & survey['app_buy/TV'].astype(bool)\n",
    "#survey['WBfan'] = ~survey['app_now/fan'].astype(bool) & survey['app_buy/fan'].astype(bool)\n",
    "\n"
   ]
  },
  {
   "cell_type": "markdown",
   "metadata": {},
   "source": [
    "We create a subset of the data with the columns we are interested in."
   ]
  },
  {
   "cell_type": "code",
   "execution_count": 3,
   "metadata": {
    "collapsed": false
   },
   "outputs": [],
   "source": [
    "survey['access_type'] = sti.access_type(survey)\n",
    "subsurvey = survey[['access_type'] + WBlist]"
   ]
  },
  {
   "cell_type": "markdown",
   "metadata": {},
   "source": [
    "We use a group by to get percentages for responding households.  Our final analysis should also include the number of households excluded for not reporting."
   ]
  },
  {
   "cell_type": "code",
   "execution_count": 4,
   "metadata": {
    "collapsed": false
   },
   "outputs": [
    {
     "data": {
      "text/html": [
       "<div>\n",
       "<table border=\"1\" class=\"dataframe\">\n",
       "  <thead>\n",
       "    <tr style=\"text-align: right;\">\n",
       "      <th></th>\n",
       "      <th>WBfridge</th>\n",
       "      <th>WBrice_cooker</th>\n",
       "      <th>WBfan</th>\n",
       "      <th>WBradio</th>\n",
       "      <th>WBTV</th>\n",
       "      <th>WBlighting</th>\n",
       "      <th>access_type</th>\n",
       "    </tr>\n",
       "    <tr>\n",
       "      <th>access_type</th>\n",
       "      <th></th>\n",
       "      <th></th>\n",
       "      <th></th>\n",
       "      <th></th>\n",
       "      <th></th>\n",
       "      <th></th>\n",
       "      <th></th>\n",
       "    </tr>\n",
       "  </thead>\n",
       "  <tbody>\n",
       "    <tr>\n",
       "      <th>PLN_grid</th>\n",
       "      <td>0.489499</td>\n",
       "      <td>0.323102</td>\n",
       "      <td>0.295638</td>\n",
       "      <td>0.206785</td>\n",
       "      <td>0.132472</td>\n",
       "      <td>0.021002</td>\n",
       "      <td>PLN_grid</td>\n",
       "    </tr>\n",
       "    <tr>\n",
       "      <th>PLN_microgrid</th>\n",
       "      <td>0.364706</td>\n",
       "      <td>0.382353</td>\n",
       "      <td>0.300000</td>\n",
       "      <td>0.229412</td>\n",
       "      <td>0.129412</td>\n",
       "      <td>0.023529</td>\n",
       "      <td>PLN_microgrid</td>\n",
       "    </tr>\n",
       "    <tr>\n",
       "      <th>community_microgrid</th>\n",
       "      <td>0.462963</td>\n",
       "      <td>0.407407</td>\n",
       "      <td>0.407407</td>\n",
       "      <td>0.203704</td>\n",
       "      <td>0.074074</td>\n",
       "      <td>0.074074</td>\n",
       "      <td>community_microgrid</td>\n",
       "    </tr>\n",
       "    <tr>\n",
       "      <th>no_access</th>\n",
       "      <td>0.466276</td>\n",
       "      <td>0.351906</td>\n",
       "      <td>0.340176</td>\n",
       "      <td>0.214076</td>\n",
       "      <td>0.126100</td>\n",
       "      <td>0.043988</td>\n",
       "      <td>no_access</td>\n",
       "    </tr>\n",
       "  </tbody>\n",
       "</table>\n",
       "</div>"
      ],
      "text/plain": [
       "                     WBfridge  WBrice_cooker     WBfan   WBradio      WBTV  \\\n",
       "access_type                                                                  \n",
       "PLN_grid             0.489499       0.323102  0.295638  0.206785  0.132472   \n",
       "PLN_microgrid        0.364706       0.382353  0.300000  0.229412  0.129412   \n",
       "community_microgrid  0.462963       0.407407  0.407407  0.203704  0.074074   \n",
       "no_access            0.466276       0.351906  0.340176  0.214076  0.126100   \n",
       "\n",
       "                     WBlighting          access_type  \n",
       "access_type                                           \n",
       "PLN_grid               0.021002             PLN_grid  \n",
       "PLN_microgrid          0.023529        PLN_microgrid  \n",
       "community_microgrid    0.074074  community_microgrid  \n",
       "no_access              0.043988            no_access  "
      ]
     },
     "execution_count": 4,
     "metadata": {},
     "output_type": "execute_result"
    }
   ],
   "source": [
    "analyzed = subsurvey.groupby('access_type').mean()\n",
    "# next line necessary because I can't get melted to use index\n",
    "analyzed['access_type'] = analyzed.index \n",
    "analyzed"
   ]
  },
  {
   "cell_type": "markdown",
   "metadata": {},
   "source": [
    "We melt the array into long or tidy format to facilitate plotting."
   ]
  },
  {
   "cell_type": "code",
   "execution_count": 5,
   "metadata": {
    "collapsed": false
   },
   "outputs": [
    {
     "data": {
      "text/html": [
       "<div>\n",
       "<table border=\"1\" class=\"dataframe\">\n",
       "  <thead>\n",
       "    <tr style=\"text-align: right;\">\n",
       "      <th></th>\n",
       "      <th>access_type</th>\n",
       "      <th>variable</th>\n",
       "      <th>Percent Ownership</th>\n",
       "    </tr>\n",
       "  </thead>\n",
       "  <tbody>\n",
       "    <tr>\n",
       "      <th>0</th>\n",
       "      <td>PLN_grid</td>\n",
       "      <td>WBfridge</td>\n",
       "      <td>0.489499</td>\n",
       "    </tr>\n",
       "    <tr>\n",
       "      <th>1</th>\n",
       "      <td>PLN_microgrid</td>\n",
       "      <td>WBfridge</td>\n",
       "      <td>0.364706</td>\n",
       "    </tr>\n",
       "    <tr>\n",
       "      <th>2</th>\n",
       "      <td>community_microgrid</td>\n",
       "      <td>WBfridge</td>\n",
       "      <td>0.462963</td>\n",
       "    </tr>\n",
       "    <tr>\n",
       "      <th>3</th>\n",
       "      <td>no_access</td>\n",
       "      <td>WBfridge</td>\n",
       "      <td>0.466276</td>\n",
       "    </tr>\n",
       "    <tr>\n",
       "      <th>4</th>\n",
       "      <td>PLN_grid</td>\n",
       "      <td>WBrice_cooker</td>\n",
       "      <td>0.323102</td>\n",
       "    </tr>\n",
       "    <tr>\n",
       "      <th>5</th>\n",
       "      <td>PLN_microgrid</td>\n",
       "      <td>WBrice_cooker</td>\n",
       "      <td>0.382353</td>\n",
       "    </tr>\n",
       "    <tr>\n",
       "      <th>6</th>\n",
       "      <td>community_microgrid</td>\n",
       "      <td>WBrice_cooker</td>\n",
       "      <td>0.407407</td>\n",
       "    </tr>\n",
       "    <tr>\n",
       "      <th>7</th>\n",
       "      <td>no_access</td>\n",
       "      <td>WBrice_cooker</td>\n",
       "      <td>0.351906</td>\n",
       "    </tr>\n",
       "    <tr>\n",
       "      <th>8</th>\n",
       "      <td>PLN_grid</td>\n",
       "      <td>WBfan</td>\n",
       "      <td>0.295638</td>\n",
       "    </tr>\n",
       "    <tr>\n",
       "      <th>9</th>\n",
       "      <td>PLN_microgrid</td>\n",
       "      <td>WBfan</td>\n",
       "      <td>0.300000</td>\n",
       "    </tr>\n",
       "    <tr>\n",
       "      <th>10</th>\n",
       "      <td>community_microgrid</td>\n",
       "      <td>WBfan</td>\n",
       "      <td>0.407407</td>\n",
       "    </tr>\n",
       "    <tr>\n",
       "      <th>11</th>\n",
       "      <td>no_access</td>\n",
       "      <td>WBfan</td>\n",
       "      <td>0.340176</td>\n",
       "    </tr>\n",
       "    <tr>\n",
       "      <th>12</th>\n",
       "      <td>PLN_grid</td>\n",
       "      <td>WBradio</td>\n",
       "      <td>0.206785</td>\n",
       "    </tr>\n",
       "    <tr>\n",
       "      <th>13</th>\n",
       "      <td>PLN_microgrid</td>\n",
       "      <td>WBradio</td>\n",
       "      <td>0.229412</td>\n",
       "    </tr>\n",
       "    <tr>\n",
       "      <th>14</th>\n",
       "      <td>community_microgrid</td>\n",
       "      <td>WBradio</td>\n",
       "      <td>0.203704</td>\n",
       "    </tr>\n",
       "    <tr>\n",
       "      <th>15</th>\n",
       "      <td>no_access</td>\n",
       "      <td>WBradio</td>\n",
       "      <td>0.214076</td>\n",
       "    </tr>\n",
       "    <tr>\n",
       "      <th>16</th>\n",
       "      <td>PLN_grid</td>\n",
       "      <td>WBTV</td>\n",
       "      <td>0.132472</td>\n",
       "    </tr>\n",
       "    <tr>\n",
       "      <th>17</th>\n",
       "      <td>PLN_microgrid</td>\n",
       "      <td>WBTV</td>\n",
       "      <td>0.129412</td>\n",
       "    </tr>\n",
       "    <tr>\n",
       "      <th>18</th>\n",
       "      <td>community_microgrid</td>\n",
       "      <td>WBTV</td>\n",
       "      <td>0.074074</td>\n",
       "    </tr>\n",
       "    <tr>\n",
       "      <th>19</th>\n",
       "      <td>no_access</td>\n",
       "      <td>WBTV</td>\n",
       "      <td>0.126100</td>\n",
       "    </tr>\n",
       "    <tr>\n",
       "      <th>20</th>\n",
       "      <td>PLN_grid</td>\n",
       "      <td>WBlighting</td>\n",
       "      <td>0.021002</td>\n",
       "    </tr>\n",
       "    <tr>\n",
       "      <th>21</th>\n",
       "      <td>PLN_microgrid</td>\n",
       "      <td>WBlighting</td>\n",
       "      <td>0.023529</td>\n",
       "    </tr>\n",
       "    <tr>\n",
       "      <th>22</th>\n",
       "      <td>community_microgrid</td>\n",
       "      <td>WBlighting</td>\n",
       "      <td>0.074074</td>\n",
       "    </tr>\n",
       "    <tr>\n",
       "      <th>23</th>\n",
       "      <td>no_access</td>\n",
       "      <td>WBlighting</td>\n",
       "      <td>0.043988</td>\n",
       "    </tr>\n",
       "  </tbody>\n",
       "</table>\n",
       "</div>"
      ],
      "text/plain": [
       "            access_type       variable  Percent Ownership\n",
       "0              PLN_grid       WBfridge           0.489499\n",
       "1         PLN_microgrid       WBfridge           0.364706\n",
       "2   community_microgrid       WBfridge           0.462963\n",
       "3             no_access       WBfridge           0.466276\n",
       "4              PLN_grid  WBrice_cooker           0.323102\n",
       "5         PLN_microgrid  WBrice_cooker           0.382353\n",
       "6   community_microgrid  WBrice_cooker           0.407407\n",
       "7             no_access  WBrice_cooker           0.351906\n",
       "8              PLN_grid          WBfan           0.295638\n",
       "9         PLN_microgrid          WBfan           0.300000\n",
       "10  community_microgrid          WBfan           0.407407\n",
       "11            no_access          WBfan           0.340176\n",
       "12             PLN_grid        WBradio           0.206785\n",
       "13        PLN_microgrid        WBradio           0.229412\n",
       "14  community_microgrid        WBradio           0.203704\n",
       "15            no_access        WBradio           0.214076\n",
       "16             PLN_grid           WBTV           0.132472\n",
       "17        PLN_microgrid           WBTV           0.129412\n",
       "18  community_microgrid           WBTV           0.074074\n",
       "19            no_access           WBTV           0.126100\n",
       "20             PLN_grid     WBlighting           0.021002\n",
       "21        PLN_microgrid     WBlighting           0.023529\n",
       "22  community_microgrid     WBlighting           0.074074\n",
       "23            no_access     WBlighting           0.043988"
      ]
     },
     "execution_count": 5,
     "metadata": {},
     "output_type": "execute_result"
    }
   ],
   "source": [
    "melted = pd.melt(analyzed, \n",
    "                 id_vars=['access_type'],\n",
    "                 value_vars=WBlist,\n",
    "                 value_name='Percent Ownership')\n",
    "melted"
   ]
  },
  {
   "cell_type": "code",
   "execution_count": 6,
   "metadata": {
    "collapsed": false
   },
   "outputs": [
    {
     "data": {
      "text/plain": [
       "<matplotlib.text.Text at 0x10a8f32b0>"
      ]
     },
     "execution_count": 6,
     "metadata": {},
     "output_type": "execute_result"
    },
    {
     "data": {
      "image/png": "[encoded data removed]",
      "text/plain": [
       "<matplotlib.figure.Figure at 0x10a75d780>"
      ]
     },
     "metadata": {},
     "output_type": "display_data"
    }
   ],
   "source": [
    "ax = sns.barplot(data=melted, x='variable', y='Percent Ownership', hue='access_type', order=WBlist)\n",
    "ax.set_xlabel('Appliance')\n",
    "ax.set_ylabel('Percent households without appliance willing to purchase')"
   ]
  },
  {
   "cell_type": "code",
   "execution_count": null,
   "metadata": {
    "collapsed": true
   },
   "outputs": [],
   "source": []
  }
 ],
 "metadata": {
  "kernelspec": {
   "display_name": "Python 3",
   "language": "python",
   "name": "python3"
  },
  "language_info": {
   "codemirror_mode": {
    "name": "ipython",
    "version": 3
   },
   "file_extension": ".py",
   "mimetype": "text/x-python",
   "name": "python",
   "nbconvert_exporter": "python",
   "pygments_lexer": "ipython3",
   "version": "3.4.3"
  }
 },
 "nbformat": 4,
 "nbformat_minor": 0
}
